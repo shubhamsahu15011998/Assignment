{
 "cells": [
  {
   "cell_type": "code",
   "execution_count": 1,
   "metadata": {},
   "outputs": [
    {
     "name": "stdout",
     "output_type": "stream",
     "text": [
      "Enter a string : shubham kumar sahu is working very hard for this assignment.\n",
      "Expected Result : shubham kumar $ahu i$ working very hard for thi$ a$$ignment.\n"
     ]
    }
   ],
   "source": [
    "#Q1.        Write a Python program to get the string from the given string where \n",
    "#           all the occurrence of its first char has been changed to '$,' except \n",
    "#           first char itself?\n",
    "\n",
    "string = input(\"Enter a string : \")\n",
    "while 1:\n",
    "    if(string[1:].find(string[0])!=-1):\n",
    "        string = string[0] + string[1:].replace(string[0],'$')\n",
    "    else :\n",
    "        break\n",
    "print(\"Expected Result :\",string)\n"
   ]
  },
  {
   "cell_type": "code",
   "execution_count": 2,
   "metadata": {},
   "outputs": [
    {
     "name": "stdout",
     "output_type": "stream",
     "text": [
      "Enter first string : rohit\n",
      "Enter second string : mohit\n",
      "Expected Result : mohit rohit\n"
     ]
    }
   ],
   "source": [
    "#Q2.        Write a Python program to get the single string from the two given \n",
    "#           strings, and separated by the space and swap the first two characters \n",
    "#           of each string?\n",
    "\n",
    "string_1 = input(\"Enter first string : \")\n",
    "string_2 = input(\"Enter second string : \")\n",
    "string = string_2[:2] + string_1[2:] + \" \" + string_1[:2] + string_2[2:]\n",
    "print(\"Expected Result :\",string)"
   ]
  },
  {
   "cell_type": "code",
   "execution_count": 3,
   "metadata": {},
   "outputs": [
    {
     "name": "stdout",
     "output_type": "stream",
     "text": [
      "Enter a string : smiling\n",
      "Expected Result : smilingly\n"
     ]
    }
   ],
   "source": [
    "#Q3.        Write the Python program to add 'ing' at the end of the given string \n",
    "#           (length of the string should be at least 3). If given string already \n",
    "#           ends with 'ing,' then add 'ly' instead. If string length of the given \n",
    "#           string is less than 3, leave it unchanged?\n",
    "\n",
    "string = input(\"Enter a string : \")\n",
    "\n",
    "if len(string)>=3:\n",
    "    if string[-3:]=='ing':\n",
    "        string = string + 'ly'\n",
    "    else : \n",
    "        string = string + 'ing'\n",
    "        \n",
    "print(\"Expected Result :\",string)\n"
   ]
  },
  {
   "cell_type": "code",
   "execution_count": 4,
   "metadata": {},
   "outputs": [
    {
     "name": "stdout",
     "output_type": "stream",
     "text": [
      "Enter a string :  she is not that kind of poor man although she appears to br the same\n",
      "Expected Result :  she is good man although she appears to br the same\n"
     ]
    }
   ],
   "source": [
    "#Q4.        Write the Python program to find the first appearance of the substring \n",
    "#           'not' and 'poor' from the given string, if 'not' follows the 'poor', \n",
    "#           replace the whole 'not'...' poor' substring with 'good'.Return the resulting string.\n",
    "\n",
    "string = input(\"Enter a string : \")\n",
    "\n",
    "f,l=0,0\n",
    "f = string.find('not')\n",
    "l = string.find('poor')\n",
    "\n",
    "if (f>0 and l>0):\n",
    "    string = string[0:f]+'good'+string[l+4:]\n",
    "   \n",
    "print(\"Expected Result :\",string)\n"
   ]
  },
  {
   "cell_type": "code",
   "execution_count": 5,
   "metadata": {},
   "outputs": [
    {
     "name": "stdout",
     "output_type": "stream",
     "text": [
      "Enter a string : shubham kumar sahu\n",
      "Expected Result : suhmkmrsh\n"
     ]
    }
   ],
   "source": [
    "#Q5.        Write the Python program to remove the characters which have odd index \n",
    "#           values of a given string.\n",
    "\n",
    "string = input(\"Enter a string : \")\n",
    "\n",
    "print(\"Expected Result :\",string[::2])\n"
   ]
  },
  {
   "cell_type": "code",
   "execution_count": 6,
   "metadata": {},
   "outputs": [
    {
     "name": "stdout",
     "output_type": "stream",
     "text": [
      "Enter a string : shubham\n",
      "Expected Result : amamamam\n"
     ]
    }
   ],
   "source": [
    "#Q6.        Write the Python function to get a string made of 4 copies of the last \n",
    "#           two characters of the specified string (length must be at least 2).\n",
    "\n",
    "string = input(\"Enter a string : \")\n",
    "\n",
    "if len(string)>=2:\n",
    "    string = 4*string[-2:]\n",
    "    \n",
    "print(\"Expected Result :\",string)\n",
    "    "
   ]
  },
  {
   "cell_type": "code",
   "execution_count": 7,
   "metadata": {},
   "outputs": [
    {
     "name": "stdout",
     "output_type": "stream",
     "text": [
      "Enter a string : shubham\n",
      "Expected Result : shu\n"
     ]
    }
   ],
   "source": [
    "#Q7.        Write the python function to get a string made of its first three \n",
    "#           characters of a specified string. If the length of the string is less \n",
    "#           than 3 then return the original string.\n",
    "\n",
    "string = input(\"Enter a string : \")\n",
    "\n",
    "if len(string)>=3:\n",
    "    string = string[:3]\n",
    "        \n",
    "print(\"Expected Result :\",string)\n"
   ]
  },
  {
   "cell_type": "code",
   "execution_count": 8,
   "metadata": {},
   "outputs": [
    {
     "name": "stdout",
     "output_type": "stream",
     "text": [
      "Enter a floating point number : 23.4577\n",
      "The number is 23.46\n"
     ]
    }
   ],
   "source": [
    "#Q8.        Write the python program to print the following floating numbers up to 2 decimal places?\n",
    "\n",
    "num = float(input(\"Enter a floating point number : \"))\n",
    "print(\"The number is %.2f\" % num )\n"
   ]
  },
  {
   "cell_type": "code",
   "execution_count": 9,
   "metadata": {},
   "outputs": [
    {
     "name": "stdout",
     "output_type": "stream",
     "text": [
      "Enter a floating point number : 23.5757\n",
      "The number is 23.58\n"
     ]
    }
   ],
   "source": [
    "#Q9.        Write the Python program to format a number with a percentage?\n",
    "\n",
    "num = float(input(\"Enter a floating point number : \"))\n",
    "print(\"The number is %.2f\" % num )\n"
   ]
  },
  {
   "cell_type": "code",
   "execution_count": 10,
   "metadata": {},
   "outputs": [
    {
     "name": "stdout",
     "output_type": "stream",
     "text": [
      "Enter a string : shubham kumar sahu belongs to sahu family\n",
      "Enter a sub-string : sahu\n",
      "Number of sub-string present in the string : 2\n"
     ]
    }
   ],
   "source": [
    "#Q10.       Write the Python program to count occurrences of a substring in a String?\n",
    "\n",
    "string = input(\"Enter a string : \")\n",
    "sub_string = input(\"Enter a sub-string : \")\n",
    "\n",
    "num = string.count(sub_string)        \n",
    "\n",
    "print(\"Number of sub-string present in the string :\",num)\n"
   ]
  },
  {
   "cell_type": "code",
   "execution_count": 11,
   "metadata": {},
   "outputs": [
    {
     "name": "stdout",
     "output_type": "stream",
     "text": [
      "Enter a string : shubham kumar sahu is going to market for shopping\n",
      "Expected output :\n",
      "a 4\n",
      "g 3\n",
      "h 4\n",
      "i 3\n",
      "k 2\n",
      "m 3\n",
      "n 2\n",
      "o 4\n",
      "p 2\n",
      "r 3\n",
      "s 4\n",
      "t 2\n",
      "u 3\n"
     ]
    }
   ],
   "source": [
    "#Q11.       Write the Python program to count repeated characters in a string.\n",
    "\n",
    "string = input(\"Enter a string : \")\n",
    "\n",
    "s = '0' + (25*',0')\n",
    "\n",
    "li = list(map(int,s.split(',')))\n",
    "\n",
    "for i in string:\n",
    "    if(ord(i)-97>=0 &  ord(i)-97<26):\n",
    "        li[ord(i)-97]+=1        \n",
    "\n",
    "print(\"Expected output :\")\n",
    "for i in range(0,26):\n",
    "    if(li[i]>1):\n",
    "        print(chr(97+i),li[i])"
   ]
  },
  {
   "cell_type": "code",
   "execution_count": 12,
   "metadata": {},
   "outputs": [
    {
     "name": "stdout",
     "output_type": "stream",
     "text": [
      "The area of the rectangle is 1256.66cm²\n",
      "The volume of the cylinder is 1254.725cm³\n"
     ]
    }
   ],
   "source": [
    "#Q12.       Write the Python program to print the square and cube symbol in the \n",
    "#           area of a rectangle and volume of a cylinder?\n",
    "\n",
    "area = 1256.66\n",
    "volume = 1254.725\n",
    "print(\"The area of the rectangle is {}cm\\u00b2\".format(area))\n",
    "print(\"The volume of the cylinder is {}cm\\u00b3\".format(volume))\n"
   ]
  },
  {
   "cell_type": "code",
   "execution_count": 13,
   "metadata": {},
   "outputs": [
    {
     "name": "stdout",
     "output_type": "stream",
     "text": [
      "Enter a string : abcdefghijklmnopqrstuvwxyzabcfsdetrgnklhlgvrvd\n",
      "The given string contains all characters\n"
     ]
    }
   ],
   "source": [
    "#Q13.       Write the Python program to check if a string contains all letters of the alphabet?\n",
    "\n",
    "string = input(\"Enter a string : \")\n",
    "\n",
    "s = '0' + (25*',0')\n",
    "\n",
    "li = list(map(int,s.split(',')))\n",
    "\n",
    "ans = 0\n",
    "\n",
    "for i in string:\n",
    "    if(ord(i)-97>=0 &  ord(i)-97<26):\n",
    "        if(li[ord(i)-97]==0):\n",
    "            ans+=1\n",
    "        li[ord(i)-97]=1 \n",
    "    elif(ord(i)-65>=0 &  ord(i)-65<26):\n",
    "        if(li[ord(i)-65]==0):\n",
    "            ans+=1\n",
    "        li[ord(i)-65]=1 \n",
    "        \n",
    "        \n",
    "\n",
    "if(ans==26):\n",
    "    print(\"The given string contains all characters\")\n",
    "else :\n",
    "    print(\"The given string does not contains all characters\")\n",
    "    "
   ]
  },
  {
   "cell_type": "code",
   "execution_count": 37,
   "metadata": {},
   "outputs": [
    {
     "name": "stdout",
     "output_type": "stream",
     "text": [
      "Enter a string : is is the the the gor the most das dfe das das das das\n",
      "Second most repeated word in the given string is \"the\"\n"
     ]
    }
   ],
   "source": [
    "#Q14.       Write the Python program to find the second most repeated word in a given string?\n",
    "\n",
    "string = input(\"Enter a string : \")\n",
    "\n",
    "sets = list(set(string.split(' ')))\n",
    "\n",
    "max_1,max_2 = 0,0\n",
    "str_1,str_2 = '',''\n",
    "\n",
    "for i in sets:\n",
    "    temp = string.count(i)        \n",
    "    if(max_1<temp):\n",
    "        max_2 = max_1\n",
    "        str_2 = str_1\n",
    "        max_1 = temp\n",
    "        str_1 = i\n",
    "    elif(max_2<temp):\n",
    "        max_2 = temp\n",
    "        str_2 = i\n",
    "        \n",
    "print('Second most repeated word in the given string is \"',str_2,'\"',sep='')"
   ]
  },
  {
   "cell_type": "code",
   "execution_count": 38,
   "metadata": {},
   "outputs": [
    {
     "name": "stdout",
     "output_type": "stream",
     "text": [
      "Enter string 1 : abcdefghijklmnopqrtsuvwxyzabsdfher\n",
      "Enter string 2 : her\n",
      "Minimum window in the given string, which will contain all the characters of strings :  3\n"
     ]
    }
   ],
   "source": [
    "#Q15.       Write the Python program to find the minimum window in the given string, which \n",
    "#           will contains all the characters of another given strings?\n",
    "\n",
    "string_1 = input(\"Enter string 1 : \")\n",
    "string_2 = input(\"Enter string 2 : \")\n",
    "\n",
    "s = '0' + (25*',0')\n",
    "\n",
    "li = list(map(int,s.split(',')))\n",
    "li_temp = li.copy()\n",
    "\n",
    "for i in string_2:\n",
    "    if(ord(i)-97>=0 &  ord(i)-97<26):\n",
    "        li[ord(i)-97]=1 \n",
    "    elif(ord(i)-65>=0 &  ord(i)-65<26):\n",
    "        li[ord(i)-65]=1\n",
    "\n",
    "index = []   \n",
    "    \n",
    "for i in range(0,26):\n",
    "    if li[i]>0:\n",
    "        index.append(i)\n",
    "        \n",
    "        \n",
    "        \n",
    "length = len(string_1)\n",
    "k=0\n",
    "br=0\n",
    "        \n",
    "for o in range(0,len(string_1)):\n",
    "    i= string_1[o]\n",
    "    if (ord(i)-97 in index): \n",
    "        li[ord(i)-97]-=1\n",
    "    if (ord(i)-65 in index):    \n",
    "        li[ord(i)-65]-=1\n",
    "    for j in range(0,26):\n",
    "        if li[j]>0:\n",
    "            break;\n",
    "        if j==25:\n",
    "            length = min(o-k,length)\n",
    "            while 1:\n",
    "                #print(k)\n",
    "                i=string_1[k]\n",
    "                k+=1\n",
    "                if(ord(i)-97 in index):\n",
    "                    li[ord(i)-97]+=1 \n",
    "                elif(ord(i)-65 in index):\n",
    "                    li[ord(i)-65]+=1\n",
    "                for j in range(0,26):\n",
    "                    if li[j]>0:\n",
    "                        br=1\n",
    "                        if(ord(i)-97 in index):\n",
    "                            li[ord(i)-97]-=1 \n",
    "                        elif(ord(i)-65 in index):\n",
    "                            li[ord(i)-65]-=1\n",
    "                        k-=1\n",
    "                        break\n",
    "                    if j==25:\n",
    "                        length = min(o-k,length)    \n",
    "                if(br==1):\n",
    "                    br=0\n",
    "                    break\n",
    "                    \n",
    "                    \n",
    "print(\"Minimum window in the given string, which will contain all the characters of strings : \",length+1)"
   ]
  },
  {
   "cell_type": "code",
   "execution_count": 16,
   "metadata": {},
   "outputs": [
    {
     "name": "stdout",
     "output_type": "stream",
     "text": [
      "Enter string 1 : shubham kumar shau \n",
      "Smallest window in the given string, which will contain all the characters of string :  bham kumar s\n"
     ]
    }
   ],
   "source": [
    "#Q16.       Write the Python program to find smallest window that contains all \n",
    "#           characters of the given string?\n",
    "\n",
    "string_1 = input(\"Enter string 1 : \")\n",
    "\n",
    "s = '0' + (25*',0')\n",
    "\n",
    "li = list(map(int,s.split(',')))\n",
    "li_temp = li.copy()\n",
    "\n",
    "for i in string_1:\n",
    "    if(ord(i)-97>=0 &  ord(i)-97<26):\n",
    "        li[ord(i)-97]=1 \n",
    "    elif(ord(i)-65>=0 &  ord(i)-65<26):\n",
    "        li[ord(i)-65]=1\n",
    "\n",
    "index = []   \n",
    "    \n",
    "for i in range(0,26):\n",
    "    if li[i]>0:\n",
    "        index.append(i)\n",
    "        \n",
    "        \n",
    "        \n",
    "length = len(string_1)\n",
    "k=0\n",
    "br=0\n",
    "   \n",
    "n=0\n",
    "m=0\n",
    "for o in range(0,len(string_1)):\n",
    "    i= string_1[o]\n",
    "    if (ord(i)-97 in index): \n",
    "        li[ord(i)-97]-=1\n",
    "    if (ord(i)-65 in index):    \n",
    "        li[ord(i)-65]-=1\n",
    "    for j in range(0,26):\n",
    "        if li[j]>0:\n",
    "            break;\n",
    "        if j==25:\n",
    "            if(o-k<length):\n",
    "                ans=string_1[k:o+1]\n",
    "                length=o-k;\n",
    "            while 1:\n",
    "                #print(k)\n",
    "                i=string_1[k]\n",
    "                k+=1\n",
    "                if(ord(i)-97 in index):\n",
    "                    li[ord(i)-97]+=1 \n",
    "                elif(ord(i)-65 in index):\n",
    "                    li[ord(i)-65]+=1\n",
    "                for j in range(0,26):\n",
    "                    if li[j]>0:\n",
    "                        br=1\n",
    "                        if(ord(i)-97 in index):\n",
    "                            li[ord(i)-97]-=1 \n",
    "                        elif(ord(i)-65 in index):\n",
    "                            li[ord(i)-65]-=1\n",
    "                        k-=1\n",
    "                        break\n",
    "                    if j==25:\n",
    "                        if(o-k<length):\n",
    "                            ans=string_1[k:o+1]\n",
    "                            length=o-k;\n",
    "                if(br==1):\n",
    "                    br=0\n",
    "                    break\n",
    "                    \n",
    "                    \n",
    "print(\"Smallest window in the given string, which will contain all the characters of string : \",ans)"
   ]
  },
  {
   "cell_type": "code",
   "execution_count": 17,
   "metadata": {},
   "outputs": [
    {
     "name": "stdout",
     "output_type": "stream",
     "text": [
      "Input a string (lowercase alphabets) : he is going for shopping in the mall but I don't like the Mall's product because they are very expensive\n",
      "Input k : 4\n",
      "Number of substrings lowercase alphabets with exactly k distinct characters :  131\n"
     ]
    }
   ],
   "source": [
    "#Q17.       Write the Python program to count number of substrings from a given \n",
    "#           string of lowercase alphabets with exactly k distinct (given) characters?\n",
    "\n",
    "string  = input(\"Input a string (lowercase alphabets) : \") \n",
    "k = int(input(\"Input k : \"))\n",
    "\n",
    "s = '0' + (25*',0')\n",
    "\n",
    "li = list(map(int,s.split(',')))\n",
    "li_temp = li.copy()\n",
    "\n",
    "ans,k=0,0\n",
    "\n",
    "for j in range(0,len(string)):\n",
    "    i=string[j]\n",
    "    if(ord(i)-97>=0 &  ord(i)-97<26):\n",
    "        li[ord(i)-97]+=1 \n",
    "    sum_list =  [1 if x>0 else 0  for x in li]\n",
    "    #print(sum_list,ans,string[k:j+1])\n",
    "    number_of_distinct_character = sum(sum_list) \n",
    "    if number_of_distinct_character==4:\n",
    "        ans+=1\n",
    "        #print(string[k:j+1])\n",
    "    elif number_of_distinct_character==5:\n",
    "        while 1:\n",
    "            if(ord(string[k])-97>=0 &  ord(string[k])-97<26):\n",
    "                li[ord(string[k])-97]-=1 \n",
    "            sum_list =  [1 if x>0 else 0  for x in li] \n",
    "            #print(sum_list,ans,string[k:j+1])\n",
    "            number_of_distinct_character = sum(sum_list) \n",
    "            if number_of_distinct_character==3:\n",
    "                if(ord(string[k])-97>=0 &  ord(string[k])-97<26):\n",
    "                    li[ord(string[k])-97]+=1 \n",
    "                break\n",
    "            if number_of_distinct_character==4:\n",
    "                k+=1\n",
    "                ans+=1\n",
    "                #print(string[k:j+1])\n",
    "            else:\n",
    "                k+=1\n",
    "                continue\n",
    "    \n",
    "print(\"Number of substrings lowercase alphabets with exactly k distinct characters : \",ans)"
   ]
  },
  {
   "cell_type": "code",
   "execution_count": 18,
   "metadata": {},
   "outputs": [
    {
     "name": "stdout",
     "output_type": "stream",
     "text": [
      "Input a string : shubham\n",
      "Total number of non-empty substrings of the given string :  28.0\n"
     ]
    }
   ],
   "source": [
    "#Q18.       Write the Python program to count number of non-empty substrings of the given string?\n",
    "\n",
    "string  = input(\"Input a string : \") \n",
    "\n",
    "print(\"Total number of non-empty substrings of the given string : \",(len(string)*(len(string)+1))/2)\n"
   ]
  },
  {
   "cell_type": "code",
   "execution_count": 19,
   "metadata": {},
   "outputs": [
    {
     "name": "stdout",
     "output_type": "stream",
     "text": [
      "Input a string : shubham kumar shau\n",
      "Total number of substrings with same first and last characters is 30\n"
     ]
    }
   ],
   "source": [
    "#Q19.       Write the Python program to count number of substrings with same first and\n",
    "#           last characters of the given string?\n",
    "\n",
    "string  = input(\"Input a string : \") \n",
    "\n",
    "ans=0;\n",
    "\n",
    "for i in range(0,len(string)):\n",
    "    new_string = ''\n",
    "    for j in range(i,len(string)):\n",
    "        new_string = new_string + string[j]\n",
    "        if new_string[0]==new_string[-1]:\n",
    "            ans+=1\n",
    "    \n",
    "print(\"Total number of substrings with same first and last characters is\",ans)"
   ]
  },
  {
   "cell_type": "code",
   "execution_count": 39,
   "metadata": {},
   "outputs": [
    {
     "name": "stdout",
     "output_type": "stream",
     "text": [
      "Input a list of comma seprated strings : shubham,sahu,meem,eye,bees,bob\n",
      "Expected Result : 3\n"
     ]
    }
   ],
   "source": [
    "#Q20.       Write the Python program to count the number of strings where the string length is  \n",
    "#           2 or more, and first and last character are same from a given list of strings.\n",
    "\n",
    "string  = input(\"Input a list of comma seprated strings : \") \n",
    "\n",
    "string = list(string.split(\",\"))\n",
    "\n",
    "ans=0\n",
    "\n",
    "for i in string:\n",
    "    if i[0]==i[-1]:\n",
    "        ans+=1\n",
    "\n",
    "print(\"Expected Result :\",ans)\n",
    "    "
   ]
  },
  {
   "cell_type": "code",
   "execution_count": 21,
   "metadata": {},
   "outputs": [
    {
     "name": "stdout",
     "output_type": "stream",
     "text": [
      "Expected Result : [(2, 1), (1, 2), (2, 3), (4, 4), (2, 5)]\n"
     ]
    }
   ],
   "source": [
    "#Q21.       Write the Python program to get a list, sorted in increasing order by the  \n",
    "#           last element in each tuple from the given list of non-empty tuples?\n",
    "\n",
    "def choose_Second(tup):\n",
    "    return tup[1]\n",
    "\n",
    "Sample_List = [ (2, 5), (1, 2), (4, 4), (2, 3), (2, 1) ]\n",
    "\n",
    "Sample_List.sort(key=choose_Second)\n",
    "\n",
    "print(\"Expected Result :\",Sample_List)\n"
   ]
  },
  {
   "cell_type": "code",
   "execution_count": 22,
   "metadata": {},
   "outputs": [
    {
     "name": "stdout",
     "output_type": "stream",
     "text": [
      "List before operation : [1, 2, 3, 4, 5, 6, 1, 2, 2, 4, 4, 6, 5, 2, 1, 4]\n",
      "List after operation : [1, 2, 3, 4, 5, 6]\n"
     ]
    }
   ],
   "source": [
    "#Q22.       Write the Python program to remove duplicates from a list?\n",
    "\n",
    "Sample_List = [1,2,3,4,5,6,1,2,2,4,4,6,5,2,1,4]\n",
    "\n",
    "print(\"List before operation :\",Sample_List)\n",
    "\n",
    "Sample_List = list(set(Sample_List))\n",
    "\n",
    "print(\"List after operation :\",Sample_List)\n"
   ]
  },
  {
   "cell_type": "code",
   "execution_count": 23,
   "metadata": {},
   "outputs": [
    {
     "name": "stdout",
     "output_type": "stream",
     "text": [
      "Input a list of comma seprated strings : shubham,kumar,sahu,is,good,for,doing,hard,work\n",
      "Enter the value of n : 4\n",
      "Expected List : ['shubham', 'kumar', 'doing']\n"
     ]
    }
   ],
   "source": [
    "#Q23.       Write the Python program to find the list of words that are longer than n \n",
    "#           from a given list of words?\n",
    "\n",
    "string = input(\"Input a list of comma seprated strings : \") \n",
    "\n",
    "n = int(input(\"Enter the value of n : \"))\n",
    "\n",
    "Sample_list = list(string.split(\",\"))\n",
    "\n",
    "new_list = []\n",
    "\n",
    "for i in Sample_list:\n",
    "    if len(i)>n:\n",
    "        new_list.append(i)\n",
    "\n",
    "print(\"Expected List :\",new_list)\n"
   ]
  },
  {
   "cell_type": "code",
   "execution_count": 24,
   "metadata": {},
   "outputs": [
    {
     "name": "stdout",
     "output_type": "stream",
     "text": [
      "List before operation : ['Red', 'Green', 'White', 'Black', 'Pink', 'Yellow']\n",
      "Expected List : ['Green', 'White', 'Black']\n"
     ]
    }
   ],
   "source": [
    "#Q24.       Write the Python program to print a specified list after removing the 0th, \n",
    "#           4th, and 5th elements?\n",
    "\n",
    "Sample_List = ['Red', 'Green', 'White', 'Black', 'Pink', 'Yellow']\n",
    "\n",
    "print(\"List before operation :\",Sample_List)\n",
    "\n",
    "Sample_List = Sample_List[1:4] + Sample_List[6:] \n",
    "\n",
    "print(\"Expected List :\",Sample_List)\n"
   ]
  },
  {
   "cell_type": "code",
   "execution_count": 25,
   "metadata": {},
   "outputs": [
    {
     "name": "stdout",
     "output_type": "stream",
     "text": [
      "['Red', 'Green', 'White', 'Black']\n",
      "['Red', 'Green', 'Black', 'White']\n",
      "['Red', 'White', 'Green', 'Black']\n",
      "['Red', 'White', 'Black', 'Green']\n",
      "['Red', 'Black', 'Green', 'White']\n",
      "['Red', 'Black', 'White', 'Green']\n",
      "['Green', 'Red', 'White', 'Black']\n",
      "['Green', 'Red', 'Black', 'White']\n",
      "['Green', 'White', 'Red', 'Black']\n",
      "['Green', 'White', 'Black', 'Red']\n",
      "['Green', 'Black', 'Red', 'White']\n",
      "['Green', 'Black', 'White', 'Red']\n",
      "['White', 'Red', 'Green', 'Black']\n",
      "['White', 'Red', 'Black', 'Green']\n",
      "['White', 'Green', 'Red', 'Black']\n",
      "['White', 'Green', 'Black', 'Red']\n",
      "['White', 'Black', 'Red', 'Green']\n",
      "['White', 'Black', 'Green', 'Red']\n",
      "['Black', 'Red', 'Green', 'White']\n",
      "['Black', 'Red', 'White', 'Green']\n",
      "['Black', 'Green', 'Red', 'White']\n",
      "['Black', 'Green', 'White', 'Red']\n",
      "['Black', 'White', 'Red', 'Green']\n",
      "['Black', 'White', 'Green', 'Red']\n"
     ]
    }
   ],
   "source": [
    "#Q25.       Write the Python program to generate all permutations of a list in Python?\n",
    "\n",
    "def recursion(List,new_list):\n",
    "    if len(List)==0:\n",
    "        print(new_list)\n",
    "        return 0\n",
    "    for i in range(0,len(List)):\n",
    "        #print('Check',List[i])\n",
    "        new = new_list + [List[i]]\n",
    "        n_List = List[0:i] + List[i+1:]\n",
    "        recursion(n_List,new.copy())\n",
    "\n",
    "\n",
    "Sample_List = ['Red', 'Green', 'White', 'Black']#, 'Pink', 'Yellow']\n",
    "\n",
    "new_list = []\n",
    "\n",
    "recursion(Sample_List,new_list.copy())\n",
    "\n"
   ]
  },
  {
   "cell_type": "code",
   "execution_count": 26,
   "metadata": {},
   "outputs": [
    {
     "name": "stdout",
     "output_type": "stream",
     "text": [
      "Original List  [(1, 2), (3, 4), (1, 2), (5, 6), (7, 8), (1, 2), (3, 4), (3, 4), (7, 8), (9, 10)]\n",
      "Sorted Unique Data :  [1, 2, 3, 4, 5, 6, 7, 8, 9, 10]\n"
     ]
    }
   ],
   "source": [
    "#Q26.       Write the Python program to convert a pair of values into a sorted unique array?\n",
    "\n",
    "Original_List = [ (1, 2), (3, 4), (1, 2), (5, 6), (7, 8), (1, 2), (3, 4), (3, 4), (7, 8), (9, 10) ] \n",
    "\n",
    "New_Original_List = []\n",
    "\n",
    "for i in Original_List:\n",
    "    for j in i:\n",
    "        New_Original_List.append(j)\n",
    "\n",
    "New_Original_List = set(New_Original_List)\n",
    "        \n",
    "Sorted_Original_List = sorted(New_Original_List)\n",
    "\n",
    "print(\"Original List \",Original_List)\n",
    "\n",
    "print(\"Sorted Unique Data : \",Sorted_Original_List)\n"
   ]
  },
  {
   "cell_type": "code",
   "execution_count": 40,
   "metadata": {},
   "outputs": [
    {
     "name": "stdout",
     "output_type": "stream",
     "text": [
      "Enter a number : 3452\n",
      "Roman form of 3452 is MMMCDLII\n"
     ]
    }
   ],
   "source": [
    "#Q27.       Write the Python class to convert an integer to a roman numeral?\n",
    "\n",
    "class Roman_converter :\n",
    "    def int_to_Roman(self,num):\n",
    "        val = [1000, 900, 500, 400, 100, 90, 50, 40, 10, 9, 5, 4, 1]\n",
    "        syb = [\"M\", \"CM\", \"D\", \"CD\", \"C\", \"XC\", \"L\", \"XL\", \"X\", \"IX\", \"V\", \"IV\", \"I\"]\n",
    "        roman_num = ''\n",
    "        i = 0\n",
    "        while  num > 0:\n",
    "            for j in range(num // val[i]):\n",
    "                roman_num += syb[i]\n",
    "                num -= val[i]\n",
    "            i += 1\n",
    "        return roman_num\n",
    "\n",
    "obj = Roman_converter() \n",
    "num = int(input(\"Enter a number : \"))\n",
    "\n",
    "print(\"Roman form of\",num,\"is\",obj.int_to_Roman(num))"
   ]
  },
  {
   "cell_type": "code",
   "execution_count": 41,
   "metadata": {},
   "outputs": [
    {
     "name": "stdout",
     "output_type": "stream",
     "text": [
      "Enter a roman number : MMMCDLI\n",
      "Decimal form of MMMCDLI is 3451\n"
     ]
    }
   ],
   "source": [
    "#Q28.       Write the Python class to convert a Roman numeral to an integer?\n",
    "\n",
    "class Decimal_converter :\n",
    "    def Roman_to_int(self,roman_num):\n",
    "        val = [1000, 900, 500, 400, 100, 90, 50, 40,10, 9, 5, 4, 1]\n",
    "        syb = [\"M\", \"CM\", \"D\", \"CD\", \"C\", \"XC\", \"L\", \"XL\",\"X\", \"IX\", \"V\", \"IV\", \"I\"]\n",
    "        num = 0\n",
    "        i,k = 0,0\n",
    "        while 1 :\n",
    "            if (i==len(roman_num)):\n",
    "                break\n",
    "            if len(syb[k])==2 & i==len(roman_num)-2:\n",
    "                k+=1\n",
    "            if syb[k]==roman_num[i:i+len(syb[k])]: \n",
    "                num+=val[k]\n",
    "                i+=len(syb[k])\n",
    "            else :\n",
    "                k+=1\n",
    "            if (k==len(syb)):\n",
    "                break;    \n",
    "                \n",
    "        return num\n",
    "\n",
    "obj = Decimal_converter()    \n",
    "    \n",
    "roman_num = input(\"Enter a roman number : \")\n",
    "\n",
    "print(\"Decimal form of\",roman_num,\"is\",obj.Roman_to_int(roman_num))"
   ]
  },
  {
   "cell_type": "code",
   "execution_count": 29,
   "metadata": {},
   "outputs": [
    {
     "name": "stdout",
     "output_type": "stream",
     "text": [
      "Enter a number : [[]{{{{}}}}]((()))\n",
      "Entered string is valid\n"
     ]
    }
   ],
   "source": [
    "#Q29.       Write the Python class to find the validity of the string of the parentheses, '(',\n",
    "#           ')', '{', '}', '[' and '] and the brackets must be closed in the correct order,\n",
    "#           example - \"()\" and \"()[]{}\" are valid but \"[)\", \"({[)]\" and \"{{{\" are invalid.\n",
    "\n",
    "\n",
    "class Check_validity:\n",
    "\n",
    "    def validity(self,string):\n",
    "        j,k,l = 0,0,0\n",
    "        for i in string:\n",
    "            if i=='(':\n",
    "                j+=1\n",
    "            elif i=='{':\n",
    "                k+=1\n",
    "            elif i=='[':\n",
    "                l+=1\n",
    "            elif i==')':\n",
    "                j-=1\n",
    "            elif i=='}':\n",
    "                k-=1\n",
    "            elif i==']':\n",
    "                l-=1\n",
    "            if(j<0 | k<0 | l<0):\n",
    "                print(\"Entered string is invalid\")\n",
    "                break;    \n",
    "        else :\n",
    "            if(j==k==l==0):\n",
    "                print(\"Entered string is valid\")\n",
    "            else :\n",
    "                print(\"Entered string is invalid\")\n",
    "        \n",
    "string = input(\"Enter a number : \")\n",
    "\n",
    "obj = Check_validity()\n",
    "\n",
    "obj.validity(string)"
   ]
  },
  {
   "cell_type": "code",
   "execution_count": 42,
   "metadata": {},
   "outputs": [
    {
     "name": "stdout",
     "output_type": "stream",
     "text": [
      "Enter the comma separated list of number : 1,2,3,9,8,4\n",
      "[[1], [1, 2], [1, 2, 3], [1, 2, 3, 9], [1, 2, 3, 9, 8], [1, 2, 3, 9, 8, 4], [2], [2, 3], [2, 3, 9], [2, 3, 9, 8], [2, 3, 9, 8, 4], [3], [3, 9], [3, 9, 8], [3, 9, 8, 4], [9], [9, 8], [9, 8, 4], [8], [8, 4], [4], []]\n"
     ]
    }
   ],
   "source": [
    "#Q30.       Write the Python class to get all possible unique subsets from a set of distinct integers?\n",
    "\n",
    "li = list(map(int,input(\"Enter the comma separated list of number : \").split(\",\")))\n",
    "    \n",
    "n_list = []\n",
    "    \n",
    "for i in range(0,len(li)):\n",
    "    for j in range(i,len(li)):\n",
    "        n_list.append(li[i:j+1])\n",
    "n_list.append(li[0:0])\n",
    "        \n",
    "print(n_list)\n"
   ]
  },
  {
   "cell_type": "code",
   "execution_count": 44,
   "metadata": {},
   "outputs": [
    {
     "name": "stdout",
     "output_type": "stream",
     "text": [
      "Enter the comma separated array of number : 1,2,3,4,5,6,7,6,5,5,3,4,2,3,1,8\n",
      "Enter the target number : 9\n",
      "Desired indices are 4 5\n"
     ]
    }
   ],
   "source": [
    "#Q31.       Write the Python class to find a pair of elements (indices of the two numbers)\n",
    "#           from a given array whose sum equals the specific target number?\n",
    "\n",
    "class pair_finder:\n",
    "    def __init__(self,array,target):\n",
    "        for i in range(0,len(array)-1):\n",
    "            if((array[i]+array[i+1])==target):\n",
    "                print(\"Desired indices are\",i+1,i+2)\n",
    "                break\n",
    "        else :\n",
    "            print(\"Desired indices are not present.\")\n",
    "\n",
    "li = list(map(int,input(\"Enter the comma separated array of number : \").split(\",\")))\n",
    "\n",
    "target = int(input(\"Enter the target number : \"))\n",
    "\n",
    "obj = pair_finder(li,target)"
   ]
  },
  {
   "cell_type": "code",
   "execution_count": 32,
   "metadata": {},
   "outputs": [
    {
     "name": "stdout",
     "output_type": "stream",
     "text": [
      "Enter the comma separated array of number : 1,2,3,4,5,-1,-1,-2,-3,5,-6\n",
      "[[1, 2, -3], [1, 5, -6], [1, 5, -6], [2, 4, -6], [2, -1, -1], [3, -1, -2], [3, -1, -2], [4, -1, -3], [4, -1, -3], [5, -2, -3], [-2, -3, 5]]\n"
     ]
    }
   ],
   "source": [
    "#Q32.       Write the Python class to find the three elements that sum to zero from the\n",
    "#           set of n real numbers?\n",
    "\n",
    "class triplet_finder:\n",
    "    def __init__(self,array):\n",
    "        ret_list = []\n",
    "        for i in range(0,len(array)):\n",
    "            for j in range(i+1,len(li)):\n",
    "                for k in range(j+1,len(li)):\n",
    "                    if((array[i]+array[j]+array[k])==0):\n",
    "                        ret_list.append([array[i],array[j],array[k]])\n",
    "        print(ret_list)\n",
    "\n",
    "li = list(map(int,input(\"Enter the comma separated array of number : \").split(\",\")))\n",
    "\n",
    "obj = triplet_finder(li)"
   ]
  },
  {
   "cell_type": "code",
   "execution_count": 33,
   "metadata": {},
   "outputs": [
    {
     "name": "stdout",
     "output_type": "stream",
     "text": [
      "Enter the Exponential : 3\n",
      "Enter the Exponent : 9\n",
      "The value of x raise to the power of n is 19683\n"
     ]
    }
   ],
   "source": [
    "#Q33.       Write the Python class to implement pow(x, n)?\n",
    "\n",
    "class power:\n",
    "    def pow(self,x,n):\n",
    "        if(n==0):\n",
    "            return 1\n",
    "        if(n==1): \n",
    "            return x\n",
    "        else :\n",
    "            if(n%2==0):\n",
    "                return self.pow(x*x,int(n/2))\n",
    "            else :\n",
    "                return x*self.pow(x,n-1)\n",
    "                \n",
    "x = int(input(\"Enter the Exponential : \"))\n",
    "\n",
    "n = int(input(\"Enter the Exponent : \"))\n",
    "\n",
    "obj = power()\n",
    "\n",
    "print(\"The value of x raise to the power of n is\",obj.pow(x,n))"
   ]
  },
  {
   "cell_type": "code",
   "execution_count": 34,
   "metadata": {},
   "outputs": [
    {
     "name": "stdout",
     "output_type": "stream",
     "text": [
      "Enter a string : shubham\n",
      "The string is SHUBHAM\n"
     ]
    }
   ],
   "source": [
    "#Q34.       Write the Python class which has two methods get_String and print_String. get_String \n",
    "#           accept the string from the user and print_String print the string in upper case.\n",
    "    \n",
    "class String:\n",
    "    string = ''\n",
    "    def get_string(self):\n",
    "        String.string = input(\"Enter a string : \")\n",
    "    def print_string(self):\n",
    "        print(\"The string is\",String.string.upper())\n",
    "        \n",
    "obj = String()\n",
    "\n",
    "obj.get_string()\n",
    "obj.print_string()"
   ]
  },
  {
   "cell_type": "code",
   "execution_count": 36,
   "metadata": {},
   "outputs": [
    {
     "name": "stdout",
     "output_type": "stream",
     "text": [
      "Enter the length and breadth of rectangle : 4 6\n",
      "The area of rectangle is 24\n"
     ]
    }
   ],
   "source": [
    "#Q35.       Write the Python class named Rectangle constructed by a length and width and the\n",
    "#           method which will compute the area of the rectangle?\n",
    "\n",
    "class Rectangle:\n",
    "    length,width = 0,0\n",
    "    def get_dimension(self):\n",
    "        Rectangle.length,Rectangle.width = map(int,input(\"Enter the length and breadth of rectangle : \").split(' '))\n",
    "    def area(self):\n",
    "        print(\"The area of rectangle is\",Rectangle.length*Rectangle.width)\n",
    "        \n",
    "obj = Rectangle()\n",
    "\n",
    "obj.get_dimension()\n",
    "obj.area()"
   ]
  },
  {
   "cell_type": "code",
   "execution_count": 45,
   "metadata": {},
   "outputs": [
    {
     "name": "stdout",
     "output_type": "stream",
     "text": [
      "Enter the radius of circle : 7\n",
      "The perimeter of circle is 43.982297150257104\n",
      "The area of rectangle is 153.93804002589985\n"
     ]
    }
   ],
   "source": [
    "#Q36.       Write the Python class named Circle constructed by the radius and two methods which \n",
    "#           will compute the area and perimeter of the circle?\n",
    "\n",
    "import math \n",
    "\n",
    "class Circle:\n",
    "    radius = 0\n",
    "    def __init__(self):\n",
    "        Circle.radius = int(input(\"Enter the radius of circle : \"))\n",
    "    def perimeter(self):\n",
    "        print(\"The perimeter of circle is\",2*math.pi*Circle.radius)\n",
    "    def area(self):\n",
    "        print(\"The area of rectangle is\",math.pi*Circle.radius*Circle.radius)\n",
    "        \n",
    "obj = Circle()\n",
    "\n",
    "obj.perimeter()\n",
    "obj.area()"
   ]
  },
  {
   "cell_type": "code",
   "execution_count": 46,
   "metadata": {},
   "outputs": [
    {
     "name": "stdout",
     "output_type": "stream",
     "text": [
      "Rectangle\n"
     ]
    }
   ],
   "source": [
    "#Q37.       Write the Python program to get the class name of an instance in Python?\n",
    "\n",
    "obj = Rectangle()\n",
    "print(obj.__class__.__name__)"
   ]
  },
  {
   "cell_type": "code",
   "execution_count": 47,
   "metadata": {},
   "outputs": [
    {
     "name": "stdout",
     "output_type": "stream",
     "text": [
      "{'V': 2, 'VI': 3, 'VII': 1}\n"
     ]
    }
   ],
   "source": [
    "#Q38.       Write the Python program to count the number of students of individual class?\n",
    "\n",
    "classes = [ ('V', 1), ('VI', 1), ('V', 2), ('VI', 2), ('VI', 3), ('VII', 1)]\n",
    "\n",
    "d = {}\n",
    "\n",
    "for i in classes:\n",
    "    if i[0] in d:\n",
    "        d[i[0]]+=1;\n",
    "    else :\n",
    "        d[i[0]]=1;\n",
    "    \n",
    "print(d)    "
   ]
  },
  {
   "cell_type": "code",
   "execution_count": 48,
   "metadata": {},
   "outputs": [
    {
     "name": "stdout",
     "output_type": "stream",
     "text": [
      "\n",
      "Expected output : \n",
      "Angola 244\n",
      "Andorra 376\n",
      "Algeria 213\n",
      "Afghanistan 93\n",
      "Albania 355\n",
      "\n",
      "In reverse order : \n",
      "Albania 355\n",
      "Afghanistan 93\n",
      "Algeria 213\n",
      "Andorra 376\n",
      "Angola 244\n"
     ]
    }
   ],
   "source": [
    "#Q39.       Write the Python program to create an instance of an OrderedDict\n",
    "#           using the given dictionary and sort dictionary during the creation \n",
    "#           and print members of the dictionary in reverse order?\n",
    "\n",
    "from collections import OrderedDict\n",
    "\n",
    "dict = {'Angola': 244, 'Andorra': 376, 'Algeria': 213, 'Afghanistan': 93, 'Albania': 355 }\n",
    "print(\"\\nExpected output : \")\n",
    "new_dict = OrderedDict(dict.items())\n",
    "for key in new_dict:\n",
    "    print (key, new_dict[key])\n",
    "\n",
    "print(\"\\nIn reverse order : \")\n",
    "for key in reversed(new_dict):\n",
    "    print (key, new_dict[key])\n",
    "    "
   ]
  },
  {
   "cell_type": "code",
   "execution_count": 49,
   "metadata": {},
   "outputs": [
    {
     "name": "stdout",
     "output_type": "stream",
     "text": [
      "False\n"
     ]
    }
   ],
   "source": [
    "#Q40.       Write the Python program to compare two unordered lists (not sets)?\n",
    "\n",
    "def compare(x, y):\n",
    "    if len(x)!=len(y):\n",
    "        return False\n",
    "    for i in range(0,len(x)):\n",
    "        if x[i]!=y[i]:\n",
    "            return False\n",
    "    else :\n",
    "        return True\n",
    "    \n",
    "n1 = [20, 10, 30, 10, 20, 30]\n",
    "n2 = [30, 20, 10, 30, 20, 50]\n",
    "\n",
    "print(compare(n1, n2))\n"
   ]
  },
  {
   "cell_type": "code",
   "execution_count": 50,
   "metadata": {},
   "outputs": [
    {
     "name": "stdout",
     "output_type": "stream",
     "text": [
      "Array buffer start address in memory and number of elements.\n",
      "(2564348968480, 2)\n"
     ]
    }
   ],
   "source": [
    "#Q41.       Write the Python program to get an array buffer information?\n",
    "\n",
    "from array import array\n",
    "a = array(\"I\", (12,25))\n",
    "print(\"Array buffer start address in memory and number of elements.\")\n",
    "print(a.buffer_info())\n"
   ]
  },
  {
   "cell_type": "code",
   "execution_count": 51,
   "metadata": {},
   "outputs": [
    {
     "name": "stdout",
     "output_type": "stream",
     "text": [
      "Original array:\n",
      "A1: array('i', [1, 2, 3, 4, 5, 6])\n",
      "Array of bytes: b'010000000200000003000000040000000500000006000000'\n"
     ]
    }
   ],
   "source": [
    "#Q42.       Write the Python program to convert an array to an array of machine values \n",
    "#           and return the bytes representation?\n",
    "\n",
    "import array\n",
    "import binascii\n",
    "a = array.array('i', [1,2,3,4,5,6])\n",
    "print(\"Original array:\")\n",
    "print('A1:', a)\n",
    "bytes_array = a.tobytes()\n",
    "print('Array of bytes:', binascii.hexlify(bytes_array))\n",
    "        "
   ]
  },
  {
   "cell_type": "code",
   "execution_count": 52,
   "metadata": {},
   "outputs": [
    {
     "name": "stdout",
     "output_type": "stream",
     "text": [
      "array1: array('i', [7, 8, 9, 10])\n",
      "Bytes: b'0700000008000000090000000a000000'\n",
      "array2: array('i', [7, 8, 9, 10])\n"
     ]
    }
   ],
   "source": [
    "#Q43.       Write the Python program to read a string and interpreting the string \n",
    "#           as an array of machine values?\n",
    "\n",
    "from array import array\n",
    "import binascii\n",
    "array1 = array('i', [7, 8, 9, 10])\n",
    "print('array1:', array1)\n",
    "as_bytes = array1.tobytes()\n",
    "print('Bytes:', binascii.hexlify(as_bytes))\n",
    "array2 = array('i')\n",
    "array2.frombytes(as_bytes)\n",
    "print('array2:', array2)\n"
   ]
  },
  {
   "cell_type": "code",
   "execution_count": 53,
   "metadata": {},
   "outputs": [
    {
     "name": "stdout",
     "output_type": "stream",
     "text": [
      "Items in the heap:\n",
      "('V', 1)\n",
      "('V', 3)\n",
      "('V', 2)\n",
      "----------------------\n",
      "The smallest item in the heap:\n",
      "('V', 1)\n",
      "----------------------\n",
      "Pop the smallest item in the heap:\n",
      "('V', 2)\n",
      "('V', 3)\n"
     ]
    }
   ],
   "source": [
    "#Q44.       Write the Python program to push three items into the heap and return the smallest  \n",
    "#           item from the heap. Also, return and pop the smallest item from the heap?\n",
    "\n",
    "import heapq\n",
    "heap = []\n",
    "heapq.heappush(heap, ('V', 3))\n",
    "heapq.heappush(heap, ('V', 2))\n",
    "heapq.heappush(heap, ('V', 1))\n",
    "print(\"Items in the heap:\")\n",
    "for a in heap:\n",
    "    print(a)\n",
    "print(\"----------------------\")\n",
    "print(\"The smallest item in the heap:\")\n",
    "print(heap[0])\n",
    "print(\"----------------------\")\n",
    "print(\"Pop the smallest item in the heap:\")\n",
    "heapq.heappop(heap)\n",
    "for a in heap:\n",
    "    print(a)"
   ]
  },
  {
   "cell_type": "code",
   "execution_count": 54,
   "metadata": {},
   "outputs": [
    {
     "name": "stdout",
     "output_type": "stream",
     "text": [
      "4\n",
      "2\n"
     ]
    }
   ],
   "source": [
    "#Q45.       Write the Python program to locate the left insertion point for a specified value in sorted order? \n",
    "\n",
    "def left_insert_index(a,num):\n",
    "    for i in range(0,len(a)): \n",
    "        if a[i]>num:\n",
    "            return i\n",
    "    else :\n",
    "        return len(a)\n",
    "\n",
    "a = [1,2,4,5]\n",
    "\n",
    "print(left_insert_index(a, 6))\n",
    "\n",
    "print(left_insert_index(a, 3))\n",
    "\n"
   ]
  },
  {
   "cell_type": "code",
   "execution_count": 55,
   "metadata": {},
   "outputs": [
    {
     "name": "stdout",
     "output_type": "stream",
     "text": [
      "1\n",
      "2\n"
     ]
    }
   ],
   "source": [
    "#Q46.       Write the Python program to create the FIFO queue?\n",
    "\n",
    "class queue:\n",
    "    li = []\n",
    "    def push(self,n):  \n",
    "        queue.li.append(n)\n",
    "    def pop(self):\n",
    "        ret = queue.li[0]\n",
    "        queue.li.pop(0)\n",
    "        return ret\n",
    "    \n",
    "obj = queue()\n",
    "\n",
    "obj.push(1)\n",
    "obj.push(2)\n",
    "obj.push(3)\n",
    "obj.push(4)\n",
    "obj.push(5)\n",
    "obj.push(6)\n",
    "obj.push(7)\n",
    "print(obj.pop())\n",
    "print(obj.pop())\n"
   ]
  },
  {
   "cell_type": "code",
   "execution_count": 58,
   "metadata": {},
   "outputs": [
    {
     "name": "stdout",
     "output_type": "stream",
     "text": [
      "Enter the value of n : 6\n",
      "The Harmonic sum of 6to 1 is 2.283333333333333\n"
     ]
    }
   ],
   "source": [
    "#Q47.       Write the Python program to calculate the harmonic sum of n-1. \n",
    "#           Note: The harmonic sum is the sum of reciprocals of the positive Integers?\n",
    "    \n",
    "n = int(input('Enter the value of n : '))\n",
    "\n",
    "s=0\n",
    "\n",
    "for i in range(1,n):\n",
    "    s+=(1/i)\n",
    "\n",
    "print(\"The Harmonic sum of \",n,\"to 1 is \",s,sep='')"
   ]
  },
  {
   "cell_type": "code",
   "execution_count": 59,
   "metadata": {},
   "outputs": [
    {
     "name": "stdout",
     "output_type": "stream",
     "text": [
      "Original array:\n",
      "[[6 6 6 6 6]\n",
      " [6 6 6 6 6]\n",
      " [6 6 6 6 6]\n",
      " [6 6 6 6 6]\n",
      " [6 6 6 6 6]]\n",
      "6 on the border and 0 inside in the array\n",
      "[[6 6 6 6 6]\n",
      " [6 0 0 0 6]\n",
      " [6 0 0 0 6]\n",
      " [6 0 0 0 6]\n",
      " [6 6 6 6 6]]\n"
     ]
    }
   ],
   "source": [
    "#Q48.       Write the NumPy program to create a 2d array with 6 on the border and 0 inside?\n",
    "\n",
    "import numpy as np\n",
    "x = np.full((5, 5), 6, dtype=int)\n",
    "print(\"Original array:\")\n",
    "print(x)\n",
    "print(\"6 on the border and 0 inside in the array\")\n",
    "x[1:-1,1:-1] = 0\n",
    "print(x)\n"
   ]
  },
  {
   "cell_type": "code",
   "execution_count": 60,
   "metadata": {},
   "outputs": [
    {
     "name": "stdout",
     "output_type": "stream",
     "text": [
      "[[3 9 3 9 3 9 3 9]\n",
      " [9 3 9 3 9 3 9 3]\n",
      " [3 9 3 9 3 9 3 9]\n",
      " [9 3 9 3 9 3 9 3]\n",
      " [3 9 3 9 3 9 3 9]\n",
      " [9 3 9 3 9 3 9 3]\n",
      " [3 9 3 9 3 9 3 9]\n",
      " [9 3 9 3 9 3 9 3]]\n"
     ]
    }
   ],
   "source": [
    "#Q49.       Write the NumPy program to create a 8x8 matrix and fill it with the checkerboard pattern?\n",
    "\n",
    "x = np.full((8, 8), 3, dtype=int)\n",
    "\n",
    "k=0\n",
    "\n",
    "for i in range(len(x)):\n",
    "    for j in range(len(x[i])):\n",
    "        k+=1\n",
    "        if (k%2)==0 :\n",
    "            x[i][j] = 9\n",
    "    k+=1    \n",
    "\n",
    "print(x)\n"
   ]
  },
  {
   "cell_type": "code",
   "execution_count": 61,
   "metadata": {},
   "outputs": [
    {
     "name": "stdout",
     "output_type": "stream",
     "text": [
      "[[1.26696177e-311 2.47032823e-322 0.00000000e+000 0.00000000e+000]\n",
      " [1.11260619e-306 3.69776220e-062 7.73303004e-091 1.68750158e-051]\n",
      " [3.57099410e-062 1.86317340e+160 3.99910963e+252 2.19256947e-076]]\n",
      "[[6 6 6]\n",
      " [6 6 6]\n",
      " [6 6 6]]\n"
     ]
    }
   ],
   "source": [
    "#Q50.       Write the NumPy program to create an empty and a full array.\n",
    "\n",
    "x = np.empty((3,4))\n",
    "print(x)\n",
    "\n",
    "y = np.full((3,3),6)\n",
    "print(y)"
   ]
  },
  {
   "cell_type": "code",
   "execution_count": 62,
   "metadata": {},
   "outputs": [
    {
     "name": "stdout",
     "output_type": "stream",
     "text": [
      "Values in Fahrenheit degrees:\n",
      "[ 0.   12.   45.21 34.   99.91]\n",
      "Values in  Centigrade degrees:\n",
      "[-17.77777778 -11.11111111   7.33888889   1.11111111  37.72777778]\n"
     ]
    }
   ],
   "source": [
    "#Q51.       Write the NumPy program to convert the values of Centigrade degrees into the Fahrenheit degrees and the centigrade values are stored in the NumPy array.\n",
    "\n",
    "fvalues = [0, 12, 45.21, 34, 99.91]\n",
    "F = np.array(fvalues)\n",
    "print(\"Values in Fahrenheit degrees:\")\n",
    "print(F)\n",
    "print(\"Values in  Centigrade degrees:\") \n",
    "print(5*F/9 - 5*32/9)"
   ]
  },
  {
   "cell_type": "code",
   "execution_count": 63,
   "metadata": {},
   "outputs": [
    {
     "name": "stdout",
     "output_type": "stream",
     "text": [
      "Original array  [1.26696177e-311 2.47032823e-322 0.00000000e+000 0.00000000e+000] [1.11260619e-306 3.69776220e-062 7.73303004e-091 1.68750158e-051]\n",
      "Real part of the array:\n",
      "3.999109628642874e+252\n",
      "Imaginary part of the array:\n",
      "0.0\n"
     ]
    }
   ],
   "source": [
    "#Q52.       Write the NumPy program to find the real and imaginary parts of an array of complex numbers?\n",
    "\n",
    "print(\"Original array \",x[0],x[1])\n",
    "print(\"Real part of the array:\")\n",
    "print(x.sum().real)\n",
    "print(\"Imaginary part of the array:\")\n",
    "print(x.sum().imag)\n"
   ]
  },
  {
   "cell_type": "code",
   "execution_count": 64,
   "metadata": {},
   "outputs": [
    {
     "name": "stdout",
     "output_type": "stream",
     "text": [
      "Array1:  [ 0 10 20 40 60]\n",
      "Array2:  [0, 40]\n",
      "Compare each element of array1 and array2\n",
      "[ True False False  True False]\n"
     ]
    }
   ],
   "source": [
    "#Q53.       Write the NumPy program to test whether each element of a 1-D array is also present in the second array?\n",
    "\n",
    "array1 = np.array([0, 10, 20, 40, 60])\n",
    "print(\"Array1: \",array1)\n",
    "array2 = [0, 40]\n",
    "print(\"Array2: \",array2)\n",
    "print(\"Compare each element of array1 and array2\")\n",
    "print(np.in1d(array1, array2))\n"
   ]
  },
  {
   "cell_type": "code",
   "execution_count": 65,
   "metadata": {},
   "outputs": [
    {
     "name": "stdout",
     "output_type": "stream",
     "text": [
      "Array1:  [ 0 10 20 40 60]\n",
      "Array2:  [10, 30, 40]\n",
      "Common values between two arrays:\n",
      "[10 40]\n"
     ]
    }
   ],
   "source": [
    "#Q54.       Write the NumPy program to find common values between two arrays?\n",
    "\n",
    "array1 = np.array([0, 10, 20, 40, 60])\n",
    "print(\"Array1: \",array1)\n",
    "array2 = [10, 30, 40]\n",
    "print(\"Array2: \",array2)\n",
    "print(\"Common values between two arrays:\")\n",
    "print(np.intersect1d(array1, array2))\n"
   ]
  },
  {
   "cell_type": "code",
   "execution_count": 66,
   "metadata": {},
   "outputs": [
    {
     "name": "stdout",
     "output_type": "stream",
     "text": [
      "Original array:\n",
      "[10 10 20 20 30 30]\n",
      "Unique elements of the above array:\n",
      "[10 20 30]\n",
      "Original array:\n",
      "[[1 1]\n",
      " [2 3]]\n",
      "Unique elements of the above array:\n",
      "[1 2 3]\n"
     ]
    }
   ],
   "source": [
    "#Q55.       Write the NumPy program to get the unique elements of an array?\n",
    "\n",
    "x = np.array([10, 10, 20, 20, 30, 30])\n",
    "print(\"Original array:\")\n",
    "print(x)\n",
    "print(\"Unique elements of the above array:\")\n",
    "print(np.unique(x))\n",
    "x = np.array([[1, 1], [2, 3]])\n",
    "print(\"Original array:\")\n",
    "print(x)\n",
    "print(\"Unique elements of the above array:\")\n",
    "print(np.unique(x))"
   ]
  },
  {
   "cell_type": "code",
   "execution_count": 67,
   "metadata": {},
   "outputs": [
    {
     "name": "stdout",
     "output_type": "stream",
     "text": [
      "Array1:  [ 0 10 20 40 60 80]\n",
      "Array2:  [10 30 40 50 70]\n",
      "Unique values that are in only one (not both) of the input arrays:\n",
      "[ 0 20 30 50 60 70 80]\n"
     ]
    }
   ],
   "source": [
    "#Q56.       Write the NumPy program to find the set exclusive-or of two arrays. \n",
    "#           Set exclusive-or will return the sorted, unique values that are in \n",
    "#           only one (not both) of the input arrays?\n",
    "\n",
    "array1 = np.array([0, 10, 20, 40, 60, 80])\n",
    "print(\"Array1: \",array1)\n",
    "array2 = np.array([10, 30, 40, 50, 70])\n",
    "print(\"Array2: \",array2)\n",
    "print(\"Unique values that are in only one (not both) of the input arrays:\")\n",
    "print(np.setxor1d(array1, array2))"
   ]
  },
  {
   "cell_type": "code",
   "execution_count": 68,
   "metadata": {},
   "outputs": [
    {
     "name": "stdout",
     "output_type": "stream",
     "text": [
      "False\n",
      "True\n"
     ]
    }
   ],
   "source": [
    "#Q57.       Write the NumPy program to test if all elements in an array evaluate to True ?\n",
    "\n",
    "array1 = np.array([0, 10, 20, 40, 60, 80])\n",
    "array2 = np.array([10, 30, 40, 50, 70])\n",
    "\n",
    "print(np.all(array1))\n",
    "print(np.all(array2))\n"
   ]
  },
  {
   "cell_type": "code",
   "execution_count": 69,
   "metadata": {},
   "outputs": [
    {
     "name": "stdout",
     "output_type": "stream",
     "text": [
      "True\n",
      "True\n",
      "False\n"
     ]
    }
   ],
   "source": [
    "#Q58        Write the NumPy program to test whether any array element along the given axis evaluates to True?\n",
    "\n",
    "array1 = np.array([0, 10, 20, 40, 60, 80])\n",
    "array2 = np.array([10, 30, 40, 50, 70])\n",
    "array3 = np.array([0, 0, 0, 0])\n",
    "\n",
    "print(np.any(array1))\n",
    "print(np.any(array2))\n",
    "print(np.any(array3))\n"
   ]
  },
  {
   "cell_type": "code",
   "execution_count": 72,
   "metadata": {},
   "outputs": [
    {
     "name": "stdout",
     "output_type": "stream",
     "text": [
      "Enter the number of times you want to repeat the array : 6\n",
      "Original array\n",
      "[1, 2, 3, 4]\n",
      "Repeating 6 times\n",
      "[1 2 3 4 1 2 3 4 1 2 3 4 1 2 3 4 1 2 3 4 1 2 3 4]\n"
     ]
    }
   ],
   "source": [
    "#Q59.       Write the NumPy program to construct an array by repeating?\n",
    "\n",
    "a = [1, 2, 3, 4]\n",
    "n = int(input(\"Enter the number of times you want to repeat the array : \"))\n",
    "\n",
    "print(\"Original array\")\n",
    "print(a)\n",
    "\n",
    "print(\"Repeating\",n,\"times\")\n",
    "x = np.tile(a, n)\n",
    "print(x)\n"
   ]
  },
  {
   "cell_type": "code",
   "execution_count": 73,
   "metadata": {},
   "outputs": [
    {
     "name": "stdout",
     "output_type": "stream",
     "text": [
      "Original array:  [1 2 3 4 5 6]\n",
      "Index at which Maximum value is present:  5\n",
      "Index at which Minimum value is present:  0\n"
     ]
    }
   ],
   "source": [
    "#Q60.       Write the NumPy program to find the indices of the maximum and minimum \n",
    "#           values with the given axis of an array?\n",
    "\n",
    "x = np.array([1, 2, 3, 4, 5, 6])\n",
    "print(\"Original array: \",x)\n",
    "print(\"Index at which Maximum value is present: \",np.argmax(x))\n",
    "print(\"Index at which Minimum value is present: \",np.argmin(x))\n"
   ]
  },
  {
   "cell_type": "code",
   "execution_count": 74,
   "metadata": {},
   "outputs": [
    {
     "name": "stdout",
     "output_type": "stream",
     "text": [
      "a > b    :  [ True  True  True False False]\n",
      "a < b    :  [False False False  True False]\n",
      "a >= b   :  [ True  True  True False  True]\n",
      "a <= b   :  [False False False  True  True]\n",
      "a == b   :  [False False False False  True]\n"
     ]
    }
   ],
   "source": [
    "#Q61.       Write the NumPy program compare two arrays using numpy?\n",
    "\n",
    "a = np.array([4,7,5,3,8])\n",
    "b = np.array([2,4,3,5,8])\n",
    "\n",
    "print(\"a > b    : \",a>b)\n",
    "print(\"a < b    : \",a<b)\n",
    "print(\"a >= b   : \",a>=b)\n",
    "print(\"a <= b   : \",a<=b)\n",
    "print(\"a == b   : \",a==b)\n"
   ]
  },
  {
   "cell_type": "code",
   "execution_count": 75,
   "metadata": {},
   "outputs": [
    {
     "name": "stdout",
     "output_type": "stream",
     "text": [
      "Original array: \n",
      "[[4 6]\n",
      " [2 1]]\n",
      "Sort along the first axis: \n",
      "[[2 1]\n",
      " [4 6]]\n",
      "Sort along the last axis: \n",
      "[[1 2]\n",
      " [4 6]]\n"
     ]
    }
   ],
   "source": [
    "#Q62.       Write the NumPy program to sort an along the first, last axis of an array?\n",
    "\n",
    "a = np.array([[4, 6],[2, 1]])\n",
    "print(\"Original array: \")\n",
    "print(a)\n",
    "\n",
    "print(\"Sort along the first axis: \")\n",
    "x = np.sort(a, axis=0)\n",
    "print(x)\n",
    "\n",
    "print(\"Sort along the last axis: \")\n",
    "y = np.sort(x, axis=1)\n",
    "print(y)\n"
   ]
  },
  {
   "cell_type": "code",
   "execution_count": 76,
   "metadata": {},
   "outputs": [
    {
     "name": "stdout",
     "output_type": "stream",
     "text": [
      "[1 3 2 4 0]\n"
     ]
    }
   ],
   "source": [
    "#Q63.       Write the NumPy program to sort pairs of first name and last name return their indices \n",
    "#           (first by last name, then by first name).\n",
    "\n",
    "first_names =    ('Margery', 'Betsey', 'Shelley', 'Lanell', 'Genesis')\n",
    "last_names = ('Woolum', 'Battle', 'Plotner', 'Brien', 'Stahl')\n",
    "x = np.lexsort((first_names, last_names))\n",
    "print(x)\n"
   ]
  },
  {
   "cell_type": "code",
   "execution_count": 77,
   "metadata": {},
   "outputs": [
    {
     "name": "stdout",
     "output_type": "stream",
     "text": [
      "Original array: \n",
      "[[ 0 10 20]\n",
      " [20 30 40]]\n",
      "Values bigger than 10 = [20 20 30 40]\n",
      "Their indices are  (array([0, 1, 1, 1], dtype=int64), array([2, 0, 1, 2], dtype=int64))\n"
     ]
    }
   ],
   "source": [
    "#Q64.       Write the NumPy program to get the values and indices of the elements that are bigger \n",
    "#           than 10 in the given array?\n",
    "\n",
    "x = np.array([[0, 10, 20], [20, 30, 40]])\n",
    "print(\"Original array: \")\n",
    "print(x)\n",
    "print(\"Values bigger than 10 =\", x[x>10])\n",
    "print(\"Their indices are \", np.nonzero(x > 10))\n"
   ]
  },
  {
   "cell_type": "code",
   "execution_count": 78,
   "metadata": {},
   "outputs": [
    {
     "name": "stdout",
     "output_type": "stream",
     "text": [
      "128 bytes\n"
     ]
    }
   ],
   "source": [
    "#Q65.       Write the NumPy program to find the memory size of a NumPy array?\n",
    "\n",
    "n = np.zeros((4,4))\n",
    "print(n.size * n.itemsize,\"bytes\")"
   ]
  },
  {
   "cell_type": "code",
   "execution_count": 79,
   "metadata": {},
   "outputs": [
    {
     "name": "stdout",
     "output_type": "stream",
     "text": [
      "Create an array of zeros\n",
      "Default type is float\n",
      "[[0. 0.]]\n",
      "Type changes to int\n",
      "[[0 0]]\n",
      "Create an array of ones\n",
      "Default type is float\n",
      "[[1. 1.]]\n",
      "Type changes to int\n",
      "[[1 1]]\n"
     ]
    }
   ],
   "source": [
    "#Q66.       Write the NumPy program to create an array of ones and an array of zeros?\n",
    "\n",
    "print(\"Create an array of zeros\")\n",
    "x = np.zeros((1,2))\n",
    "print(\"Default type is float\")\n",
    "print(x)\n",
    "print(\"Type changes to int\")\n",
    "x = np.zeros((1,2), dtype = np.int)\n",
    "print(x)\n",
    "\n",
    "print(\"Create an array of ones\")\n",
    "y= np.ones((1,2)) \n",
    "print(\"Default type is float\")\n",
    "print(y)\n",
    "print(\"Type changes to int\")\n",
    "y = np.ones((1,2), dtype = np.int)\n",
    "print(y)\n"
   ]
  },
  {
   "cell_type": "code",
   "execution_count": 80,
   "metadata": {},
   "outputs": [
    {
     "name": "stdout",
     "output_type": "stream",
     "text": [
      "6 rows and 0 columns\n",
      "[1 2 3 4 5 6 7 8 9]\n",
      "Change array shape to (3, 3) -> 3 rows and 3 columns \n",
      "[[1 2 3]\n",
      " [4 5 6]\n",
      " [7 8 9]]\n"
     ]
    }
   ],
   "source": [
    "#Q67.       Write the NumPy program to change the dimension of an array?\n",
    "\n",
    "x = np.array([1,2,3,4,5,6,7,8,9])\n",
    "print(\"6 rows and 0 columns\")\n",
    "print(x)\n",
    "\n",
    "print(\"Change array shape to (3, 3) -> 3 rows and 3 columns \")\n",
    "x.shape = (3, 3)\n",
    "print(x)\n"
   ]
  },
  {
   "cell_type": "code",
   "execution_count": 81,
   "metadata": {},
   "outputs": [
    {
     "name": "stdout",
     "output_type": "stream",
     "text": [
      "Previous array :\n",
      "[1 2 3 4 5 6]\n",
      "Reshape 3x2:\n",
      "[[1 2]\n",
      " [3 4]\n",
      " [5 6]]\n",
      "Reshape 2x3:\n",
      "[[1 2 3]\n",
      " [4 5 6]]\n"
     ]
    }
   ],
   "source": [
    "#Q68.       Write the NumPy program to create a new shape to an array without changing its data ?\n",
    "\n",
    "x = np.array([1, 2, 3, 4, 5, 6])\n",
    "print(\"Previous array :\")\n",
    "print(x)\n",
    "\n",
    "y = np.reshape(x,(3,2))\n",
    "print(\"Reshape 3x2:\")\n",
    "print(y)\n",
    "\n",
    "z = np.reshape(x,(2,3))\n",
    "print(\"Reshape 2x3:\")\n",
    "print(z)\n"
   ]
  },
  {
   "cell_type": "code",
   "execution_count": 82,
   "metadata": {},
   "outputs": [
    {
     "name": "stdout",
     "output_type": "stream",
     "text": [
      "[[2 2 2 2 2]\n",
      " [2 2 2 2 2]\n",
      " [2 2 2 2 2]]\n"
     ]
    }
   ],
   "source": [
    "#Q69.       Write the NumPy program to create a new array of 3*5, filled with 2?\n",
    "\n",
    "x = np.full((3,5), 2, dtype=int)\n",
    "print(x)\n"
   ]
  },
  {
   "cell_type": "code",
   "execution_count": 83,
   "metadata": {},
   "outputs": [
    {
     "name": "stdout",
     "output_type": "stream",
     "text": [
      "[[1. 0. 0.]\n",
      " [0. 1. 0.]\n",
      " [0. 0. 1.]]\n"
     ]
    }
   ],
   "source": [
    "#Q70.       Write the NumPy program to create a 3-D array with ones on a diagonal and zeros elsewhere?\n",
    "\n",
    "x = np.eye(3)\n",
    "print(x)\n"
   ]
  },
  {
   "cell_type": "code",
   "execution_count": 84,
   "metadata": {},
   "outputs": [
    {
     "name": "stdout",
     "output_type": "stream",
     "text": [
      "Original array: [ 1  2  3  4  5  6  7  8  9 10 11 12 13 14]\n",
      "After splitting:\n",
      "[array([1, 2]), array([3, 4, 5, 6]), array([ 7,  8,  9, 10, 11, 12, 13, 14])]\n"
     ]
    }
   ],
   "source": [
    "#Q71.       Write the NumPy program to split an array of 14 elements into the 3 arrays and each of \n",
    "#           which has 2, 4, and 8 elements in original order?\n",
    "\n",
    "x = np.arange(1, 15)\n",
    "print(\"Original array:\",x)\n",
    "print(\"After splitting:\")\n",
    "print(np.split(x, [2, 6]))\n"
   ]
  },
  {
   "cell_type": "code",
   "execution_count": 85,
   "metadata": {},
   "outputs": [
    {
     "name": "stdout",
     "output_type": "stream",
     "text": [
      "Original array: [[ 0  1  2  3]\n",
      " [ 4  5  6  7]\n",
      " [ 8  9 10 11]\n",
      " [12 13 14 15]]\n",
      "After splitting horizontally:\n",
      "[array([[ 0,  1],\n",
      "       [ 4,  5],\n",
      "       [ 8,  9],\n",
      "       [12, 13]]), array([[ 2,  3],\n",
      "       [ 6,  7],\n",
      "       [10, 11],\n",
      "       [14, 15]])]\n"
     ]
    }
   ],
   "source": [
    "#Q72.       Write the NumPy program to split of an array of shape 4x4 it into two arrays along the second axis ?\n",
    "\n",
    "x = np.arange(16).reshape((4, 4))\n",
    "print(\"Original array:\",x)\n",
    "print(\"After splitting horizontally:\")\n",
    "print(np.hsplit(x, 2))"
   ]
  },
  {
   "cell_type": "code",
   "execution_count": 86,
   "metadata": {},
   "outputs": [
    {
     "name": "stdout",
     "output_type": "stream",
     "text": [
      "Original array:\n",
      "[[0. 0. 0. 0. 0.]\n",
      " [0. 0. 0. 0. 0.]\n",
      " [0. 0. 0. 0. 0.]\n",
      " [0. 0. 0. 0. 0.]\n",
      " [0. 0. 0. 0. 0.]]\n",
      "Row values ranging from 0 to 4.\n",
      "[[0. 1. 2. 3. 4.]\n",
      " [0. 1. 2. 3. 4.]\n",
      " [0. 1. 2. 3. 4.]\n",
      " [0. 1. 2. 3. 4.]\n",
      " [0. 1. 2. 3. 4.]]\n"
     ]
    }
   ],
   "source": [
    "#Q73.       Write the NumPy program to create a 5x5 matrix with row values ranging from 0 to 4?\n",
    "\n",
    "x = np.zeros((5,5))\n",
    "print(\"Original array:\")\n",
    "print(x)\n",
    "print(\"Row values ranging from 0 to 4.\")\n",
    "x += np.arange(5)\n",
    "print(x)"
   ]
  },
  {
   "cell_type": "code",
   "execution_count": 87,
   "metadata": {},
   "outputs": [
    {
     "name": "stdout",
     "output_type": "stream",
     "text": [
      "[(1, 2., 'Albert Einstein') (2, 2., 'Edmond Halley')\n",
      " (3, 3., 'Gertrude B. Elion')]\n"
     ]
    }
   ],
   "source": [
    "#Q74.       Write the NumPy program to create an array of zeros and three column types \n",
    "#           (integer, float, character)?\n",
    "\n",
    "x = np.zeros((3,), dtype=('int,float,object'))\n",
    "new_data = [(1, 2., \"Albert Einstein\"), (2, 2., \"Edmond Halley\"), (3, 3., \"Gertrude B. Elion\")]\n",
    "x[:] = new_data\n",
    "print(x)"
   ]
  },
  {
   "cell_type": "code",
   "execution_count": 88,
   "metadata": {},
   "outputs": [
    {
     "name": "stdout",
     "output_type": "stream",
     "text": [
      "Original array:\n",
      "[-1 -4  0  2  3  4  5 -6]\n",
      "Replace the negative values of the said array with 0:\n",
      "[0 0 0 2 3 4 5 0]\n"
     ]
    }
   ],
   "source": [
    "#Q75.       Write the NumPy program to remove the negative values in the numpy array with 0?\n",
    "\n",
    "x = np.array([-1, -4, 0, 2, 3, 4, 5, -6])\n",
    "print(\"Original array:\")\n",
    "print(x)\n",
    "print(\"Replace the negative values of the said array with 0:\")\n",
    "x[x < 0] = 0\n",
    "print(x)\n"
   ]
  },
  {
   "cell_type": "code",
   "execution_count": 89,
   "metadata": {},
   "outputs": [
    {
     "data": {
      "image/png": "[encoded data removed]",
      "text/plain": [
       "<Figure size 432x288 with 1 Axes>"
      ]
     },
     "metadata": {
      "needs_background": "light"
     },
     "output_type": "display_data"
    }
   ],
   "source": [
    "#Q76.       Write the NumPy program to compute the histogram of a set of data?\n",
    "\n",
    "import matplotlib.pyplot as plt\n",
    "plt.hist([1, 2, 1], bins=[0, 1, 2, 3, 4])\n",
    "plt.show()\n"
   ]
  },
  {
   "cell_type": "code",
   "execution_count": 90,
   "metadata": {},
   "outputs": [
    {
     "name": "stderr",
     "output_type": "stream",
     "text": [
      "C:\\Users\\Dell\\.conda\\envs\\ml_python\\lib\\site-packages\\ipykernel_launcher.py:7: UserWarning: Matplotlib is currently using module://ipykernel.pylab.backend_inline, which is a non-GUI backend, so cannot show the figure.\n",
      "  import sys\n"
     ]
    },
    {
     "data": {
      "image/png": "[encoded data removed]",
      "text/plain": [
       "<Figure size 432x288 with 1 Axes>"
      ]
     },
     "metadata": {
      "needs_background": "light"
     },
     "output_type": "display_data"
    }
   ],
   "source": [
    "#Q77.       Write the NumPy program to compute the line graph of a set of data?\n",
    "\n",
    "arr = np.random.randint(1, 50, 10)\n",
    "y, x = np.histogram(arr, bins=np.arange(51))\n",
    "fig, ax = plt.subplots()\n",
    "ax.plot(x[:-1], y)\n",
    "fig.show()"
   ]
  },
  {
   "cell_type": "code",
   "execution_count": 91,
   "metadata": {},
   "outputs": [
    {
     "name": "stdout",
     "output_type": "stream",
     "text": [
      "Original array:\n",
      "[[ 0  1  2  3]\n",
      " [ 4  5  6  7]\n",
      " [ 8  9 10 11]\n",
      " [12 13 14 15]]\n",
      "\n",
      "Extracted data from Second row :  [4 5 6 7]\n"
     ]
    }
   ],
   "source": [
    "#Q78.       Write the NumPy program to extracts all the elements from second row from given (4x4) array?\n",
    "\n",
    "arra_data = np.arange(0,16).reshape((4, 4))\n",
    "print(\"Original array:\")\n",
    "print(arra_data)\n",
    "print(\"\\nExtracted data from Second row : \",arra_data[1,:])\n"
   ]
  },
  {
   "cell_type": "code",
   "execution_count": 92,
   "metadata": {},
   "outputs": [
    {
     "name": "stdout",
     "output_type": "stream",
     "text": [
      "Original array:\n",
      "[[ 0  1  2  3]\n",
      " [ 4  5  6  7]\n",
      " [ 8  9 10 11]\n",
      " [12 13 14 15]]\n",
      "\n",
      "Extracted data from first element of second row :  1\n",
      "\n",
      "Extracted data from fourth element of fourth row :  15\n"
     ]
    }
   ],
   "source": [
    "#Q79.       Write the NumPy program to extract first element of the second row and fourth \n",
    "#           element of fourth row from a given (4x4) array?\n",
    "\n",
    "arra_data = np.arange(0,16).reshape((4, 4))\n",
    "print(\"Original array:\")\n",
    "print(arra_data)\n",
    "print(\"\\nExtracted data from first element of second row : \",arra_data[0,1])\n",
    "print(\"\\nExtracted data from fourth element of fourth row : \",arra_data[3,3])\n"
   ]
  },
  {
   "cell_type": "code",
   "execution_count": 93,
   "metadata": {},
   "outputs": [
    {
     "name": "stdout",
     "output_type": "stream",
     "text": [
      "Original array : \n",
      "\n",
      "Array-1 : \n",
      "[[1. 1. 1.]\n",
      " [1. 1. 1.]\n",
      " [1. 1. 1.]]\n",
      "\n",
      "Array-2 : \n",
      "[0 1 2]\n",
      "\n",
      "\n",
      "\n",
      "\n",
      "Array-1 + Array-2 : \n",
      "[[1. 2. 3.]\n",
      " [1. 2. 3.]\n",
      " [1. 2. 3.]]\n",
      "\n",
      "\n"
     ]
    }
   ],
   "source": [
    "#Q80.       Write the NumPy program to add two arrays A and B of sizes (3,3) and (,3)?\n",
    "\n",
    "A = np.ones((3,3))\n",
    "B = np.arange(3)\n",
    "print(\"Original array : \",end='\\n\\n')\n",
    "print(\"Array-1 : \")\n",
    "print(A,end='\\n\\n')\n",
    "print(\"Array-2 : \")\n",
    "print(B,end='\\n\\n\\n\\n\\n')\n",
    "print(\"Array-1 + Array-2 : \")\n",
    "new_array = A + B\n",
    "print(new_array,end='\\n\\n\\n')\n"
   ]
  },
  {
   "cell_type": "code",
   "execution_count": 94,
   "metadata": {},
   "outputs": [
    {
     "name": "stdout",
     "output_type": "stream",
     "text": [
      "Original Array A :\n",
      "[[1. 1. 1.]\n",
      " [1. 1. 1.]\n",
      " [1. 1. 1.]]\n",
      "\n",
      "Copy of Array A : \n",
      "[[1. 1. 1.]\n",
      " [1. 1. 1.]\n",
      " [1. 1. 1.]]\n",
      "\n"
     ]
    }
   ],
   "source": [
    "#Q81.       Write the NumPy program to copy data from a given array to another array?\n",
    "\n",
    "A = np.ones((3,3))\n",
    "print(\"Original Array A :\")\n",
    "print(A,end='\\n\\n')\n",
    "B = A.copy()\n",
    "print(\"Copy of Array A : \")\n",
    "print(B,end='\\n\\n')\n"
   ]
  },
  {
   "cell_type": "code",
   "execution_count": 95,
   "metadata": {},
   "outputs": [
    {
     "name": "stdout",
     "output_type": "stream",
     "text": [
      "Original array:\n",
      "[[ 0  1  2  3  4  5  6  7  8]\n",
      " [ 9 10 11 12 13 14 15 16 17]\n",
      " [18 19 20 21 22 23 24 25 26]\n",
      " [27 28 29 30 31 32 33 34 35]]\n",
      "\n",
      "Sum of all columns:\n",
      "[54 58 62 66 70 74 78 82 86]\n"
     ]
    }
   ],
   "source": [
    "#Q82.       Write the NumPy program to calculate the sum of all columns of the 2D numpy array?\n",
    "\n",
    "num = np.arange(36)\n",
    "arr1 = np.reshape(num, [4, 9])\n",
    "print(\"Original array:\")\n",
    "print(arr1)\n",
    "result  = arr1.sum(axis=0)\n",
    "print(\"\\nSum of all columns:\")\n",
    "print(result)"
   ]
  },
  {
   "cell_type": "code",
   "execution_count": 96,
   "metadata": {},
   "outputs": [
    {
     "name": "stdout",
     "output_type": "stream",
     "text": [
      "Original array:\n",
      "[[10. 20. 30.]\n",
      " [40. 50. nan]\n",
      " [nan  6. nan]\n",
      " [nan nan nan]]\n",
      "[[10.0 20.0 30.0]\n",
      " [40.0 50.0 --]\n",
      " [-- 6.0 --]\n",
      " [-- -- --]]\n",
      "Averages without NaNs along the said array:\n",
      "[20. 45.  6. nan]\n"
     ]
    }
   ],
   "source": [
    "#Q83.       Write the NumPy program to calculate averages without NaNs along the given array?\n",
    "\n",
    "arr1 = np.array([[10, 20 ,30], [40, 50, np.nan], [np.nan, 6, np.nan], [np.nan, np.nan, np.nan]])\n",
    "print(\"Original array:\")\n",
    "print(arr1)\n",
    "temp = np.ma.masked_array(arr1,np.isnan(arr1))\n",
    "print(temp)\n",
    "result = np.mean(temp, axis=1)\n",
    "print(\"Averages without NaNs along the said array:\")\n",
    "print(result.filled(np.nan))\n"
   ]
  },
  {
   "cell_type": "code",
   "execution_count": 97,
   "metadata": {},
   "outputs": [
    {
     "name": "stdout",
     "output_type": "stream",
     "text": [
      "Original arrays:\n",
      "[ 10 -10  10 -10 -10  10]\n",
      "[0.85 0.45 0.9  0.8  0.12 0.6 ]\n",
      "\n",
      "Number of instances of a value occurring in one array on the condition of another array:\n",
      "3\n"
     ]
    }
   ],
   "source": [
    "#Q84.       Create two arrays of six elements. Write the NumPy program to count the number \n",
    "#           of instances of a value occurring in one array on the condition of another array.\n",
    "\n",
    "x = np.array([10,-10,10,-10,-10,10])\n",
    "y = np.array([.85,.45,.9,.8,.12,.6])\n",
    "print(\"Original arrays:\")\n",
    "print(x)\n",
    "print(y)\n",
    "result = np.sum((x == 10) & (y > .5))\n",
    "print(\"\\nNumber of instances of a value occurring in one array on the condition of another array:\")\n",
    "print(result)\n"
   ]
  },
  {
   "cell_type": "code",
   "execution_count": 98,
   "metadata": {},
   "outputs": [
    {
     "name": "stdout",
     "output_type": "stream",
     "text": [
      "\n",
      "Original dictionary:\n",
      "{'column0': {'a': 1, 'b': 0.0, 'c': 0.0, 'd': 2.0}, 'column1': {'a': 3.0, 'b': 1, 'c': 0.0, 'd': -1.0}, 'column2': {'a': 4, 'b': 1, 'c': 5.0, 'd': -1.0}, 'column3': {'a': 3.0, 'b': -1.0, 'c': -1.0, 'd': -1.0}}\n",
      "Type:  <class 'dict'>\n",
      "\n",
      "ndarray:\n",
      "[[ 1.  0.  0.  2.]\n",
      " [ 3.  1.  0. -1.]\n",
      " [ 4.  1.  5. -1.]\n",
      " [ 3. -1. -1. -1.]]\n",
      "Type:  <class 'numpy.ndarray'>\n"
     ]
    }
   ],
   "source": [
    "#Q85.       Write the NumPy program to convert a Python dictionary to a Numpy ndarray ?\n",
    "\n",
    "udict = \"\"\"\n",
    "  }\"\"\"\n",
    "t = {\"column0\":{\"a\":1,\"b\":0.0,\"c\":0.0,\"d\":2.0},\n",
    "   \"column1\":{\"a\":3.0,\"b\":1,\"c\":0.0,\"d\":-1.0},\n",
    "   \"column2\":{\"a\":4,\"b\":1,\"c\":5.0,\"d\":-1.0},\n",
    "   \"column3\":{\"a\":3.0,\"b\":-1.0,\"c\":-1.0,\"d\":-1.0}}\n",
    "print(\"\\nOriginal dictionary:\")\n",
    "print(t)\n",
    "print(\"Type: \",type(t))\n",
    "result_nparra = np.array([[v[j] for j in ['a', 'b', 'c', 'd']] for k, v in t.items()])\n",
    "print(\"\\nndarray:\")\n",
    "print(result_nparra)\n",
    "print(\"Type: \",type(result_nparra))\n"
   ]
  },
  {
   "cell_type": "code",
   "execution_count": 99,
   "metadata": {},
   "outputs": [
    {
     "name": "stdout",
     "output_type": "stream",
     "text": [
      "Original array:\n",
      "[[ 1  1  0]\n",
      " [ 0  0  0]\n",
      " [ 0  2  3]\n",
      " [ 0  0  0]\n",
      " [ 0 -1  1]\n",
      " [ 0  0  0]]\n",
      "\n",
      "Non-zero unique rows:\n",
      "[[0 0 0]\n",
      " [0 0 0]\n",
      " [0 0 0]]\n"
     ]
    },
    {
     "data": {
      "text/plain": [
       "array([[0, 0, 0],\n",
       "       [0, 0, 0],\n",
       "       [0, 0, 0]])"
      ]
     },
     "execution_count": 99,
     "metadata": {},
     "output_type": "execute_result"
    }
   ],
   "source": [
    "#Q86.       Write the Numpy program to find and store the non-zero unique rows in an array after \n",
    "#           comparing each row with other row in the given matrix?\n",
    "\n",
    "arra = np.array([[ 1,  1,  0],\n",
    "                 [ 0,  0,  0],\n",
    "                 [ 0,  2,  3],\n",
    "                 [ 0,  0,  0],\n",
    "                 [ 0, -1,  1],\n",
    "                 [ 0,  0,  0]])\n",
    "\n",
    "print(\"Original array:\")\n",
    "print(arra)\n",
    "\n",
    "temp = [[0, 0, 0],]\n",
    "result = []\n",
    "for row in arra:\n",
    "    if list(row) in temp:\n",
    "        temp.append(list(row))\n",
    "        result.append(row)\n",
    "print(\"\\nNon-zero unique rows:\")\n",
    "print(np.array(result))\n",
    "result = np.array(result)\n",
    "result"
   ]
  },
  {
   "cell_type": "code",
   "execution_count": 100,
   "metadata": {},
   "outputs": [
    {
     "name": "stdout",
     "output_type": "stream",
     "text": [
      "First array:\n",
      "[[1.+2.j 3.+4.j]\n",
      " [0.+3.j 5.+2.j]]\n",
      "Second array:\n",
      "[[5.+6.j 7.+8.j]\n",
      " [0.+3.j 5.+2.j]]\n",
      "Product of above two arrays:\n",
      "[[-19.+25.j  -2.+48.j]\n",
      " [-24.+30.j  -3.+41.j]]\n"
     ]
    }
   ],
   "source": [
    "#Q87.       Write the NumPy program to multiply the matrix by another matrix of complex \n",
    "#           numbers and create a new matrix of complex numbers?\n",
    "\n",
    "x = np.array([[1+2j,3+4j], [0+3j,5+2j]])\n",
    "print(\"First array:\")\n",
    "print(x)\n",
    "\n",
    "y = np.array([[5+6j,7+8j], [0+3j,5+2j]])\n",
    "print(\"Second array:\")\n",
    "print(y)\n",
    "\n",
    "z = x @ y\n",
    "print(\"Product of above two arrays:\")\n",
    "print(z)\n"
   ]
  },
  {
   "cell_type": "code",
   "execution_count": 101,
   "metadata": {},
   "outputs": [
    {
     "name": "stdout",
     "output_type": "stream",
     "text": [
      "Matrices and vectors.\n",
      "x:\n",
      "[[1 0]\n",
      " [1 1]]\n",
      "y:\n",
      "[[3 1]\n",
      " [2 2]]\n",
      "Matrix product of above two arrays:\n",
      "[[3 1]\n",
      " [5 3]]\n"
     ]
    }
   ],
   "source": [
    "#Q88.       Write a NumPy program to generate the matrix product of two Arrays?\n",
    "\n",
    "x = np.array([[1, 0], [1, 1]])\n",
    "y = np.array([[3, 1], [2, 2]])\n",
    "print(\"Matrices and vectors.\")\n",
    "print(\"x:\")\n",
    "print(x)\n",
    "print(\"y:\")\n",
    "print(y)\n",
    "print(\"Matrix product of above two arrays:\")\n",
    "print(x@y)\n"
   ]
  },
  {
   "cell_type": "code",
   "execution_count": 102,
   "metadata": {},
   "outputs": [
    {
     "name": "stdout",
     "output_type": "stream",
     "text": [
      "Roots of the first polynomial:\n",
      "[ 1. nan  1.]\n",
      "Roots of the second polynomial:\n",
      "[1.                nan 3.16227766 2.64575131        nan]\n"
     ]
    },
    {
     "name": "stderr",
     "output_type": "stream",
     "text": [
      "C:\\Users\\Dell\\.conda\\envs\\ml_python\\lib\\site-packages\\ipykernel_launcher.py:4: RuntimeWarning: invalid value encountered in sqrt\n",
      "  after removing the cwd from sys.path.\n",
      "C:\\Users\\Dell\\.conda\\envs\\ml_python\\lib\\site-packages\\ipykernel_launcher.py:6: RuntimeWarning: invalid value encountered in sqrt\n",
      "  \n"
     ]
    }
   ],
   "source": [
    "#Q89.       Write the NumPy program to find roots of the following Polynomials?\n",
    "\n",
    "print(\"Roots of the first polynomial:\")\n",
    "print(np.sqrt([1, -2, 1]))\n",
    "print(\"Roots of the second polynomial:\")\n",
    "print(np.sqrt([1, -12, 10, 7, -10]))\n"
   ]
  },
  {
   "cell_type": "code",
   "execution_count": 103,
   "metadata": {},
   "outputs": [
    {
     "name": "stdout",
     "output_type": "stream",
     "text": [
      "Inverse sine: [-1.57079633  0.          1.57079633]\n",
      "Inverse cosine: [3.14159265 1.57079633 0.        ]\n",
      "Inverse tangent: [-0.78539816  0.          0.78539816]\n"
     ]
    }
   ],
   "source": [
    "#Q90.       Write the NumPy program to calculate inverse of sine, cosine, and inverse \n",
    "#           tangent for all elements in a given array?\n",
    "\n",
    "import numpy as np\n",
    "x = np.array([-1., 0, 1.])\n",
    "print(\"Inverse sine:\", np.arcsin(x))\n",
    "print(\"Inverse cosine:\", np.arccos(x))\n",
    "print(\"Inverse tangent:\", np.arctan(x))\n"
   ]
  },
  {
   "cell_type": "code",
   "execution_count": 104,
   "metadata": {},
   "outputs": [
    {
     "name": "stdout",
     "output_type": "stream",
     "text": [
      "Original array: \n",
      "[1 3 5 7 0]\n",
      "Difference between neighboring elements, element-wise of the said array.\n",
      "[ 2  2  2 -7]\n"
     ]
    }
   ],
   "source": [
    "#Q91.       Write the NumPy program to calculate the difference between in neighbouring \n",
    "#           elements, element-wise of a given array?\n",
    "\n",
    "x = np.array([1, 3, 5, 7, 0])\n",
    "print(\"Original array: \")\n",
    "print(x)\n",
    "print(\"Difference between neighboring elements, element-wise of the said array.\")\n",
    "print(np.diff(x))"
   ]
  },
  {
   "cell_type": "code",
   "execution_count": 105,
   "metadata": {},
   "outputs": [
    {
     "name": "stdout",
     "output_type": "stream",
     "text": [
      "Original array:\n",
      "[[0 1]\n",
      " [2 3]]\n",
      "Original flatten array:\n",
      "[0 1 2 3]\n",
      "Maximum value of the above flattened array:\n",
      "3\n",
      "Minimum value of the above flattened array:\n",
      "0\n"
     ]
    }
   ],
   "source": [
    "#Q92.       Write the Python program to find the maximum and the minimum value of a \n",
    "#           given flattened array?\n",
    "\n",
    "a = np.arange(4).reshape((2,2))\n",
    "print(\"Original array:\")\n",
    "print(a)\n",
    "b=a.flatten()\n",
    "print(\"Original flatten array:\")\n",
    "print(b)\n",
    "print(\"Maximum value of the above flattened array:\")\n",
    "print(np.max(b))\n",
    "print(\"Minimum value of the above flattened array:\")\n",
    "print(np.min(b))\n"
   ]
  },
  {
   "cell_type": "code",
   "execution_count": 106,
   "metadata": {},
   "outputs": [
    {
     "name": "stdout",
     "output_type": "stream",
     "text": [
      "\n",
      "Original array:\n",
      "[[ 0  1  2  3]\n",
      " [ 4  5  6  7]\n",
      " [ 8  9 10 11]]\n",
      "\n",
      "Difference between the maximum and the minimum values of the said array:\n",
      "[3 3 3]\n"
     ]
    }
   ],
   "source": [
    "#Q93.       Write the NumPy program to calculate the difference between in the maximum \n",
    "#           and the minimum values of a given array along the second axis ?\n",
    "\n",
    "x = np.arange(12).reshape((3, 4))\n",
    "print(\"\\nOriginal array:\")\n",
    "print(x)\n",
    "r2 = np.amax(x, 1) - np.amin(x, 1)\n",
    "print(\"\\nDifference between the maximum and the minimum values of the said array:\")\n",
    "print(r2)"
   ]
  },
  {
   "cell_type": "code",
   "execution_count": 107,
   "metadata": {},
   "outputs": [
    {
     "name": "stdout",
     "output_type": "stream",
     "text": [
      "\n",
      "Original array:\n",
      "[0 1 2 3 4]\n",
      "[ 0  2  6 12 20]\n",
      "\n",
      "Weighted average of the said array:\n",
      "8.0\n"
     ]
    }
   ],
   "source": [
    "#Q94.       Write the NumPy program to compute the weighted average of the given array ?\n",
    "\n",
    "x = np.arange(5)\n",
    "print(\"\\nOriginal array:\")\n",
    "print(x)\n",
    "weights = np.arange(1, 6)\n",
    "print(x*weights)\n",
    "print(\"\\nWeighted average of the said array:\")\n",
    "print(np.average(x*weights))"
   ]
  },
  {
   "cell_type": "code",
   "execution_count": 108,
   "metadata": {},
   "outputs": [
    {
     "name": "stdout",
     "output_type": "stream",
     "text": [
      "\n",
      "Original array:\n",
      "[[ 0  1  2  3]\n",
      " [ 4  5  6  7]\n",
      " [ 8  9 10 11]\n",
      " [12 13 14 15]]\n",
      "\n",
      "Mean:  [ 1.5  5.5  9.5 13.5]\n",
      "\n",
      "std:  [1.11803399 1.11803399 1.11803399 1.11803399]\n",
      "\n",
      "variance:  [1.25 1.25 1.25 1.25]\n"
     ]
    }
   ],
   "source": [
    "#Q95.       Write the NumPy program to compute the mean, standard deviation, and \n",
    "#           the variance of a given array along the second axis?\n",
    "\n",
    "x = np.arange(16).reshape(4,4)\n",
    "print(\"\\nOriginal array:\")\n",
    "print(x)\n",
    "r1 = np.mean(x,1)\n",
    "print(\"\\nMean: \", r1)\n",
    "r2 = np.std(x,1)\n",
    "print(\"\\nstd: \", r2)\n",
    "r3= np.var(x,1)\n",
    "print(\"\\nvariance: \", r3)"
   ]
  },
  {
   "cell_type": "code",
   "execution_count": 169,
   "metadata": {},
   "outputs": [
    {
     "name": "stdout",
     "output_type": "stream",
     "text": [
      "\n",
      "Original array1:\n",
      "[0 1 2]\n",
      "\n",
      "Original array1:\n",
      "[2 1 0]\n",
      "\n",
      "Covariance matrix of the said arrays:\n",
      " [[ 1. -1.]\n",
      " [-1.  1.]]\n"
     ]
    }
   ],
   "source": [
    "#Q96.       Write the Numpy program to compute the covariance matrix of the two given arrays\n",
    "\n",
    "x = np.array([0, 1, 2])\n",
    "y = np.array([2, 1, 0])\n",
    "print(\"\\nOriginal array1:\")\n",
    "print(x)\n",
    "print(\"\\nOriginal array1:\")\n",
    "print(y)\n",
    "print(\"\\nCovariance matrix of the said arrays:\\n\",np.cov(x, y))\n"
   ]
  },
  {
   "cell_type": "code",
   "execution_count": 109,
   "metadata": {},
   "outputs": [
    {
     "name": "stdout",
     "output_type": "stream",
     "text": [
      "\n",
      "Original array1:\n",
      "[0 1 3 6]\n",
      "\n",
      "Original array1:\n",
      "[2 4 5 8]\n",
      "\n",
      "Cross-correlation of the said arrays:\n",
      " [[7.   6.5 ]\n",
      " [6.5  6.25]]\n"
     ]
    }
   ],
   "source": [
    "#Q97.       Write a NumPy program to compute the cross-correlation of two given arrays ?\n",
    "\n",
    "x = np.array([0, 1, 3, 6])\n",
    "y = np.array([2, 4, 5, 8])\n",
    "print(\"\\nOriginal array1:\")\n",
    "print(x)\n",
    "print(\"\\nOriginal array1:\")\n",
    "print(y)\n",
    "print(\"\\nCross-correlation of the said arrays:\\n\",np.cov(x, y))\n"
   ]
  },
  {
   "cell_type": "code",
   "execution_count": 110,
   "metadata": {},
   "outputs": [
    {
     "name": "stdout",
     "output_type": "stream",
     "text": [
      "\n",
      "Original array1:\n",
      "[0 1 3 6]\n",
      "\n",
      "Original array1:\n",
      "[2 4 5 8]\n",
      "\n",
      "Cross-correlation of the said arrays:\n",
      " [[1.         0.98270763]\n",
      " [0.98270763 1.        ]]\n"
     ]
    }
   ],
   "source": [
    "#Q98.       Write the NumPy program to compute Pearson product-moment correlation \n",
    "#           coefficients of two given arrays?\n",
    "\n",
    "x = np.array([0, 1, 3, 6])\n",
    "y = np.array([2, 4, 5, 8])\n",
    "print(\"\\nOriginal array1:\")\n",
    "print(x)\n",
    "print(\"\\nOriginal array1:\")\n",
    "print(y)\n",
    "print(\"\\nCross-correlation of the said arrays:\\n\",np.corrcoef(x, y))\n",
    "\n"
   ]
  },
  {
   "cell_type": "code",
   "execution_count": 111,
   "metadata": {},
   "outputs": [
    {
     "name": "stdout",
     "output_type": "stream",
     "text": [
      "Original array:\n",
      "[0 1 6 1 4 1 2 2 7]\n",
      "Number of occurrences of each value in array: \n",
      "[1 3 2 0 1 0 1 1]\n"
     ]
    }
   ],
   "source": [
    "#Q99.       Write the python program to count the number of occurrences of each value \n",
    "#           in a given array of non-negative integers?\n",
    "\n",
    "array1 = np.array([0, 1, 6, 1, 4, 1, 2, 2, 7]) \n",
    "print(\"Original array:\")\n",
    "print(array1)\n",
    "print(\"Number of occurrences of each value in array: \")\n",
    "print(np.bincount(array1))\n"
   ]
  },
  {
   "cell_type": "code",
   "execution_count": 112,
   "metadata": {},
   "outputs": [
    {
     "name": "stdout",
     "output_type": "stream",
     "text": [
      "nums:  [0.5 0.7 1.  1.2 1.3 2.1]\n",
      "bins:  [0 1 2 3]\n",
      "Result: (array([2, 3, 1], dtype=int64), array([0, 1, 2, 3]))\n"
     ]
    },
    {
     "data": {
      "image/png": "[encoded data removed]",
      "text/plain": [
       "<Figure size 432x288 with 1 Axes>"
      ]
     },
     "metadata": {
      "needs_background": "light"
     },
     "output_type": "display_data"
    }
   ],
   "source": [
    "#Q100.      Write a Numpy program to compute the histogram of nums against the bins?\n",
    "\n",
    "import matplotlib.pyplot as plt\n",
    "nums = np.array([0.5, 0.7, 1.0, 1.2, 1.3, 2.1])\n",
    "bins = np.array([0, 1, 2, 3])\n",
    "print(\"nums: \",nums)\n",
    "print(\"bins: \",bins)\n",
    "print(\"Result:\", np.histogram(nums, bins))\n",
    "plt.hist(nums, bins=bins)\n",
    "plt.show()\n"
   ]
  },
  {
   "cell_type": "code",
   "execution_count": 113,
   "metadata": {},
   "outputs": [
    {
     "name": "stdout",
     "output_type": "stream",
     "text": [
      "Add two Series:\n",
      "0     3\n",
      "1     7\n",
      "2    11\n",
      "3    15\n",
      "4    19\n",
      "dtype: int64\n",
      "Subtract two Series:\n",
      "0    1\n",
      "1    1\n",
      "2    1\n",
      "3    1\n",
      "4    1\n",
      "dtype: int64\n",
      "Multiply two Series:\n",
      "0     2\n",
      "1    12\n",
      "2    30\n",
      "3    56\n",
      "4    90\n",
      "dtype: int64\n",
      "Divide Series1 by Series2:\n",
      "0    2.000000\n",
      "1    1.333333\n",
      "2    1.200000\n",
      "3    1.142857\n",
      "4    1.111111\n",
      "dtype: float64\n"
     ]
    }
   ],
   "source": [
    "#Q101.      Write the Python program to add, subtract, multiply and divide two pandas series ?\n",
    "\n",
    "import pandas as pd\n",
    "ds1 = pd.Series([2, 4, 6, 8, 10])\n",
    "ds2 = pd.Series([1, 3, 5, 7, 9])\n",
    "print(\"Add two Series:\")\n",
    "ds = ds1 + ds2\n",
    "print(ds)\n",
    "print(\"Subtract two Series:\")\n",
    "ds = ds1 - ds2\n",
    "print(ds)\n",
    "print(\"Multiply two Series:\")\n",
    "ds = ds1 * ds2\n",
    "print(ds)\n",
    "print(\"Divide Series1 by Series2:\")\n",
    "ds = ds1 / ds2\n",
    "print(ds)"
   ]
  },
  {
   "cell_type": "code",
   "execution_count": 114,
   "metadata": {},
   "outputs": [
    {
     "name": "stdout",
     "output_type": "stream",
     "text": [
      "Original dictionary:\n",
      "{'a': 100, 'b': 200, 'c': 300, 'd': 400, 'e': 800}\n",
      "Converted series:\n",
      "a    100\n",
      "b    200\n",
      "c    300\n",
      "d    400\n",
      "e    800\n",
      "dtype: int64\n"
     ]
    }
   ],
   "source": [
    "#Q102.      Write a Python program to convert a dictionary to the Pandas Series?\n",
    "\n",
    "d1 = {'a': 100, 'b': 200, 'c':300, 'd':400, 'e':800}\n",
    "print(\"Original dictionary:\")\n",
    "print(d1)\n",
    "new_series = pd.Series(d1)\n",
    "print(\"Converted series:\")\n",
    "print(new_series)"
   ]
  },
  {
   "cell_type": "code",
   "execution_count": 115,
   "metadata": {},
   "outputs": [
    {
     "name": "stdout",
     "output_type": "stream",
     "text": [
      "Original Data Series:\n",
      "0       100\n",
      "1       200\n",
      "2    python\n",
      "3    300.12\n",
      "4       400\n",
      "dtype: object\n",
      "Change the said data type to numeric:\n",
      "0    100.00\n",
      "1    200.00\n",
      "2       NaN\n",
      "3    300.12\n",
      "4    400.00\n",
      "dtype: float64\n"
     ]
    }
   ],
   "source": [
    "#Q103.      Write a python program to change the data type of given a column or a Series?\n",
    "\n",
    "s1 = pd.Series(['100', '200', 'python', '300.12', '400'])\n",
    "print(\"Original Data Series:\")\n",
    "print(s1)\n",
    "print(\"Change the said data type to numeric:\")\n",
    "s2 = pd.to_numeric(s1, errors='coerce')\n",
    "print(s2)\n"
   ]
  },
  {
   "cell_type": "code",
   "execution_count": 116,
   "metadata": {},
   "outputs": [
    {
     "name": "stdout",
     "output_type": "stream",
     "text": [
      "Original DataFrame\n",
      "   col1  col2  col3\n",
      "0     1     4     7\n",
      "1     2     5     5\n",
      "2     3     6     8\n",
      "3     4     9    12\n",
      "4     7     5     1\n",
      "5    11     0    11\n",
      "\n",
      "1st column as a Series:\n",
      "0     1\n",
      "1     2\n",
      "2     3\n",
      "3     4\n",
      "4     7\n",
      "5    11\n",
      "Name: col1, dtype: int64\n",
      "<class 'pandas.core.series.Series'>\n"
     ]
    }
   ],
   "source": [
    "#Q104.      Write the python pandas program to convert the first column of a DataFrame as a Series?\n",
    "\n",
    "d = {'col1': [1, 2, 3, 4, 7, 11], 'col2': [4, 5, 6, 9, 5, 0], 'col3': [7, 5, 8, 12, 1,11]}\n",
    "df = pd.DataFrame(data=d)\n",
    "print(\"Original DataFrame\")\n",
    "print(df)\n",
    "s1 = df.iloc[:,0]\n",
    "print(\"\\n1st column as a Series:\")\n",
    "print(s1)\n",
    "print(type(s1))"
   ]
  },
  {
   "cell_type": "code",
   "execution_count": 117,
   "metadata": {},
   "outputs": [
    {
     "name": "stdout",
     "output_type": "stream",
     "text": [
      "Original Data Series:\n",
      "0     1\n",
      "1     2\n",
      "2     3\n",
      "3     4\n",
      "4     5\n",
      "5     6\n",
      "6     7\n",
      "7     8\n",
      "8     9\n",
      "9     5\n",
      "10    3\n",
      "dtype: int64\n",
      "Mean of the said Data Series:\n",
      "4.818181818181818\n",
      "Standard deviation of the said Data Series:\n",
      "2.522624895547565\n"
     ]
    }
   ],
   "source": [
    "#Q105.      Write a pandas program to create the mean and standard deviation of the data of a given Series?\n",
    "\n",
    "s = pd.Series(data = [1,2,3,4,5,6,7,8,9,5,3])\n",
    "print(\"Original Data Series:\")\n",
    "print(s)\n",
    "print(\"Mean of the said Data Series:\")\n",
    "print(s.mean())\n",
    "print(\"Standard deviation of the said Data Series:\")\n",
    "print(s.std())\n"
   ]
  },
  {
   "cell_type": "code",
   "execution_count": 118,
   "metadata": {},
   "outputs": [
    {
     "name": "stdout",
     "output_type": "stream",
     "text": [
      "Previous Array :\n",
      "     X   Y   Z\n",
      "0  78  84  86\n",
      "1  85  94  97\n",
      "2  96  89  96\n",
      "3  80  83  72\n",
      "4  86  86  83\n",
      "\n",
      "\n",
      "Each element's power raise to 2 : \n",
      "        X     Y     Z\n",
      "0  6084  7056  7396\n",
      "1  7225  8836  9409\n",
      "2  9216  7921  9216\n",
      "3  6400  6889  5184\n",
      "4  7396  7396  6889\n"
     ]
    }
   ],
   "source": [
    "#Q106.      Write a pandas program to get powers of an array values element-wise?\n",
    "\n",
    "df = pd.DataFrame({'X':[78,85,96,80,86], 'Y':[84,94,89,83,86],'Z':[86,97,96,72,83]});\n",
    "print(\"Previous Array :\\n\",df)\n",
    "print(\"\\n\\nEach element's power raise to 2 : \\n \",np.power(df,2))\n"
   ]
  },
  {
   "cell_type": "code",
   "execution_count": 119,
   "metadata": {},
   "outputs": [
    {
     "name": "stdout",
     "output_type": "stream",
     "text": [
      "First three rows of the data frame:\n",
      "        name  score  attempts qualify\n",
      "a  Anastasia   12.5         1     yes\n",
      "b       Dima    9.0         3      no\n",
      "c  Katherine   16.5         2     yes\n"
     ]
    }
   ],
   "source": [
    "#Q107.      Write the pandas program to get the first 3 rows of a given DataFrame?\n",
    "\n",
    "exam_data  = {'name': ['Anastasia', 'Dima', 'Katherine', 'James', 'Emily', 'Michael', 'Matthew', 'Laura', 'Kevin', 'Jonas'],\n",
    "        'score': [12.5, 9, 16.5, np.nan, 9, 20, 14.5, np.nan, 8, 19],\n",
    "        'attempts': [1, 3, 2, 3, 2, 3, 1, 1, 2, 1],\n",
    "        'qualify': ['yes', 'no', 'yes', 'no', 'no', 'yes', 'yes', 'no', 'no', 'yes']}\n",
    "labels = ['a', 'b', 'c', 'd', 'e', 'f', 'g', 'h', 'i', 'j']\n",
    "\n",
    "df = pd.DataFrame(exam_data , index=labels)\n",
    "print(\"First three rows of the data frame:\")\n",
    "print(df.iloc[:3])\n"
   ]
  },
  {
   "cell_type": "code",
   "execution_count": 120,
   "metadata": {},
   "outputs": [
    {
     "name": "stdout",
     "output_type": "stream",
     "text": [
      "Select specific columns and rows:\n",
      "   score qualify\n",
      "b    9.0      no\n",
      "d    NaN      no\n",
      "f   20.0     yes\n",
      "g   14.5     yes\n"
     ]
    }
   ],
   "source": [
    "#Q108.      Write the pandas program to select the specified columns and the rows from a given data frame?\n",
    "\n",
    "import pandas as pd\n",
    "import numpy as np\n",
    "\n",
    "exam_data  = {'name': ['Anastasia', 'Dima', 'Katherine', 'James', 'Emily', 'Michael', 'Matthew', 'Laura', 'Kevin', 'Jonas'],\n",
    "        'score': [12.5, 9, 16.5, np.nan, 9, 20, 14.5, np.nan, 8, 19],\n",
    "        'attempts': [1, 3, 2, 3, 2, 3, 1, 1, 2, 1],\n",
    "        'qualify': ['yes', 'no', 'yes', 'no', 'no', 'yes', 'yes', 'no', 'no', 'yes']}\n",
    "labels = ['a', 'b', 'c', 'd', 'e', 'f', 'g', 'h', 'i', 'j']\n",
    "\n",
    "df = pd.DataFrame(exam_data , index=labels)\n",
    "print(\"Select specific columns and rows:\")\n",
    "print(df.iloc[[1, 3, 5, 6], [1, 3]])\n"
   ]
  },
  {
   "cell_type": "code",
   "execution_count": 121,
   "metadata": {},
   "outputs": [
    {
     "name": "stdout",
     "output_type": "stream",
     "text": [
      "\n",
      "Mean score for each different student in data frame:\n",
      "13.5625\n"
     ]
    }
   ],
   "source": [
    "#Q109.      Write the pandas program to calculate mean score for each different student in DataFrame?\n",
    "\n",
    "exam_data  = {'name': ['Anastasia', 'Dima', 'Katherine', 'James', 'Emily', 'Michael', 'Matthew', 'Laura', 'Kevin', 'Jonas'],\n",
    "        'score': [12.5, 9, 16.5, np.nan, 9, 20, 14.5, np.nan, 8, 19],\n",
    "        'attempts': [1, 3, 2, 3, 2, 3, 1, 1, 2, 1],\n",
    "        'qualify': ['yes', 'no', 'yes', 'no', 'no', 'yes', 'yes', 'no', 'no', 'yes']}\n",
    "labels = ['a', 'b', 'c', 'd', 'e', 'f', 'g', 'h', 'i', 'j']\n",
    "\n",
    "df = pd.DataFrame(exam_data , index=labels)\n",
    "print(\"\\nMean score for each different student in data frame:\")\n",
    "print(df['score'].mean())"
   ]
  },
  {
   "cell_type": "code",
   "execution_count": 122,
   "metadata": {},
   "outputs": [
    {
     "name": "stdout",
     "output_type": "stream",
     "text": [
      "Original DataFrame\n",
      "   col1  col2  col3\n",
      "0     1     4     7\n",
      "1     2     5     8\n",
      "2     3     6     9\n",
      "New DataFrame after renaming columns:\n",
      "   Column1  Column2  Column3\n",
      "0        1        4        7\n",
      "1        2        5        8\n",
      "2        3        6        9\n"
     ]
    }
   ],
   "source": [
    "#Q110.      Write the Pandas program to rename columns of a given DataFrame ?\n",
    "\n",
    "d = {'col1': [1, 2, 3], 'col2': [4, 5, 6], 'col3': [7, 8, 9]}\n",
    "df = pd.DataFrame(data=d)\n",
    "print(\"Original DataFrame\")\n",
    "print(df)\n",
    "df.columns = ['Column1', 'Column2', 'Column3']\n",
    "df = df.rename(columns={'col1': 'Column1', 'col2': 'Column2', 'col3': 'Column3'})\n",
    "print(\"New DataFrame after renaming columns:\")\n",
    "print(df)\n"
   ]
  },
  {
   "cell_type": "code",
   "execution_count": 123,
   "metadata": {},
   "outputs": [
    {
     "name": "stdout",
     "output_type": "stream",
     "text": [
      "             count\n",
      "city              \n",
      "California       4\n",
      "Georgia          2\n",
      "Los Angeles      4\n"
     ]
    }
   ],
   "source": [
    "#Q111.      Write a pandas program to count city-wise number of people from a given of data set (city, name of the person)?\n",
    "\n",
    "df1 = pd.DataFrame({'name': ['Anastasia', 'Dima', 'Katherine', 'James', 'Emily', 'Michael', 'Matthew', 'Laura', 'Kevin', 'Jonas'],\n",
    "'city': ['California', 'Los Angeles', 'California', 'California', 'California', 'Los Angeles', 'Los Angeles', 'Georgia', 'Georgia', 'Los Angeles']})\n",
    "g1 = df1.groupby(['city']).count()\n",
    "g1.columns=['count']\n",
    "print(g1)"
   ]
  },
  {
   "cell_type": "code",
   "execution_count": 124,
   "metadata": {},
   "outputs": [
    {
     "name": "stdout",
     "output_type": "stream",
     "text": [
      "Original DataFrame\n",
      "   col1  col2  col3\n",
      "0     1     4     7\n",
      "1     4     5     8\n",
      "2     3     6     9\n",
      "3     4     7     0\n",
      "4     5     8     1\n"
     ]
    }
   ],
   "source": [
    "#Q112.      Write a pandas program to widen output display to see more columns?\n",
    "\n",
    "df = pd.read_csv(\"test.csv\")\n",
    "d = {'col1': [1, 4, 3, 4, 5], 'col2': [4, 5, 6, 7, 8], 'col3': [7, 8, 9, 0, 1]}\n",
    "df = pd.DataFrame(data=d)\n",
    "pd.set_option('display.max_rows', 500)\n",
    "pd.set_option('display.max_columns', 500)\n",
    "pd.set_option('display.width', 1000)\n",
    "print(\"Original DataFrame\")\n",
    "print(df)"
   ]
  },
  {
   "cell_type": "code",
   "execution_count": 125,
   "metadata": {},
   "outputs": [
    {
     "name": "stdout",
     "output_type": "stream",
     "text": [
      "String Date:\n",
      "0    3/11/2000\n",
      "1    3/12/2000\n",
      "2    3/13/2000\n",
      "dtype: object\n",
      "Original DataFrame (string to datetime):\n",
      "           0\n",
      "0 2000-03-11\n",
      "1 2000-03-12\n",
      "2 2000-03-13\n"
     ]
    }
   ],
   "source": [
    "#Q113.      Write a pandas program to convert the data frame column type from string to DateTime?\n",
    "\n",
    "s = pd.Series(['3/11/2000', '3/12/2000', '3/13/2000'])\n",
    "print(\"String Date:\")\n",
    "print(s)\n",
    "r = pd.to_datetime(pd.Series(s))\n",
    "df = pd.DataFrame(r)\n",
    "print(\"Original DataFrame (string to datetime):\")\n",
    "print(df)\n"
   ]
  },
  {
   "cell_type": "code",
   "execution_count": 126,
   "metadata": {},
   "outputs": [
    {
     "data": {
      "text/html": [
       "<div>\n",
       "<style scoped>\n",
       "    .dataframe tbody tr th:only-of-type {\n",
       "        vertical-align: middle;\n",
       "    }\n",
       "\n",
       "    .dataframe tbody tr th {\n",
       "        vertical-align: top;\n",
       "    }\n",
       "\n",
       "    .dataframe thead th {\n",
       "        text-align: right;\n",
       "    }\n",
       "</style>\n",
       "<table border=\"1\" class=\"dataframe\">\n",
       "  <thead>\n",
       "    <tr style=\"text-align: right;\">\n",
       "      <th></th>\n",
       "      <th>id</th>\n",
       "      <th>name</th>\n",
       "    </tr>\n",
       "  </thead>\n",
       "  <tbody>\n",
       "    <tr>\n",
       "      <th>0</th>\n",
       "      <td>1</td>\n",
       "      <td>shubham</td>\n",
       "    </tr>\n",
       "    <tr>\n",
       "      <th>1</th>\n",
       "      <td>2</td>\n",
       "      <td>harsh</td>\n",
       "    </tr>\n",
       "    <tr>\n",
       "      <th>2</th>\n",
       "      <td>3</td>\n",
       "      <td>sumanta</td>\n",
       "    </tr>\n",
       "    <tr>\n",
       "      <th>3</th>\n",
       "      <td>4</td>\n",
       "      <td>naitik</td>\n",
       "    </tr>\n",
       "    <tr>\n",
       "      <th>4</th>\n",
       "      <td>5</td>\n",
       "      <td>poltu</td>\n",
       "    </tr>\n",
       "  </tbody>\n",
       "</table>\n",
       "</div>"
      ],
      "text/plain": [
       "   id     name\n",
       "0   1  shubham\n",
       "1   2    harsh\n",
       "2   3  sumanta\n",
       "3   4   naitik\n",
       "4   5    poltu"
      ]
     },
     "execution_count": 126,
     "metadata": {},
     "output_type": "execute_result"
    }
   ],
   "source": [
    "#Q114.      Write a pandas program to append the data to an empty DataFrame?\n",
    "\n",
    "df = pd.DataFrame()\n",
    "s = pd.Series([1,2,3,4,5])\n",
    "r = pd.Series([\"shubham\",'harsh','sumanta','naitik','poltu'])\n",
    "\n",
    "df['id']=s\n",
    "df['name']=r\n",
    "df"
   ]
  },
  {
   "cell_type": "code",
   "execution_count": 127,
   "metadata": {},
   "outputs": [
    {
     "name": "stdout",
     "output_type": "stream",
     "text": [
      "Number of columns in Data Frame is  11\n"
     ]
    }
   ],
   "source": [
    "#Q115.      Write a pandas program to count the number of columns of a DataFrame?\n",
    "\n",
    "df = pd.read_csv('test.csv')\n",
    "print('Number of columns in Data Frame is ',df.shape[1])"
   ]
  },
  {
   "cell_type": "code",
   "execution_count": 131,
   "metadata": {},
   "outputs": [
    {
     "name": "stdout",
     "output_type": "stream",
     "text": [
      "Enter the numer of rows you want to delete : 200\n",
      "Before :\n",
      "\n",
      "\n",
      "      Safety_Score  Days_Since_Inspection  Total_Safety_Complaints  Control_Metric  Turbulence_In_gforces  Cabin_Temperature  Accident_Type_Code  Max_Elevation  Violations  Adverse_Weather_Metric  Accident_ID\n",
      "0        19.497717                     16                        6       72.151322               0.388959              78.32                   4   37949.724386           2                0.069692            1\n",
      "1        58.173516                     15                        3       64.585232               0.250841              78.60                   7   30194.805567           2                0.002777           10\n",
      "2        33.287671                     15                        3       64.721969               0.336669              86.96                   6   17572.925484           1                0.004316           14\n",
      "3         3.287671                     21                        5       66.362808               0.421775              80.86                   3   40209.186341           2                0.199990           17\n",
      "4        10.867580                     18                        2       56.107566               0.313228              79.22                   2   35495.525408           2                0.483696           21\n",
      "...            ...                    ...                      ...             ...                    ...                ...                 ...            ...         ...                     ...          ...\n",
      "2495     68.127854                      8                       11       49.680948               0.470819              77.80                   2   48251.586622           2                0.659387        12484\n",
      "2496     54.840183                      9                        9       71.194166               0.417087              79.77                   6   20761.984416           1                0.005010        12487\n",
      "2497     36.712329                     14                       10       91.203282               0.313950              83.96                   6   36676.100601           2                0.008629        12488\n",
      "2498     38.721461                     13                       14       73.154057               0.275003              77.38                   6   24211.359510           1                0.006247        12491\n",
      "2499     36.073059                     11                        1       60.665451               0.256250              84.56                   5   35920.146239           0                0.024409        12493\n",
      "\n",
      "[2500 rows x 11 columns]\n",
      "\n",
      "\n",
      "\n",
      "\n",
      "After :\n",
      "\n",
      "\n",
      "      Safety_Score  Days_Since_Inspection  Total_Safety_Complaints  Control_Metric  Turbulence_In_gforces  Cabin_Temperature  Accident_Type_Code  Max_Elevation  Violations  Adverse_Weather_Metric  Accident_ID\n",
      "0        19.497717                     16                        6       72.151322               0.388959              78.32                   4   37949.724386           2                0.069692            1\n",
      "1        58.173516                     15                        3       64.585232               0.250841              78.60                   7   30194.805567           2                0.002777           10\n",
      "2        33.287671                     15                        3       64.721969               0.336669              86.96                   6   17572.925484           1                0.004316           14\n",
      "3         3.287671                     21                        5       66.362808               0.421775              80.86                   3   40209.186341           2                0.199990           17\n",
      "4        10.867580                     18                        2       56.107566               0.313228              79.22                   2   35495.525408           2                0.483696           21\n",
      "...            ...                    ...                      ...             ...                    ...                ...                 ...            ...         ...                     ...          ...\n",
      "2295     50.593607                     13                       22       72.835005               0.406268              76.21                   2   23642.199577           2                0.318992        11414\n",
      "2296     52.465753                     13                        0       43.664540               0.707386              76.92                   5   37308.586588           4                0.024227        11417\n",
      "2297     82.785388                      7                        0       68.732908               0.254087              77.18                   6   36086.899956           1                0.008738        11421\n",
      "2298     25.251142                     17                        0       82.999088               0.337750              78.92                   3   26274.692889           1                0.130773        11424\n",
      "2299     40.319635                     13                       13       63.354603               0.460001              76.40                   7   50314.720458           2                0.004603        11428\n",
      "\n",
      "[2300 rows x 11 columns]\n",
      "\n",
      "\n"
     ]
    }
   ],
   "source": [
    "#Q116.      Write a Pandas program to remove the last n rows of a given DataFrame ?\n",
    "\n",
    "df = pd.read_csv('test.csv')\n",
    "n = int(input('Enter the numer of rows you want to delete : '))\n",
    "print('Before :',end='\\n\\n\\n')\n",
    "print(df,end='\\n\\n\\n\\n\\n')\n",
    "df = df[:-n]\n",
    "print('After :',end='\\n\\n\\n')\n",
    "print(df,end='\\n\\n\\n')\n"
   ]
  },
  {
   "cell_type": "code",
   "execution_count": 133,
   "metadata": {},
   "outputs": [
    {
     "data": {
      "text/html": [
       "<div>\n",
       "<style scoped>\n",
       "    .dataframe tbody tr th:only-of-type {\n",
       "        vertical-align: middle;\n",
       "    }\n",
       "\n",
       "    .dataframe tbody tr th {\n",
       "        vertical-align: top;\n",
       "    }\n",
       "\n",
       "    .dataframe thead th {\n",
       "        text-align: right;\n",
       "    }\n",
       "</style>\n",
       "<table border=\"1\" class=\"dataframe\">\n",
       "  <thead>\n",
       "    <tr style=\"text-align: right;\">\n",
       "      <th></th>\n",
       "      <th>Year</th>\n",
       "      <th>MSHA ID</th>\n",
       "      <th>Mine_Name</th>\n",
       "      <th>Production</th>\n",
       "      <th>Labor_Hours</th>\n",
       "    </tr>\n",
       "  </thead>\n",
       "  <tbody>\n",
       "    <tr>\n",
       "      <th>0</th>\n",
       "      <td>2013</td>\n",
       "      <td>103381</td>\n",
       "      <td>Tacoa Highwall Miner</td>\n",
       "      <td>56004</td>\n",
       "      <td>22392</td>\n",
       "    </tr>\n",
       "    <tr>\n",
       "      <th>1</th>\n",
       "      <td>2013</td>\n",
       "      <td>103404</td>\n",
       "      <td>Reid School Mine</td>\n",
       "      <td>28807</td>\n",
       "      <td>28447</td>\n",
       "    </tr>\n",
       "    <tr>\n",
       "      <th>2</th>\n",
       "      <td>2013</td>\n",
       "      <td>100759</td>\n",
       "      <td>North River #1 Underground Min</td>\n",
       "      <td>1440115</td>\n",
       "      <td>474784</td>\n",
       "    </tr>\n",
       "    <tr>\n",
       "      <th>3</th>\n",
       "      <td>2013</td>\n",
       "      <td>103246</td>\n",
       "      <td>Bear Creek</td>\n",
       "      <td>87587</td>\n",
       "      <td>29193</td>\n",
       "    </tr>\n",
       "    <tr>\n",
       "      <th>4</th>\n",
       "      <td>2013</td>\n",
       "      <td>103451</td>\n",
       "      <td>Knight Mine</td>\n",
       "      <td>147499</td>\n",
       "      <td>46393</td>\n",
       "    </tr>\n",
       "    <tr>\n",
       "      <th>5</th>\n",
       "      <td>2013</td>\n",
       "      <td>103433</td>\n",
       "      <td>Crane Central Mine</td>\n",
       "      <td>69339</td>\n",
       "      <td>47195</td>\n",
       "    </tr>\n",
       "    <tr>\n",
       "      <th>6</th>\n",
       "      <td>2013</td>\n",
       "      <td>100329</td>\n",
       "      <td>Concord Mine</td>\n",
       "      <td>0</td>\n",
       "      <td>144002</td>\n",
       "    </tr>\n",
       "    <tr>\n",
       "      <th>7</th>\n",
       "      <td>2013</td>\n",
       "      <td>100851</td>\n",
       "      <td>Oak Grove Mine</td>\n",
       "      <td>2269014</td>\n",
       "      <td>1001809</td>\n",
       "    </tr>\n",
       "    <tr>\n",
       "      <th>8</th>\n",
       "      <td>2013</td>\n",
       "      <td>102901</td>\n",
       "      <td>Shoal Creek Mine</td>\n",
       "      <td>0</td>\n",
       "      <td>12396</td>\n",
       "    </tr>\n",
       "    <tr>\n",
       "      <th>9</th>\n",
       "      <td>2013</td>\n",
       "      <td>102901</td>\n",
       "      <td>Shoal Creek Mine</td>\n",
       "      <td>1453024</td>\n",
       "      <td>1237415</td>\n",
       "    </tr>\n",
       "    <tr>\n",
       "      <th>10</th>\n",
       "      <td>2013</td>\n",
       "      <td>103180</td>\n",
       "      <td>Sloan Mountain Mine</td>\n",
       "      <td>327780</td>\n",
       "      <td>196963</td>\n",
       "    </tr>\n",
       "    <tr>\n",
       "      <th>11</th>\n",
       "      <td>2013</td>\n",
       "      <td>103182</td>\n",
       "      <td>Fishtrap</td>\n",
       "      <td>175058</td>\n",
       "      <td>87314</td>\n",
       "    </tr>\n",
       "    <tr>\n",
       "      <th>12</th>\n",
       "      <td>2013</td>\n",
       "      <td>103285</td>\n",
       "      <td>Narley Mine</td>\n",
       "      <td>154861</td>\n",
       "      <td>90584</td>\n",
       "    </tr>\n",
       "    <tr>\n",
       "      <th>13</th>\n",
       "      <td>2013</td>\n",
       "      <td>103332</td>\n",
       "      <td>Powhatan Mine</td>\n",
       "      <td>140521</td>\n",
       "      <td>61394</td>\n",
       "    </tr>\n",
       "    <tr>\n",
       "      <th>14</th>\n",
       "      <td>2013</td>\n",
       "      <td>103375</td>\n",
       "      <td>Johnson Mine</td>\n",
       "      <td>580</td>\n",
       "      <td>1900</td>\n",
       "    </tr>\n",
       "    <tr>\n",
       "      <th>15</th>\n",
       "      <td>2013</td>\n",
       "      <td>103419</td>\n",
       "      <td>Maxine-Pratt Mine</td>\n",
       "      <td>125824</td>\n",
       "      <td>107469</td>\n",
       "    </tr>\n",
       "    <tr>\n",
       "      <th>16</th>\n",
       "      <td>2013</td>\n",
       "      <td>103432</td>\n",
       "      <td>Skelton Creek</td>\n",
       "      <td>8252</td>\n",
       "      <td>220</td>\n",
       "    </tr>\n",
       "    <tr>\n",
       "      <th>17</th>\n",
       "      <td>2013</td>\n",
       "      <td>103437</td>\n",
       "      <td>Black Warrior Mine No 1</td>\n",
       "      <td>145924</td>\n",
       "      <td>70926</td>\n",
       "    </tr>\n",
       "    <tr>\n",
       "      <th>18</th>\n",
       "      <td>2013</td>\n",
       "      <td>102976</td>\n",
       "      <td>Piney Woods Preparation Plant</td>\n",
       "      <td>0</td>\n",
       "      <td>14828</td>\n",
       "    </tr>\n",
       "    <tr>\n",
       "      <th>19</th>\n",
       "      <td>2013</td>\n",
       "      <td>102976</td>\n",
       "      <td>Piney Woods Preparation Plant</td>\n",
       "      <td>0</td>\n",
       "      <td>23193</td>\n",
       "    </tr>\n",
       "    <tr>\n",
       "      <th>20</th>\n",
       "      <td>2013</td>\n",
       "      <td>103380</td>\n",
       "      <td>Calera</td>\n",
       "      <td>0</td>\n",
       "      <td>12621</td>\n",
       "    </tr>\n",
       "    <tr>\n",
       "      <th>21</th>\n",
       "      <td>2013</td>\n",
       "      <td>103380</td>\n",
       "      <td>Calera</td>\n",
       "      <td>0</td>\n",
       "      <td>1402</td>\n",
       "    </tr>\n",
       "    <tr>\n",
       "      <th>22</th>\n",
       "      <td>2013</td>\n",
       "      <td>103422</td>\n",
       "      <td>Clark No 1 Mine</td>\n",
       "      <td>122727</td>\n",
       "      <td>140250</td>\n",
       "    </tr>\n",
       "    <tr>\n",
       "      <th>23</th>\n",
       "      <td>2013</td>\n",
       "      <td>103467</td>\n",
       "      <td>Helena Surface Mine</td>\n",
       "      <td>59664</td>\n",
       "      <td>30539</td>\n",
       "    </tr>\n",
       "    <tr>\n",
       "      <th>24</th>\n",
       "      <td>2013</td>\n",
       "      <td>101247</td>\n",
       "      <td>No 4 Mine</td>\n",
       "      <td>2622528</td>\n",
       "      <td>1551141</td>\n",
       "    </tr>\n",
       "    <tr>\n",
       "      <th>25</th>\n",
       "      <td>2013</td>\n",
       "      <td>101401</td>\n",
       "      <td>No 7 Mine</td>\n",
       "      <td>5405412</td>\n",
       "      <td>2464719</td>\n",
       "    </tr>\n",
       "    <tr>\n",
       "      <th>26</th>\n",
       "      <td>2013</td>\n",
       "      <td>103172</td>\n",
       "      <td>Searles Mine No. 2, 3, 4, 5, 6</td>\n",
       "      <td>258078</td>\n",
       "      <td>119542</td>\n",
       "    </tr>\n",
       "    <tr>\n",
       "      <th>27</th>\n",
       "      <td>2013</td>\n",
       "      <td>103179</td>\n",
       "      <td>Fleetwood Mine No 1</td>\n",
       "      <td>75937</td>\n",
       "      <td>63745</td>\n",
       "    </tr>\n",
       "    <tr>\n",
       "      <th>28</th>\n",
       "      <td>2013</td>\n",
       "      <td>103303</td>\n",
       "      <td>Shannon Mine</td>\n",
       "      <td>317491</td>\n",
       "      <td>164388</td>\n",
       "    </tr>\n",
       "    <tr>\n",
       "      <th>29</th>\n",
       "      <td>2013</td>\n",
       "      <td>103323</td>\n",
       "      <td>Deerlick Mine</td>\n",
       "      <td>133452</td>\n",
       "      <td>46381</td>\n",
       "    </tr>\n",
       "    <tr>\n",
       "      <th>30</th>\n",
       "      <td>2013</td>\n",
       "      <td>103364</td>\n",
       "      <td>Brc Alabama No. 7 Llc</td>\n",
       "      <td>0</td>\n",
       "      <td>14324</td>\n",
       "    </tr>\n",
       "    <tr>\n",
       "      <th>31</th>\n",
       "      <td>2013</td>\n",
       "      <td>103436</td>\n",
       "      <td>Swann's Crossing</td>\n",
       "      <td>137511</td>\n",
       "      <td>77190</td>\n",
       "    </tr>\n",
       "    <tr>\n",
       "      <th>32</th>\n",
       "      <td>2013</td>\n",
       "      <td>100347</td>\n",
       "      <td>Choctaw Mine</td>\n",
       "      <td>537429</td>\n",
       "      <td>215295</td>\n",
       "    </tr>\n",
       "    <tr>\n",
       "      <th>33</th>\n",
       "      <td>2013</td>\n",
       "      <td>101362</td>\n",
       "      <td>Manchester Mine</td>\n",
       "      <td>219457</td>\n",
       "      <td>116914</td>\n",
       "    </tr>\n",
       "    <tr>\n",
       "      <th>34</th>\n",
       "      <td>2013</td>\n",
       "      <td>102996</td>\n",
       "      <td>Jap Creek Mine</td>\n",
       "      <td>375715</td>\n",
       "      <td>164093</td>\n",
       "    </tr>\n",
       "    <tr>\n",
       "      <th>35</th>\n",
       "      <td>2013</td>\n",
       "      <td>103155</td>\n",
       "      <td>Corinth Prep Plant</td>\n",
       "      <td>0</td>\n",
       "      <td>27996</td>\n",
       "    </tr>\n",
       "    <tr>\n",
       "      <th>36</th>\n",
       "      <td>2013</td>\n",
       "      <td>103155</td>\n",
       "      <td>Corinth Prep Plant</td>\n",
       "      <td>0</td>\n",
       "      <td>51994</td>\n",
       "    </tr>\n",
       "    <tr>\n",
       "      <th>37</th>\n",
       "      <td>2013</td>\n",
       "      <td>103195</td>\n",
       "      <td>Mccollum/Sparks Branch Mine</td>\n",
       "      <td>71910</td>\n",
       "      <td>17411</td>\n",
       "    </tr>\n",
       "    <tr>\n",
       "      <th>38</th>\n",
       "      <td>2013</td>\n",
       "      <td>103342</td>\n",
       "      <td>Reese's Branch Mine</td>\n",
       "      <td>263888</td>\n",
       "      <td>115123</td>\n",
       "    </tr>\n",
       "    <tr>\n",
       "      <th>39</th>\n",
       "      <td>2013</td>\n",
       "      <td>103370</td>\n",
       "      <td>Cresent Valley Mine</td>\n",
       "      <td>2860</td>\n",
       "      <td>621</td>\n",
       "    </tr>\n",
       "    <tr>\n",
       "      <th>40</th>\n",
       "      <td>2013</td>\n",
       "      <td>103372</td>\n",
       "      <td>Cane Creek Mine</td>\n",
       "      <td>66258</td>\n",
       "      <td>32401</td>\n",
       "    </tr>\n",
       "    <tr>\n",
       "      <th>41</th>\n",
       "      <td>2013</td>\n",
       "      <td>103376</td>\n",
       "      <td>Town Creek</td>\n",
       "      <td>299167</td>\n",
       "      <td>176499</td>\n",
       "    </tr>\n",
       "    <tr>\n",
       "      <th>42</th>\n",
       "      <td>2013</td>\n",
       "      <td>103389</td>\n",
       "      <td>Carbon Hill Mine</td>\n",
       "      <td>76241</td>\n",
       "      <td>84966</td>\n",
       "    </tr>\n",
       "    <tr>\n",
       "      <th>43</th>\n",
       "      <td>2013</td>\n",
       "      <td>103410</td>\n",
       "      <td>Coal Valley Mine</td>\n",
       "      <td>407841</td>\n",
       "      <td>158591</td>\n",
       "    </tr>\n",
       "    <tr>\n",
       "      <th>44</th>\n",
       "      <td>2013</td>\n",
       "      <td>103423</td>\n",
       "      <td>Dutton Hill Mine</td>\n",
       "      <td>37275</td>\n",
       "      <td>9162</td>\n",
       "    </tr>\n",
       "    <tr>\n",
       "      <th>45</th>\n",
       "      <td>2013</td>\n",
       "      <td>1519322</td>\n",
       "      <td>Ghm #25</td>\n",
       "      <td>25054</td>\n",
       "      <td>3108</td>\n",
       "    </tr>\n",
       "    <tr>\n",
       "      <th>46</th>\n",
       "      <td>2013</td>\n",
       "      <td>103321</td>\n",
       "      <td>Poplar Springs</td>\n",
       "      <td>189370</td>\n",
       "      <td>76366</td>\n",
       "    </tr>\n",
       "    <tr>\n",
       "      <th>47</th>\n",
       "      <td>2013</td>\n",
       "      <td>103358</td>\n",
       "      <td>Old Union</td>\n",
       "      <td>284563</td>\n",
       "      <td>161805</td>\n",
       "    </tr>\n",
       "    <tr>\n",
       "      <th>48</th>\n",
       "      <td>2013</td>\n",
       "      <td>5000030</td>\n",
       "      <td>Usibelli</td>\n",
       "      <td>1631584</td>\n",
       "      <td>286079</td>\n",
       "    </tr>\n",
       "    <tr>\n",
       "      <th>49</th>\n",
       "      <td>2013</td>\n",
       "      <td>201195</td>\n",
       "      <td>Kayenta Mine</td>\n",
       "      <td>7602722</td>\n",
       "      <td>1015333</td>\n",
       "    </tr>\n",
       "  </tbody>\n",
       "</table>\n",
       "</div>"
      ],
      "text/plain": [
       "    Year  MSHA ID                       Mine_Name  Production  Labor_Hours\n",
       "0   2013   103381            Tacoa Highwall Miner       56004        22392\n",
       "1   2013   103404                Reid School Mine       28807        28447\n",
       "2   2013   100759  North River #1 Underground Min     1440115       474784\n",
       "3   2013   103246                      Bear Creek       87587        29193\n",
       "4   2013   103451                     Knight Mine      147499        46393\n",
       "5   2013   103433              Crane Central Mine       69339        47195\n",
       "6   2013   100329                    Concord Mine           0       144002\n",
       "7   2013   100851                  Oak Grove Mine     2269014      1001809\n",
       "8   2013   102901                Shoal Creek Mine           0        12396\n",
       "9   2013   102901                Shoal Creek Mine     1453024      1237415\n",
       "10  2013   103180             Sloan Mountain Mine      327780       196963\n",
       "11  2013   103182                        Fishtrap      175058        87314\n",
       "12  2013   103285                     Narley Mine      154861        90584\n",
       "13  2013   103332                   Powhatan Mine      140521        61394\n",
       "14  2013   103375                    Johnson Mine         580         1900\n",
       "15  2013   103419               Maxine-Pratt Mine      125824       107469\n",
       "16  2013   103432                   Skelton Creek        8252          220\n",
       "17  2013   103437         Black Warrior Mine No 1      145924        70926\n",
       "18  2013   102976   Piney Woods Preparation Plant           0        14828\n",
       "19  2013   102976   Piney Woods Preparation Plant           0        23193\n",
       "20  2013   103380                          Calera           0        12621\n",
       "21  2013   103380                          Calera           0         1402\n",
       "22  2013   103422                 Clark No 1 Mine      122727       140250\n",
       "23  2013   103467             Helena Surface Mine       59664        30539\n",
       "24  2013   101247                       No 4 Mine     2622528      1551141\n",
       "25  2013   101401                       No 7 Mine     5405412      2464719\n",
       "26  2013   103172  Searles Mine No. 2, 3, 4, 5, 6      258078       119542\n",
       "27  2013   103179             Fleetwood Mine No 1       75937        63745\n",
       "28  2013   103303                    Shannon Mine      317491       164388\n",
       "29  2013   103323                   Deerlick Mine      133452        46381\n",
       "30  2013   103364           Brc Alabama No. 7 Llc           0        14324\n",
       "31  2013   103436                Swann's Crossing      137511        77190\n",
       "32  2013   100347                    Choctaw Mine      537429       215295\n",
       "33  2013   101362                 Manchester Mine      219457       116914\n",
       "34  2013   102996                  Jap Creek Mine      375715       164093\n",
       "35  2013   103155              Corinth Prep Plant           0        27996\n",
       "36  2013   103155              Corinth Prep Plant           0        51994\n",
       "37  2013   103195     Mccollum/Sparks Branch Mine       71910        17411\n",
       "38  2013   103342             Reese's Branch Mine      263888       115123\n",
       "39  2013   103370             Cresent Valley Mine        2860          621\n",
       "40  2013   103372                 Cane Creek Mine       66258        32401\n",
       "41  2013   103376                      Town Creek      299167       176499\n",
       "42  2013   103389                Carbon Hill Mine       76241        84966\n",
       "43  2013   103410                Coal Valley Mine      407841       158591\n",
       "44  2013   103423                Dutton Hill Mine       37275         9162\n",
       "45  2013  1519322                         Ghm #25       25054         3108\n",
       "46  2013   103321                  Poplar Springs      189370        76366\n",
       "47  2013   103358                       Old Union      284563       161805\n",
       "48  2013  5000030                        Usibelli     1631584       286079\n",
       "49  2013   201195                    Kayenta Mine     7602722      1015333"
      ]
     },
     "execution_count": 133,
     "metadata": {},
     "output_type": "execute_result"
    }
   ],
   "source": [
    "#Q117.      Write a Pandas program to import excel data (coalpublic2013.xlsx ) into a Pandas data frame.\n",
    "\n",
    "import pandas as pd\n",
    "df = pd.read_excel('coalpublic2013.xlsx')\n",
    "df"
   ]
  },
  {
   "cell_type": "code",
   "execution_count": 134,
   "metadata": {},
   "outputs": [
    {
     "data": {
      "text/plain": [
       "13                    Powhatan Mine\n",
       "18    Piney Woods Preparation Plant\n",
       "19    Piney Woods Preparation Plant\n",
       "46                   Poplar Springs\n",
       "Name: Mine_Name, dtype: object"
      ]
     },
     "execution_count": 134,
     "metadata": {},
     "output_type": "execute_result"
    }
   ],
   "source": [
    "#Q118.      Write a Pandas program to import excel data (coalpublic2013.xlsx ) into a data \n",
    "#           frame and find details where \"Mine Name\" starts with \"P.\n",
    "\n",
    "df = pd.read_excel('coalpublic2013.xlsx')\n",
    "df['Mine_Name'][df['Mine_Name'].str.startswith('P')]\n"
   ]
  },
  {
   "cell_type": "code",
   "execution_count": 135,
   "metadata": {},
   "outputs": [
    {
     "data": {
      "text/plain": [
       "4    2007-05-21\n",
       "7    2007-02-07\n",
       "13   2007-12-07\n",
       "19   2007-08-10\n",
       "Name: hire_date, dtype: datetime64[ns]"
      ]
     },
     "execution_count": 135,
     "metadata": {},
     "output_type": "execute_result"
    }
   ],
   "source": [
    "#Q119.      Write a Pandas program to import excel data (employee.xlsx ) into a Pandas dataframe \n",
    "#           and find the list of employees where hire_date> 01-01-07.\n",
    "\n",
    "import datetime\n",
    "df = pd.read_excel('employee.xlsx')\n",
    "df['hire_date'][df['hire_date'] > datetime.datetime(2007,1,1)]\n"
   ]
  },
  {
   "cell_type": "code",
   "execution_count": 136,
   "metadata": {},
   "outputs": [
    {
     "name": "stdout",
     "output_type": "stream",
     "text": [
      "Enter the year : 2003\n"
     ]
    },
    {
     "data": {
      "text/plain": [
       "0    2003-06-17\n",
       "15   2003-05-18\n",
       "Name: hire_date, dtype: datetime64[ns]"
      ]
     },
     "execution_count": 136,
     "metadata": {},
     "output_type": "execute_result"
    }
   ],
   "source": [
    "#Q120.      Write a Pandas program to import excel data (employee.xlsx ) into a Pandas dataframe and find\n",
    "#           a list of the employees of a specified year.\n",
    "\n",
    "df = pd.read_excel('employee.xlsx')\n",
    "\n",
    "n = int(input('Enter the year : '))\n",
    "l = [ True if i.year== datetime.datetime(n,1,1).year else False for i in df['hire_date'] ]\n",
    "df['hire_date'][l]\n",
    "\n"
   ]
  },
  {
   "cell_type": "code",
   "execution_count": 137,
   "metadata": {},
   "outputs": [
    {
     "data": {
      "text/html": [
       "<div>\n",
       "<style scoped>\n",
       "    .dataframe tbody tr th:only-of-type {\n",
       "        vertical-align: middle;\n",
       "    }\n",
       "\n",
       "    .dataframe tbody tr th {\n",
       "        vertical-align: top;\n",
       "    }\n",
       "\n",
       "    .dataframe thead th {\n",
       "        text-align: right;\n",
       "    }\n",
       "</style>\n",
       "<table border=\"1\" class=\"dataframe\">\n",
       "  <thead>\n",
       "    <tr style=\"text-align: right;\">\n",
       "      <th></th>\n",
       "      <th>Year</th>\n",
       "      <th>MSHA ID</th>\n",
       "      <th>Mine_Name</th>\n",
       "      <th>Production</th>\n",
       "      <th>Labor_Hours</th>\n",
       "    </tr>\n",
       "  </thead>\n",
       "  <tbody>\n",
       "    <tr>\n",
       "      <th>0</th>\n",
       "      <td>2013</td>\n",
       "      <td>103381</td>\n",
       "      <td>Tacoa Highwall Miner</td>\n",
       "      <td>56004</td>\n",
       "      <td>22392</td>\n",
       "    </tr>\n",
       "    <tr>\n",
       "      <th>1</th>\n",
       "      <td>2013</td>\n",
       "      <td>103404</td>\n",
       "      <td>Reid School Mine</td>\n",
       "      <td>28807</td>\n",
       "      <td>28447</td>\n",
       "    </tr>\n",
       "    <tr>\n",
       "      <th>2</th>\n",
       "      <td>2013</td>\n",
       "      <td>100759</td>\n",
       "      <td>North River #1 Underground Min</td>\n",
       "      <td>1440115</td>\n",
       "      <td>474784</td>\n",
       "    </tr>\n",
       "    <tr>\n",
       "      <th>3</th>\n",
       "      <td>2013</td>\n",
       "      <td>103246</td>\n",
       "      <td>Bear Creek</td>\n",
       "      <td>87587</td>\n",
       "      <td>29193</td>\n",
       "    </tr>\n",
       "    <tr>\n",
       "      <th>4</th>\n",
       "      <td>2013</td>\n",
       "      <td>103451</td>\n",
       "      <td>Knight Mine</td>\n",
       "      <td>147499</td>\n",
       "      <td>46393</td>\n",
       "    </tr>\n",
       "    <tr>\n",
       "      <th>5</th>\n",
       "      <td>2013</td>\n",
       "      <td>103433</td>\n",
       "      <td>Crane Central Mine</td>\n",
       "      <td>69339</td>\n",
       "      <td>47195</td>\n",
       "    </tr>\n",
       "    <tr>\n",
       "      <th>6</th>\n",
       "      <td>2013</td>\n",
       "      <td>100329</td>\n",
       "      <td>Concord Mine</td>\n",
       "      <td>0</td>\n",
       "      <td>144002</td>\n",
       "    </tr>\n",
       "    <tr>\n",
       "      <th>7</th>\n",
       "      <td>2013</td>\n",
       "      <td>100851</td>\n",
       "      <td>Oak Grove Mine</td>\n",
       "      <td>2269014</td>\n",
       "      <td>1001809</td>\n",
       "    </tr>\n",
       "    <tr>\n",
       "      <th>8</th>\n",
       "      <td>2013</td>\n",
       "      <td>102901</td>\n",
       "      <td>Shoal Creek Mine</td>\n",
       "      <td>0</td>\n",
       "      <td>12396</td>\n",
       "    </tr>\n",
       "    <tr>\n",
       "      <th>9</th>\n",
       "      <td>2013</td>\n",
       "      <td>102901</td>\n",
       "      <td>Shoal Creek Mine</td>\n",
       "      <td>1453024</td>\n",
       "      <td>1237415</td>\n",
       "    </tr>\n",
       "    <tr>\n",
       "      <th>10</th>\n",
       "      <td>2013</td>\n",
       "      <td>103180</td>\n",
       "      <td>Sloan Mountain Mine</td>\n",
       "      <td>327780</td>\n",
       "      <td>196963</td>\n",
       "    </tr>\n",
       "    <tr>\n",
       "      <th>11</th>\n",
       "      <td>2013</td>\n",
       "      <td>103182</td>\n",
       "      <td>Fishtrap</td>\n",
       "      <td>175058</td>\n",
       "      <td>87314</td>\n",
       "    </tr>\n",
       "    <tr>\n",
       "      <th>12</th>\n",
       "      <td>2013</td>\n",
       "      <td>103285</td>\n",
       "      <td>Narley Mine</td>\n",
       "      <td>154861</td>\n",
       "      <td>90584</td>\n",
       "    </tr>\n",
       "    <tr>\n",
       "      <th>13</th>\n",
       "      <td>2013</td>\n",
       "      <td>103332</td>\n",
       "      <td>Powhatan Mine</td>\n",
       "      <td>140521</td>\n",
       "      <td>61394</td>\n",
       "    </tr>\n",
       "    <tr>\n",
       "      <th>14</th>\n",
       "      <td>2013</td>\n",
       "      <td>103375</td>\n",
       "      <td>Johnson Mine</td>\n",
       "      <td>580</td>\n",
       "      <td>1900</td>\n",
       "    </tr>\n",
       "    <tr>\n",
       "      <th>15</th>\n",
       "      <td>2013</td>\n",
       "      <td>103419</td>\n",
       "      <td>Maxine-Pratt Mine</td>\n",
       "      <td>125824</td>\n",
       "      <td>107469</td>\n",
       "    </tr>\n",
       "    <tr>\n",
       "      <th>16</th>\n",
       "      <td>2013</td>\n",
       "      <td>103432</td>\n",
       "      <td>Skelton Creek</td>\n",
       "      <td>8252</td>\n",
       "      <td>220</td>\n",
       "    </tr>\n",
       "    <tr>\n",
       "      <th>17</th>\n",
       "      <td>2013</td>\n",
       "      <td>103437</td>\n",
       "      <td>Black Warrior Mine No 1</td>\n",
       "      <td>145924</td>\n",
       "      <td>70926</td>\n",
       "    </tr>\n",
       "    <tr>\n",
       "      <th>18</th>\n",
       "      <td>2013</td>\n",
       "      <td>102976</td>\n",
       "      <td>Piney Woods Preparation Plant</td>\n",
       "      <td>0</td>\n",
       "      <td>14828</td>\n",
       "    </tr>\n",
       "    <tr>\n",
       "      <th>19</th>\n",
       "      <td>2013</td>\n",
       "      <td>102976</td>\n",
       "      <td>Piney Woods Preparation Plant</td>\n",
       "      <td>0</td>\n",
       "      <td>23193</td>\n",
       "    </tr>\n",
       "    <tr>\n",
       "      <th>20</th>\n",
       "      <td>2013</td>\n",
       "      <td>103380</td>\n",
       "      <td>Calera</td>\n",
       "      <td>0</td>\n",
       "      <td>12621</td>\n",
       "    </tr>\n",
       "    <tr>\n",
       "      <th>21</th>\n",
       "      <td>2013</td>\n",
       "      <td>103380</td>\n",
       "      <td>Calera</td>\n",
       "      <td>0</td>\n",
       "      <td>1402</td>\n",
       "    </tr>\n",
       "    <tr>\n",
       "      <th>22</th>\n",
       "      <td>2013</td>\n",
       "      <td>103422</td>\n",
       "      <td>Clark No 1 Mine</td>\n",
       "      <td>122727</td>\n",
       "      <td>140250</td>\n",
       "    </tr>\n",
       "    <tr>\n",
       "      <th>23</th>\n",
       "      <td>2013</td>\n",
       "      <td>103467</td>\n",
       "      <td>Helena Surface Mine</td>\n",
       "      <td>59664</td>\n",
       "      <td>30539</td>\n",
       "    </tr>\n",
       "    <tr>\n",
       "      <th>24</th>\n",
       "      <td>2013</td>\n",
       "      <td>101247</td>\n",
       "      <td>No 4 Mine</td>\n",
       "      <td>2622528</td>\n",
       "      <td>1551141</td>\n",
       "    </tr>\n",
       "    <tr>\n",
       "      <th>25</th>\n",
       "      <td>2013</td>\n",
       "      <td>101401</td>\n",
       "      <td>No 7 Mine</td>\n",
       "      <td>5405412</td>\n",
       "      <td>2464719</td>\n",
       "    </tr>\n",
       "    <tr>\n",
       "      <th>26</th>\n",
       "      <td>2013</td>\n",
       "      <td>103172</td>\n",
       "      <td>Searles Mine No. 2, 3, 4, 5, 6</td>\n",
       "      <td>258078</td>\n",
       "      <td>119542</td>\n",
       "    </tr>\n",
       "    <tr>\n",
       "      <th>27</th>\n",
       "      <td>2013</td>\n",
       "      <td>103179</td>\n",
       "      <td>Fleetwood Mine No 1</td>\n",
       "      <td>75937</td>\n",
       "      <td>63745</td>\n",
       "    </tr>\n",
       "    <tr>\n",
       "      <th>28</th>\n",
       "      <td>2013</td>\n",
       "      <td>103303</td>\n",
       "      <td>Shannon Mine</td>\n",
       "      <td>317491</td>\n",
       "      <td>164388</td>\n",
       "    </tr>\n",
       "    <tr>\n",
       "      <th>29</th>\n",
       "      <td>2013</td>\n",
       "      <td>103323</td>\n",
       "      <td>Deerlick Mine</td>\n",
       "      <td>133452</td>\n",
       "      <td>46381</td>\n",
       "    </tr>\n",
       "    <tr>\n",
       "      <th>30</th>\n",
       "      <td>2013</td>\n",
       "      <td>103364</td>\n",
       "      <td>Brc Alabama No. 7 Llc</td>\n",
       "      <td>0</td>\n",
       "      <td>14324</td>\n",
       "    </tr>\n",
       "    <tr>\n",
       "      <th>31</th>\n",
       "      <td>2013</td>\n",
       "      <td>103436</td>\n",
       "      <td>Swann's Crossing</td>\n",
       "      <td>137511</td>\n",
       "      <td>77190</td>\n",
       "    </tr>\n",
       "    <tr>\n",
       "      <th>32</th>\n",
       "      <td>2013</td>\n",
       "      <td>100347</td>\n",
       "      <td>Choctaw Mine</td>\n",
       "      <td>537429</td>\n",
       "      <td>215295</td>\n",
       "    </tr>\n",
       "    <tr>\n",
       "      <th>33</th>\n",
       "      <td>2013</td>\n",
       "      <td>101362</td>\n",
       "      <td>Manchester Mine</td>\n",
       "      <td>219457</td>\n",
       "      <td>116914</td>\n",
       "    </tr>\n",
       "    <tr>\n",
       "      <th>34</th>\n",
       "      <td>2013</td>\n",
       "      <td>102996</td>\n",
       "      <td>Jap Creek Mine</td>\n",
       "      <td>375715</td>\n",
       "      <td>164093</td>\n",
       "    </tr>\n",
       "    <tr>\n",
       "      <th>35</th>\n",
       "      <td>2013</td>\n",
       "      <td>103155</td>\n",
       "      <td>Corinth Prep Plant</td>\n",
       "      <td>0</td>\n",
       "      <td>27996</td>\n",
       "    </tr>\n",
       "    <tr>\n",
       "      <th>36</th>\n",
       "      <td>2013</td>\n",
       "      <td>103155</td>\n",
       "      <td>Corinth Prep Plant</td>\n",
       "      <td>0</td>\n",
       "      <td>51994</td>\n",
       "    </tr>\n",
       "    <tr>\n",
       "      <th>37</th>\n",
       "      <td>2013</td>\n",
       "      <td>103195</td>\n",
       "      <td>Mccollum/Sparks Branch Mine</td>\n",
       "      <td>71910</td>\n",
       "      <td>17411</td>\n",
       "    </tr>\n",
       "    <tr>\n",
       "      <th>38</th>\n",
       "      <td>2013</td>\n",
       "      <td>103342</td>\n",
       "      <td>Reese's Branch Mine</td>\n",
       "      <td>263888</td>\n",
       "      <td>115123</td>\n",
       "    </tr>\n",
       "    <tr>\n",
       "      <th>39</th>\n",
       "      <td>2013</td>\n",
       "      <td>103370</td>\n",
       "      <td>Cresent Valley Mine</td>\n",
       "      <td>2860</td>\n",
       "      <td>621</td>\n",
       "    </tr>\n",
       "    <tr>\n",
       "      <th>40</th>\n",
       "      <td>2013</td>\n",
       "      <td>103372</td>\n",
       "      <td>Cane Creek Mine</td>\n",
       "      <td>66258</td>\n",
       "      <td>32401</td>\n",
       "    </tr>\n",
       "    <tr>\n",
       "      <th>41</th>\n",
       "      <td>2013</td>\n",
       "      <td>103376</td>\n",
       "      <td>Town Creek</td>\n",
       "      <td>299167</td>\n",
       "      <td>176499</td>\n",
       "    </tr>\n",
       "    <tr>\n",
       "      <th>42</th>\n",
       "      <td>2013</td>\n",
       "      <td>103389</td>\n",
       "      <td>Carbon Hill Mine</td>\n",
       "      <td>76241</td>\n",
       "      <td>84966</td>\n",
       "    </tr>\n",
       "    <tr>\n",
       "      <th>43</th>\n",
       "      <td>2013</td>\n",
       "      <td>103410</td>\n",
       "      <td>Coal Valley Mine</td>\n",
       "      <td>407841</td>\n",
       "      <td>158591</td>\n",
       "    </tr>\n",
       "    <tr>\n",
       "      <th>44</th>\n",
       "      <td>2013</td>\n",
       "      <td>103423</td>\n",
       "      <td>Dutton Hill Mine</td>\n",
       "      <td>37275</td>\n",
       "      <td>9162</td>\n",
       "    </tr>\n",
       "    <tr>\n",
       "      <th>45</th>\n",
       "      <td>2013</td>\n",
       "      <td>1519322</td>\n",
       "      <td>Ghm #25</td>\n",
       "      <td>25054</td>\n",
       "      <td>3108</td>\n",
       "    </tr>\n",
       "    <tr>\n",
       "      <th>46</th>\n",
       "      <td>2013</td>\n",
       "      <td>103321</td>\n",
       "      <td>Poplar Springs</td>\n",
       "      <td>189370</td>\n",
       "      <td>76366</td>\n",
       "    </tr>\n",
       "    <tr>\n",
       "      <th>47</th>\n",
       "      <td>2013</td>\n",
       "      <td>103358</td>\n",
       "      <td>Old Union</td>\n",
       "      <td>284563</td>\n",
       "      <td>161805</td>\n",
       "    </tr>\n",
       "    <tr>\n",
       "      <th>48</th>\n",
       "      <td>2013</td>\n",
       "      <td>5000030</td>\n",
       "      <td>Usibelli</td>\n",
       "      <td>1631584</td>\n",
       "      <td>286079</td>\n",
       "    </tr>\n",
       "    <tr>\n",
       "      <th>49</th>\n",
       "      <td>2013</td>\n",
       "      <td>201195</td>\n",
       "      <td>Kayenta Mine</td>\n",
       "      <td>7602722</td>\n",
       "      <td>1015333</td>\n",
       "    </tr>\n",
       "  </tbody>\n",
       "</table>\n",
       "</div>"
      ],
      "text/plain": [
       "    Year  MSHA ID                       Mine_Name  Production  Labor_Hours\n",
       "0   2013   103381            Tacoa Highwall Miner       56004        22392\n",
       "1   2013   103404                Reid School Mine       28807        28447\n",
       "2   2013   100759  North River #1 Underground Min     1440115       474784\n",
       "3   2013   103246                      Bear Creek       87587        29193\n",
       "4   2013   103451                     Knight Mine      147499        46393\n",
       "5   2013   103433              Crane Central Mine       69339        47195\n",
       "6   2013   100329                    Concord Mine           0       144002\n",
       "7   2013   100851                  Oak Grove Mine     2269014      1001809\n",
       "8   2013   102901                Shoal Creek Mine           0        12396\n",
       "9   2013   102901                Shoal Creek Mine     1453024      1237415\n",
       "10  2013   103180             Sloan Mountain Mine      327780       196963\n",
       "11  2013   103182                        Fishtrap      175058        87314\n",
       "12  2013   103285                     Narley Mine      154861        90584\n",
       "13  2013   103332                   Powhatan Mine      140521        61394\n",
       "14  2013   103375                    Johnson Mine         580         1900\n",
       "15  2013   103419               Maxine-Pratt Mine      125824       107469\n",
       "16  2013   103432                   Skelton Creek        8252          220\n",
       "17  2013   103437         Black Warrior Mine No 1      145924        70926\n",
       "18  2013   102976   Piney Woods Preparation Plant           0        14828\n",
       "19  2013   102976   Piney Woods Preparation Plant           0        23193\n",
       "20  2013   103380                          Calera           0        12621\n",
       "21  2013   103380                          Calera           0         1402\n",
       "22  2013   103422                 Clark No 1 Mine      122727       140250\n",
       "23  2013   103467             Helena Surface Mine       59664        30539\n",
       "24  2013   101247                       No 4 Mine     2622528      1551141\n",
       "25  2013   101401                       No 7 Mine     5405412      2464719\n",
       "26  2013   103172  Searles Mine No. 2, 3, 4, 5, 6      258078       119542\n",
       "27  2013   103179             Fleetwood Mine No 1       75937        63745\n",
       "28  2013   103303                    Shannon Mine      317491       164388\n",
       "29  2013   103323                   Deerlick Mine      133452        46381\n",
       "30  2013   103364           Brc Alabama No. 7 Llc           0        14324\n",
       "31  2013   103436                Swann's Crossing      137511        77190\n",
       "32  2013   100347                    Choctaw Mine      537429       215295\n",
       "33  2013   101362                 Manchester Mine      219457       116914\n",
       "34  2013   102996                  Jap Creek Mine      375715       164093\n",
       "35  2013   103155              Corinth Prep Plant           0        27996\n",
       "36  2013   103155              Corinth Prep Plant           0        51994\n",
       "37  2013   103195     Mccollum/Sparks Branch Mine       71910        17411\n",
       "38  2013   103342             Reese's Branch Mine      263888       115123\n",
       "39  2013   103370             Cresent Valley Mine        2860          621\n",
       "40  2013   103372                 Cane Creek Mine       66258        32401\n",
       "41  2013   103376                      Town Creek      299167       176499\n",
       "42  2013   103389                Carbon Hill Mine       76241        84966\n",
       "43  2013   103410                Coal Valley Mine      407841       158591\n",
       "44  2013   103423                Dutton Hill Mine       37275         9162\n",
       "45  2013  1519322                         Ghm #25       25054         3108\n",
       "46  2013   103321                  Poplar Springs      189370        76366\n",
       "47  2013   103358                       Old Union      284563       161805\n",
       "48  2013  5000030                        Usibelli     1631584       286079\n",
       "49  2013   201195                    Kayenta Mine     7602722      1015333"
      ]
     },
     "execution_count": 137,
     "metadata": {},
     "output_type": "execute_result"
    }
   ],
   "source": [
    "#Q121.      Write a pandas program to import three datasheets from a given excel data (coalpublic2013.xlsx )\n",
    "#           in to a single dataframe.\n",
    "\n",
    "df1 = pd.read_excel('coalpublic2013.xlsx',sheet_name=0)\n",
    "df1   # Only one sheet is present in coalpublic2013.xlsx\n"
   ]
  },
  {
   "cell_type": "code",
   "execution_count": 138,
   "metadata": {},
   "outputs": [
    {
     "data": {
      "text/html": [
       "<div>\n",
       "<style scoped>\n",
       "    .dataframe tbody tr th:only-of-type {\n",
       "        vertical-align: middle;\n",
       "    }\n",
       "\n",
       "    .dataframe tbody tr th {\n",
       "        vertical-align: top;\n",
       "    }\n",
       "\n",
       "    .dataframe thead th {\n",
       "        text-align: right;\n",
       "    }\n",
       "</style>\n",
       "<table border=\"1\" class=\"dataframe\">\n",
       "  <thead>\n",
       "    <tr style=\"text-align: right;\">\n",
       "      <th></th>\n",
       "      <th>emp_id</th>\n",
       "      <th>first_name</th>\n",
       "      <th>last_name</th>\n",
       "      <th>hire_date</th>\n",
       "    </tr>\n",
       "  </thead>\n",
       "  <tbody>\n",
       "    <tr>\n",
       "      <th>0</th>\n",
       "      <td>100</td>\n",
       "      <td>Steven</td>\n",
       "      <td>King</td>\n",
       "      <td>2003-06-17</td>\n",
       "    </tr>\n",
       "    <tr>\n",
       "      <th>1</th>\n",
       "      <td>101</td>\n",
       "      <td>Neena</td>\n",
       "      <td>Kochhar</td>\n",
       "      <td>2005-09-21</td>\n",
       "    </tr>\n",
       "    <tr>\n",
       "      <th>2</th>\n",
       "      <td>102</td>\n",
       "      <td>Lex</td>\n",
       "      <td>De Haan</td>\n",
       "      <td>2001-01-13</td>\n",
       "    </tr>\n",
       "    <tr>\n",
       "      <th>3</th>\n",
       "      <td>103</td>\n",
       "      <td>Alexander</td>\n",
       "      <td>Hunold</td>\n",
       "      <td>2006-01-03</td>\n",
       "    </tr>\n",
       "    <tr>\n",
       "      <th>4</th>\n",
       "      <td>104</td>\n",
       "      <td>Bruce</td>\n",
       "      <td>Ernst</td>\n",
       "      <td>2007-05-21</td>\n",
       "    </tr>\n",
       "    <tr>\n",
       "      <th>5</th>\n",
       "      <td>105</td>\n",
       "      <td>David</td>\n",
       "      <td>Austin</td>\n",
       "      <td>2005-06-25</td>\n",
       "    </tr>\n",
       "    <tr>\n",
       "      <th>6</th>\n",
       "      <td>106</td>\n",
       "      <td>Valli</td>\n",
       "      <td>Pataballa</td>\n",
       "      <td>2006-02-05</td>\n",
       "    </tr>\n",
       "    <tr>\n",
       "      <th>7</th>\n",
       "      <td>107</td>\n",
       "      <td>Diana</td>\n",
       "      <td>Lorentz</td>\n",
       "      <td>2007-02-07</td>\n",
       "    </tr>\n",
       "    <tr>\n",
       "      <th>8</th>\n",
       "      <td>108</td>\n",
       "      <td>Nancy</td>\n",
       "      <td>Greenberg</td>\n",
       "      <td>2002-08-17</td>\n",
       "    </tr>\n",
       "    <tr>\n",
       "      <th>9</th>\n",
       "      <td>109</td>\n",
       "      <td>Daniel</td>\n",
       "      <td>Faviet</td>\n",
       "      <td>2002-08-16</td>\n",
       "    </tr>\n",
       "    <tr>\n",
       "      <th>10</th>\n",
       "      <td>110</td>\n",
       "      <td>John</td>\n",
       "      <td>Chen</td>\n",
       "      <td>2005-09-28</td>\n",
       "    </tr>\n",
       "    <tr>\n",
       "      <th>11</th>\n",
       "      <td>111</td>\n",
       "      <td>Ismael</td>\n",
       "      <td>Sciarra</td>\n",
       "      <td>2005-09-30</td>\n",
       "    </tr>\n",
       "    <tr>\n",
       "      <th>12</th>\n",
       "      <td>112</td>\n",
       "      <td>Jose Manuel</td>\n",
       "      <td>Urman</td>\n",
       "      <td>2006-03-07</td>\n",
       "    </tr>\n",
       "    <tr>\n",
       "      <th>13</th>\n",
       "      <td>113</td>\n",
       "      <td>Luis</td>\n",
       "      <td>Popp</td>\n",
       "      <td>2007-12-07</td>\n",
       "    </tr>\n",
       "    <tr>\n",
       "      <th>14</th>\n",
       "      <td>114</td>\n",
       "      <td>Den</td>\n",
       "      <td>Raphaely</td>\n",
       "      <td>2002-12-07</td>\n",
       "    </tr>\n",
       "    <tr>\n",
       "      <th>15</th>\n",
       "      <td>115</td>\n",
       "      <td>Alexander</td>\n",
       "      <td>Khoo</td>\n",
       "      <td>2003-05-18</td>\n",
       "    </tr>\n",
       "    <tr>\n",
       "      <th>16</th>\n",
       "      <td>116</td>\n",
       "      <td>Shelli</td>\n",
       "      <td>Baida</td>\n",
       "      <td>2005-12-24</td>\n",
       "    </tr>\n",
       "    <tr>\n",
       "      <th>17</th>\n",
       "      <td>117</td>\n",
       "      <td>Sigal</td>\n",
       "      <td>Tobias</td>\n",
       "      <td>2005-07-24</td>\n",
       "    </tr>\n",
       "    <tr>\n",
       "      <th>18</th>\n",
       "      <td>118</td>\n",
       "      <td>Guy</td>\n",
       "      <td>Himuro</td>\n",
       "      <td>2006-11-15</td>\n",
       "    </tr>\n",
       "    <tr>\n",
       "      <th>19</th>\n",
       "      <td>119</td>\n",
       "      <td>Karen</td>\n",
       "      <td>Colmenares</td>\n",
       "      <td>2007-08-10</td>\n",
       "    </tr>\n",
       "    <tr>\n",
       "      <th>0</th>\n",
       "      <td>120</td>\n",
       "      <td>Matthew</td>\n",
       "      <td>Weiss</td>\n",
       "      <td>2004-07-18</td>\n",
       "    </tr>\n",
       "    <tr>\n",
       "      <th>1</th>\n",
       "      <td>121</td>\n",
       "      <td>Adam</td>\n",
       "      <td>Fripp</td>\n",
       "      <td>2005-04-10</td>\n",
       "    </tr>\n",
       "    <tr>\n",
       "      <th>2</th>\n",
       "      <td>122</td>\n",
       "      <td>Payam</td>\n",
       "      <td>Kaufling</td>\n",
       "      <td>2003-05-01</td>\n",
       "    </tr>\n",
       "    <tr>\n",
       "      <th>3</th>\n",
       "      <td>123</td>\n",
       "      <td>Shanta</td>\n",
       "      <td>Vollman</td>\n",
       "      <td>2005-10-10</td>\n",
       "    </tr>\n",
       "    <tr>\n",
       "      <th>4</th>\n",
       "      <td>124</td>\n",
       "      <td>Kevin</td>\n",
       "      <td>Mourgos</td>\n",
       "      <td>2007-11-16</td>\n",
       "    </tr>\n",
       "    <tr>\n",
       "      <th>5</th>\n",
       "      <td>125</td>\n",
       "      <td>Julia</td>\n",
       "      <td>Nayer</td>\n",
       "      <td>2005-07-16</td>\n",
       "    </tr>\n",
       "    <tr>\n",
       "      <th>6</th>\n",
       "      <td>126</td>\n",
       "      <td>Irene</td>\n",
       "      <td>Mikkilineni</td>\n",
       "      <td>2006-09-28</td>\n",
       "    </tr>\n",
       "    <tr>\n",
       "      <th>7</th>\n",
       "      <td>127</td>\n",
       "      <td>James</td>\n",
       "      <td>Landry</td>\n",
       "      <td>2007-01-14</td>\n",
       "    </tr>\n",
       "    <tr>\n",
       "      <th>8</th>\n",
       "      <td>128</td>\n",
       "      <td>Steven</td>\n",
       "      <td>Markle</td>\n",
       "      <td>2008-03-08</td>\n",
       "    </tr>\n",
       "    <tr>\n",
       "      <th>9</th>\n",
       "      <td>129</td>\n",
       "      <td>Laura</td>\n",
       "      <td>Bissot</td>\n",
       "      <td>2005-08-20</td>\n",
       "    </tr>\n",
       "    <tr>\n",
       "      <th>10</th>\n",
       "      <td>130</td>\n",
       "      <td>Mozhe</td>\n",
       "      <td>Atkinson</td>\n",
       "      <td>2005-10-30</td>\n",
       "    </tr>\n",
       "    <tr>\n",
       "      <th>11</th>\n",
       "      <td>131</td>\n",
       "      <td>James</td>\n",
       "      <td>Marlow</td>\n",
       "      <td>2005-02-16</td>\n",
       "    </tr>\n",
       "    <tr>\n",
       "      <th>12</th>\n",
       "      <td>132</td>\n",
       "      <td>TJ</td>\n",
       "      <td>Olson</td>\n",
       "      <td>2007-04-10</td>\n",
       "    </tr>\n",
       "    <tr>\n",
       "      <th>13</th>\n",
       "      <td>133</td>\n",
       "      <td>Jason</td>\n",
       "      <td>Mallin</td>\n",
       "      <td>2004-06-14</td>\n",
       "    </tr>\n",
       "    <tr>\n",
       "      <th>14</th>\n",
       "      <td>134</td>\n",
       "      <td>Michael</td>\n",
       "      <td>Rogers</td>\n",
       "      <td>2006-08-26</td>\n",
       "    </tr>\n",
       "    <tr>\n",
       "      <th>15</th>\n",
       "      <td>135</td>\n",
       "      <td>Ki</td>\n",
       "      <td>Gee</td>\n",
       "      <td>2007-12-12</td>\n",
       "    </tr>\n",
       "    <tr>\n",
       "      <th>16</th>\n",
       "      <td>136</td>\n",
       "      <td>Hazel</td>\n",
       "      <td>Philtanker</td>\n",
       "      <td>2008-02-06</td>\n",
       "    </tr>\n",
       "    <tr>\n",
       "      <th>17</th>\n",
       "      <td>137</td>\n",
       "      <td>Renske</td>\n",
       "      <td>Ladwig</td>\n",
       "      <td>2003-07-14</td>\n",
       "    </tr>\n",
       "    <tr>\n",
       "      <th>18</th>\n",
       "      <td>138</td>\n",
       "      <td>Stephen</td>\n",
       "      <td>Stiles</td>\n",
       "      <td>2005-10-26</td>\n",
       "    </tr>\n",
       "    <tr>\n",
       "      <th>0</th>\n",
       "      <td>141</td>\n",
       "      <td>Trenna</td>\n",
       "      <td>Rajs</td>\n",
       "      <td>2003-10-17</td>\n",
       "    </tr>\n",
       "    <tr>\n",
       "      <th>1</th>\n",
       "      <td>142</td>\n",
       "      <td>Curtis</td>\n",
       "      <td>Davies</td>\n",
       "      <td>2005-01-29</td>\n",
       "    </tr>\n",
       "    <tr>\n",
       "      <th>2</th>\n",
       "      <td>143</td>\n",
       "      <td>Randall</td>\n",
       "      <td>Matos</td>\n",
       "      <td>2006-03-15</td>\n",
       "    </tr>\n",
       "    <tr>\n",
       "      <th>3</th>\n",
       "      <td>144</td>\n",
       "      <td>Peter</td>\n",
       "      <td>Vargas</td>\n",
       "      <td>2006-07-09</td>\n",
       "    </tr>\n",
       "    <tr>\n",
       "      <th>4</th>\n",
       "      <td>145</td>\n",
       "      <td>John</td>\n",
       "      <td>Russell</td>\n",
       "      <td>2004-10-01</td>\n",
       "    </tr>\n",
       "    <tr>\n",
       "      <th>5</th>\n",
       "      <td>146</td>\n",
       "      <td>Karen</td>\n",
       "      <td>Partners</td>\n",
       "      <td>2005-01-05</td>\n",
       "    </tr>\n",
       "    <tr>\n",
       "      <th>6</th>\n",
       "      <td>147</td>\n",
       "      <td>Alberto</td>\n",
       "      <td>Errazuriz</td>\n",
       "      <td>2005-03-10</td>\n",
       "    </tr>\n",
       "    <tr>\n",
       "      <th>7</th>\n",
       "      <td>148</td>\n",
       "      <td>Gerald</td>\n",
       "      <td>Cambrault</td>\n",
       "      <td>2007-10-15</td>\n",
       "    </tr>\n",
       "    <tr>\n",
       "      <th>8</th>\n",
       "      <td>149</td>\n",
       "      <td>Eleni</td>\n",
       "      <td>Zlotkey</td>\n",
       "      <td>2008-01-29</td>\n",
       "    </tr>\n",
       "  </tbody>\n",
       "</table>\n",
       "</div>"
      ],
      "text/plain": [
       "    emp_id   first_name    last_name  hire_date\n",
       "0      100       Steven         King 2003-06-17\n",
       "1      101        Neena      Kochhar 2005-09-21\n",
       "2      102          Lex      De Haan 2001-01-13\n",
       "3      103    Alexander       Hunold 2006-01-03\n",
       "4      104        Bruce        Ernst 2007-05-21\n",
       "5      105        David       Austin 2005-06-25\n",
       "6      106        Valli    Pataballa 2006-02-05\n",
       "7      107        Diana      Lorentz 2007-02-07\n",
       "8      108        Nancy    Greenberg 2002-08-17\n",
       "9      109       Daniel       Faviet 2002-08-16\n",
       "10     110         John         Chen 2005-09-28\n",
       "11     111       Ismael      Sciarra 2005-09-30\n",
       "12     112  Jose Manuel        Urman 2006-03-07\n",
       "13     113         Luis         Popp 2007-12-07\n",
       "14     114          Den     Raphaely 2002-12-07\n",
       "15     115    Alexander         Khoo 2003-05-18\n",
       "16     116       Shelli        Baida 2005-12-24\n",
       "17     117        Sigal       Tobias 2005-07-24\n",
       "18     118          Guy       Himuro 2006-11-15\n",
       "19     119        Karen   Colmenares 2007-08-10\n",
       "0      120      Matthew        Weiss 2004-07-18\n",
       "1      121         Adam        Fripp 2005-04-10\n",
       "2      122        Payam     Kaufling 2003-05-01\n",
       "3      123       Shanta      Vollman 2005-10-10\n",
       "4      124        Kevin      Mourgos 2007-11-16\n",
       "5      125        Julia        Nayer 2005-07-16\n",
       "6      126        Irene  Mikkilineni 2006-09-28\n",
       "7      127        James       Landry 2007-01-14\n",
       "8      128       Steven       Markle 2008-03-08\n",
       "9      129        Laura       Bissot 2005-08-20\n",
       "10     130        Mozhe     Atkinson 2005-10-30\n",
       "11     131        James       Marlow 2005-02-16\n",
       "12     132           TJ        Olson 2007-04-10\n",
       "13     133        Jason       Mallin 2004-06-14\n",
       "14     134      Michael       Rogers 2006-08-26\n",
       "15     135           Ki          Gee 2007-12-12\n",
       "16     136        Hazel   Philtanker 2008-02-06\n",
       "17     137       Renske       Ladwig 2003-07-14\n",
       "18     138      Stephen       Stiles 2005-10-26\n",
       "0      141       Trenna         Rajs 2003-10-17\n",
       "1      142       Curtis       Davies 2005-01-29\n",
       "2      143      Randall        Matos 2006-03-15\n",
       "3      144        Peter       Vargas 2006-07-09\n",
       "4      145         John      Russell 2004-10-01\n",
       "5      146        Karen     Partners 2005-01-05\n",
       "6      147      Alberto    Errazuriz 2005-03-10\n",
       "7      148       Gerald    Cambrault 2007-10-15\n",
       "8      149        Eleni      Zlotkey 2008-01-29"
      ]
     },
     "execution_count": 138,
     "metadata": {},
     "output_type": "execute_result"
    }
   ],
   "source": [
    "#Q122.      Write a pandas program to import three datasheets from a given excel data (employee.xlsx ) \n",
    "#           into a single data frame and export the result into new Excel file.\n",
    "\n",
    "df1 = pd.read_excel('employee.xlsx',sheet_name=0)\n",
    "df2 = pd.read_excel('employee.xlsx',sheet_name=1)\n",
    "df3 = pd.read_excel('employee.xlsx',sheet_name=2)\n",
    "df = pd.concat([df1, df2, df3])\n",
    "df.to_excel('output.xlsx', index=False)\n",
    "df"
   ]
  },
  {
   "cell_type": "code",
   "execution_count": 141,
   "metadata": {},
   "outputs": [
    {
     "name": "stdout",
     "output_type": "stream",
     "text": [
      "             Unnamed: 15  adult_male  alone      fare  parch  pclass  sibsp  survived\n",
      "sex    age                                                                           \n",
      "female 0.75          0.0         0.0    0.0   38.5166      2       6      4         2\n",
      "       1.00          0.0         0.0    0.0   26.8750      3       6      1         2\n",
      "       2.00          0.0         0.0    0.0  259.4750      9      15      9         2\n",
      "       3.00          0.0         0.0    0.0   62.6542      3       5      4         1\n",
      "       4.00          0.0         0.0    0.0  114.1417      6      13      4         5\n",
      "       5.00          0.0         0.0    1.0   90.8708      5      11      7         4\n",
      "       6.00          0.0         0.0    0.0   64.2750      3       5      4         1\n",
      "       7.00          0.0         0.0    0.0   26.2500      2       2      0         1\n",
      "       8.00          0.0         0.0    0.0   47.3250      3       5      3         1\n",
      "       9.00          0.0         0.0    0.0  108.7958      7      12     10         0\n"
     ]
    }
   ],
   "source": [
    "#Q123.      Write a pandas program to create the Pivot table with multiple indexes from the data set of the titanic.csv.\n",
    "\n",
    "import numpy as np\n",
    "df = pd.read_csv('titanic.csv')\n",
    "result = pd.pivot_table(df, index = [\"sex\",\"age\"], aggfunc=np.sum)\n",
    "print(result.head(10))\n"
   ]
  },
  {
   "cell_type": "code",
   "execution_count": 142,
   "metadata": {},
   "outputs": [
    {
     "name": "stdout",
     "output_type": "stream",
     "text": [
      "fare            (-0.001, 14.454]                     (14.454, 512.329]                    \n",
      "pclass                         1         2         3                 1         2         3\n",
      "sex    age                                                                                \n",
      "female (0, 10]               NaN       NaN  0.800000          0.000000  1.000000  0.411765\n",
      "       (10, 30]              NaN  0.933333  0.568182          0.970588  0.904762  0.307692\n",
      "       (30, 60]              NaN  0.846154  0.142857          0.979167  0.941176  0.333333\n",
      "       (60, 80]              NaN       NaN  1.000000          1.000000       NaN       NaN\n",
      "male   (0, 10]               NaN       NaN  1.000000          1.000000  1.000000  0.263158\n",
      "       (10, 30]              NaN  0.034483  0.140625          0.458333  0.000000  0.130435\n",
      "       (30, 60]              0.0  0.130435  0.109375          0.440678  0.047619  0.166667\n",
      "       (60, 80]              NaN  0.333333  0.000000          0.083333       NaN       NaN\n"
     ]
    }
   ],
   "source": [
    "#Q124.      Write a Pandas program to create the Pivot table and find survival rate by gender? \n",
    "\n",
    "df = pd.read_csv('titanic.csv')\n",
    "fare = pd.qcut(df['fare'], 2)\n",
    "age = pd.cut(df['age'], [0, 10, 30, 60, 80])\n",
    "result = df.pivot_table('survived', index=['sex', age], columns=[fare, 'pclass'])\n",
    "print(result)\n"
   ]
  },
  {
   "cell_type": "code",
   "execution_count": 143,
   "metadata": {},
   "outputs": [
    {
     "name": "stdout",
     "output_type": "stream",
     "text": [
      "0      (10.0, 30.0]\n",
      "1      (30.0, 60.0]\n",
      "2      (10.0, 30.0]\n",
      "3      (30.0, 60.0]\n",
      "4      (30.0, 60.0]\n",
      "           ...     \n",
      "886    (10.0, 30.0]\n",
      "887    (10.0, 30.0]\n",
      "888             NaN\n",
      "889    (10.0, 30.0]\n",
      "890    (30.0, 60.0]\n",
      "Name: age, Length: 891, dtype: category\n",
      "Categories (4, interval[int64]): [(0, 10] < (10, 30] < (30, 60] < (60, 80]]\n"
     ]
    }
   ],
   "source": [
    "#Q125.      Write a pandas program to make partition each of the passengers into 4 categories based on their age.\n",
    "\n",
    "df = pd.read_csv('titanic.csv')\n",
    "result = pd.cut(df['age'], [0, 10, 30, 60, 80])\n",
    "print(result)\n"
   ]
  },
  {
   "cell_type": "code",
   "execution_count": 144,
   "metadata": {},
   "outputs": [
    {
     "name": "stdout",
     "output_type": "stream",
     "text": [
      "fare            (-0.001, 14.454]                     (14.454, 512.329]                    \n",
      "pclass                         1         2         3                 1         2         3\n",
      "sex    age                                                                                \n",
      "female (0, 10]               NaN       NaN  0.800000          0.000000  1.000000  0.411765\n",
      "       (10, 30]              NaN  0.933333  0.568182          0.970588  0.904762  0.307692\n",
      "       (30, 60]              NaN  0.846154  0.142857          0.979167  0.941176  0.333333\n",
      "       (60, 80]              NaN       NaN  1.000000          1.000000       NaN       NaN\n",
      "male   (0, 10]               NaN       NaN  1.000000          1.000000  1.000000  0.263158\n",
      "       (10, 30]              NaN  0.034483  0.140625          0.458333  0.000000  0.130435\n",
      "       (30, 60]              0.0  0.130435  0.109375          0.440678  0.047619  0.166667\n",
      "       (60, 80]              NaN  0.333333  0.000000          0.083333       NaN       NaN\n"
     ]
    }
   ],
   "source": [
    "#Q126.      Write a pandas program to create the Pivot table and find survival rate by the \n",
    "#           gender, age of the different categories of various classes.\n",
    "\n",
    "df = pd.read_csv('titanic.csv')\n",
    "fare = pd.qcut(df['fare'], 2)\n",
    "age = pd.cut(df['age'], [0, 10, 30, 60, 80])\n",
    "result = df.pivot_table('survived', index=['sex', age], columns=[fare, 'pclass'])\n",
    "print(result)\n"
   ]
  },
  {
   "cell_type": "code",
   "execution_count": 145,
   "metadata": {},
   "outputs": [
    {
     "name": "stdout",
     "output_type": "stream",
     "text": [
      "       Unnamed: 15       adult_male            age          alive           alone           class           deck        embark_town           embarked           fare           parch           sibsp           survived            who          \n",
      "pclass           1  2  3          1    2    3    1   2    3     1    2    3     1    2    3     1    2    3    1   2  3           1    2    3        1    2    3    1    2    3     1    2    3     1    2    3        1    2    3    1    2    3\n",
      "sex                                                                                                                                                                                                                                              \n",
      "female           0  0  0         94   76  144   85  74  102    94   76  144    94   76  144    94   76  144   81  10  6          92   76  144       92   76  144   94   76  144    94   76  144    94   76  144       94   76  144   94   76  144\n",
      "male             0  0  0        122  108  347  101  99  253   122  108  347   122  108  347   122  108  347   94   6  6         122  108  347      122  108  347  122  108  347   122  108  347   122  108  347      122  108  347  122  108  347\n"
     ]
    }
   ],
   "source": [
    "#Q127.      Write a pandas program to create the Pivot table and calculate number of women \n",
    "#           and men were in a particular cabin class.\n",
    "\n",
    "df = pd.read_csv('titanic.csv')\n",
    "result = df.pivot_table(index=['sex'], columns=['pclass'], aggfunc='count')\n",
    "print(result)\n"
   ]
  },
  {
   "cell_type": "code",
   "execution_count": 146,
   "metadata": {},
   "outputs": [
    {
     "name": "stdout",
     "output_type": "stream",
     "text": [
      "class            First    Second     Third\n",
      "sex    alone                              \n",
      "female False  0.966667  0.931818  0.416667\n",
      "       True   0.970588  0.906250  0.616667\n",
      "male   False  0.425532  0.277778  0.180723\n",
      "       True   0.333333  0.097222  0.121212\n"
     ]
    }
   ],
   "source": [
    "#Q128.      Write a pandas program to create the Pivot table and separate the gender according \n",
    "#           to whether they travelled alone or not to get the probability of survival\n",
    "\n",
    "df = pd.read_csv('titanic.csv')\n",
    "result = df.pivot_table( 'survived' , [ 'sex' , 'alone' ] , 'class' )\n",
    "print(result)\n",
    "    "
   ]
  },
  {
   "cell_type": "code",
   "execution_count": 147,
   "metadata": {},
   "outputs": [
    {
     "name": "stdout",
     "output_type": "stream",
     "text": [
      "embark_town  Cherbourg                     Queenstown                  Southampton                    \n",
      "class            First    Second     Third      First Second     Third       First    Second     Third\n",
      "sex    alone                                                                                          \n",
      "female False  1.000000  1.000000  0.611111        1.0    NaN  0.625000    0.941176  0.923077  0.327586\n",
      "       True   0.944444  1.000000  0.800000        NaN    1.0  0.760000    1.000000  0.892857  0.466667\n",
      "male   False  0.473684  0.166667  0.500000        0.0    NaN  0.100000    0.407407  0.300000  0.142857\n",
      "       True   0.347826  0.250000  0.151515        NaN    0.0  0.068966    0.326923  0.089552  0.123762\n"
     ]
    }
   ],
   "source": [
    "#Q129.      Write a pandas program to create the Pivot table and find the probability of survival \n",
    "#           by class, gender, solo boarding, and the port of embarkation.\n",
    "\n",
    "df = pd.read_csv('titanic.csv')\n",
    "result = df.pivot_table('survived', ['sex' , 'alone' ], [ 'embark_town', 'class' ])\n",
    "print(result)\n"
   ]
  },
  {
   "cell_type": "code",
   "execution_count": 148,
   "metadata": {},
   "outputs": [
    {
     "name": "stderr",
     "output_type": "stream",
     "text": [
      "C:\\Users\\Dell\\.conda\\envs\\ml_python\\lib\\site-packages\\IPython\\core\\interactiveshell.py:3051: DtypeWarning: Columns (5,9) have mixed types. Specify dtype option on import or set low_memory=False.\n",
      "  interactivity=interactivity, compiler=compiler, result=result)\n"
     ]
    },
    {
     "name": "stdout",
     "output_type": "stream",
     "text": [
      "Original Dataframe:\n",
      "              Date_time                  city state/province country UFO_shape length_of_encounter_seconds described_duration_of_encounter                                        description date_documented    latitude   longitude\n",
      "0      10/10/1949 20:30            san marcos             tx      us  cylinder                        2700                      45 minutes  This event took place in early fall around 194...       4/27/2004  29.8830556  -97.941111\n",
      "1      10/10/1949 21:00          lackland afb             tx     NaN     light                        7200                         1-2 hrs  1949 Lackland AFB&#44 TX.  Lights racing acros...      12/16/2005    29.38421  -98.581082\n",
      "2      10/10/1955 17:00  chester (uk/england)            NaN      gb    circle                          20                      20 seconds  Green/Orange circular disc over Chester&#44 En...       1/21/2008        53.2   -2.916667\n",
      "3      10/10/1956 21:00                  edna             tx      us    circle                          20                        1/2 hour  My older brother and twin sister were leaving ...       1/17/2004  28.9783333  -96.645833\n",
      "4      10/10/1960 20:00               kaneohe             hi      us     light                         900                      15 minutes  AS a Marine 1st Lt. flying an FJ4B fighter/att...       1/22/2004  21.4180556 -157.803611\n",
      "...                 ...                   ...            ...     ...       ...                         ...                             ...                                                ...             ...         ...         ...\n",
      "80327    9/9/2013 21:15             nashville             tn      us     light                         600                      10 minutes  Round from the distance/slowly changing colors...       9/30/2013     36.1658  -86.784444\n",
      "80328    9/9/2013 22:00                 boise             id      us    circle                        1200                      20 minutes  Boise&#44 ID&#44 spherical&#44 20 min&#44 10 r...       9/30/2013     43.6136 -116.202500\n",
      "80329    9/9/2013 22:00                  napa             ca      us     other                        1200                            hour                                       Napa UFO&#44       9/30/2013     38.2972 -122.284444\n",
      "80330    9/9/2013 22:20                vienna             va      us    circle                           5                       5 seconds  Saw a five gold lit cicular craft moving fastl...       9/30/2013     38.9011  -77.265556\n",
      "80331    9/9/2013 23:00                edmond             ok      us     cigar                        1020                      17 minutes  2 witnesses 2  miles apart&#44 Red &amp; White...       9/30/2013     35.6528  -97.477778\n",
      "\n",
      "[80332 rows x 11 columns]\n",
      "\n",
      "Current date of Ufo dataset:\n",
      "2014-05-08 18:45:00\n",
      "\n",
      "Oldest date of Ufo dataset:\n",
      "1906-11-11 00:00:00\n",
      "\n",
      "Number of days between Current date and oldest date of Ufo dataset:\n",
      "39260\n"
     ]
    }
   ],
   "source": [
    "#Q130.      Write a pandas program to get current date, oldest date and number of days between \n",
    "#           Current date and the oldest date of Ufo dataset.\n",
    "\n",
    "df = pd.read_csv('ufo_data.csv')\n",
    "print(\"Original Dataframe:\")\n",
    "print(df)\n",
    "df[['date','time']] = df['Date_time'].str.split(expand=True)\n",
    "df['Date_time'] = (pd.to_datetime(df.pop('date'), format='%m/%d/%Y') + pd.to_timedelta(df.pop('time') + ':00'))\n",
    "print(\"\\nCurrent date of Ufo dataset:\")\n",
    "print(df.Date_time.max())\n",
    "print(\"\\nOldest date of Ufo dataset:\")\n",
    "print(df.Date_time.min())\n",
    "print(\"\\nNumber of days between Current date and oldest date of Ufo dataset:\")\n",
    "print((df.Date_time.max() - df.Date_time.min()).days)\n"
   ]
  },
  {
   "cell_type": "code",
   "execution_count": 149,
   "metadata": {},
   "outputs": [
    {
     "name": "stdout",
     "output_type": "stream",
     "text": [
      "\n",
      "Sighting days of the unidentified flying object (ufo) between 1949-10-10 and 1960-10-10:\n",
      "                Date_time                                               city state/province country  UFO_shape length_of_encounter_seconds described_duration_of_encounter                                        description date_documented    latitude   longitude\n",
      "2     1955-10-10 17:00:00                               chester (uk/england)            NaN      gb     circle                          20                      20 seconds  Green/Orange circular disc over Chester&#44 En...       1/21/2008        53.2   -2.916667\n",
      "3     1956-10-10 21:00:00                                               edna             tx      us     circle                          20                        1/2 hour  My older brother and twin sister were leaving ...       1/17/2004  28.9783333  -96.645833\n",
      "4     1960-10-10 20:00:00                                            kaneohe             hi      us      light                         900                      15 minutes  AS a Marine 1st Lt. flying an FJ4B fighter/att...       1/22/2004  21.4180556 -157.803611\n",
      "479   1950-10-01 11:00:00                                          pikeville             ky      us       disk                         600                              hr        SEVENTY SOME  FLYING DISK OBSERVED IN  1950       4/16/2005  37.4791667  -82.518889\n",
      "480   1952-10-01 03:30:00                                    fukuoka (japan)            NaN     NaN       disk                        1200                   about 20 mins  UFO seen by multiple U. S. military personnel;...       12/7/2006   33.590355  130.401716\n",
      "481   1952-10-01 12:00:00                                        kansas city             mo      us       disk                          90                         90 sec.  1952 daylight sighting of multiple discs in fo...      10/31/2008  39.0997222  -94.578333\n",
      "482   1954-10-01 19:00:00                                          flatwoods             wv      us     circle                          60                        1 minute  I saw the craft go across the horizon.  It app...       4/12/2013  38.7230556  -80.650000\n",
      "483   1955-10-01 22:00:00                                   mono lake (area)             ca     NaN     circle                           5                 five seconds+/-  NO KNOWN AIRCRAFT (1955 and maybe today) COULD...       3/19/2009   38.007059 -119.012259\n",
      "484   1956-10-01 19:00:00                                            newport             nh      us  rectangle                         300                       5 minutes  Disk with glass center section&#44 and flames ...       4/16/2005  43.3652778  -72.173889\n",
      "485   1957-10-01 16:00:00                                    nelchina (near)             ak      us    unknown                         180               3 minutes maximum  This incident occurred about October of 1956 o...       12/7/2006  61.9919444 -146.768611\n",
      "486   1957-10-01 21:00:00                                           paterson             nj      us       disk                          10                      10 seconds  Formation of approximately 8 light gray metall...       4/16/2005  40.9166667  -74.172222\n",
      "487   1957-10-01 22:00:00                                 northeast cape afs             ak     NaN        NaN                         900                        10-15min                         Radar sighting and filming       1/28/1999   70.292489 -161.903334\n",
      "488   1959-10-01 19:00:00                                       jacksonville             il      us    unknown                          60                        1 minute  Late 1959&#44 bright lights from a hovering ob...       4/16/2005  39.7338889  -90.228889\n",
      "1707  1950-10-15 15:00:00                               sandy hook/highlands             nj     NaN   triangle                         300                       5 minutes                Triangles over New York Harbor 1950      10/30/2006   40.443164  -73.989861\n",
      "1708  1952-10-15 21:00:00                                           richland             wa      us     circle                           5                       5 seconds  Night sighting of seven large luminous UFOs fl...      11/21/2010  46.2858333 -119.283333\n",
      "1709  1952-10-16 00:00:00                   edmonton (southwest of) (canada)             ab      ca   cylinder                         120                  approx. 2 min.  Good evening folks---What I am about to discri...       1/17/2004       53.55 -113.500000\n",
      "1710  1953-10-15 14:00:00                                       mauriceville             tx      us       disk                         300                          5 min.  My father was a WWW1 Vet. and loved hunting. T...       11/4/2002  30.2033333  -93.866111\n",
      "1711  1954-10-15 16:30:00                                             blanco             tx      us      other                         300                        3-5 mins  We saw a silver football&#44 motionless in the...       4/27/2004  30.0977778  -98.421111\n",
      "1712  1954-10-15 21:30:00                                           manistee             mi      us     circle                           8                       8 seconds  Saucer shaped&#44 moved north to south directl...       1/21/2008  44.2444444  -86.324167\n",
      "1713  1955-10-15 20:00:00                                          rhinebeck             ny      us      light                        2400                      40 minutes  This very distant star-like point of light cam...       7/19/2010  41.9266667  -73.913056\n",
      "1714  1956-10-15 01:00:00                         mechra bel ksire (morocco)            NaN     NaN    unknown                         300               approx. 5 minutes  Air Defense radar reflected an object with gre...       4/16/2005       34.56   -5.950000\n",
      "1715  1956-10-15 21:30:00                                         mt. vernon             in     NaN       disk                           8                  7 to 8 seconds  Clear night observation of lumenescent object ...       7/11/2000   37.932266  -87.895027\n",
      "1716  1957-10-15 02:00:00                             new york city (queens)             ny      us        NaN                       10800                         2x3 hrs  tall unidentified being enters home - N.Y.C. 1957       3/21/2003  40.7141667  -74.006389\n",
      "1717  1957-10-15 20:30:00                            houston (ellington afb)             tx      us      light                           3                       3 seconds  5 to 6&quot; diameter light&#44 extremely fast...       9/17/2000  29.7630556  -95.363056\n",
      "1718  1957-10-15 22:00:00                       commerce city (n. of denver)             co      us   fireball                         600                         10 min.                       A lot of methane gas in area       9/19/2002  39.8083333 -104.933333\n",
      "1719  1959-10-15 00:00:00                                         marysville             wa      us      other                          75                            1:15                             UFO  Over  Golf Course       4/27/2007  48.0519444 -122.175833\n",
      "2280  1959-10-16 22:30:00                                        four states             wv      us     sphere                         600                      10 minutes   MYSTERIOUS RED LIGHTS  IN NORTHERN WEST VIRGINIA       3/31/2008  39.4797222  -80.310000\n",
      "3088  1958-10-20 21:00:00                                           st. paul             mn      us      other                           2                       2 seconds  A dull-orange craft sped southbound at low alt...       3/16/2000  44.9444444  -93.093056\n",
      "4428  1958-10-25 20:00:00                                         terrebonne             or      us    unknown                         120                     1-2 minutes                          Piercing&#44 shrill tone.        8/5/2012  44.3530556 -121.176667\n",
      "5413  1958-10-30 01:00:00                                          riverside             il      us      light                         600                  10 minutes (?)  Chicago suburbs&#44 strange lights and figures...       4/27/2007      41.835  -87.822778\n",
      "5636  1953-10-31 19:00:00                                        new orleans             la      us       oval                           2                         seconds                  20+ ovals flying over New Orleans        9/2/2005  29.9544444  -90.075000\n",
      "6020  1955-10-03 06:00:00                            stanley (near) (canada)             nb      ca       disk                        7200                         2 hours                This is a true story as given to me       4/16/2005   55.416667 -104.550000\n",
      "6414  1957-10-05 19:00:00                                           st. paul             mn      us      light                          45                         45 secs  A bright light was apparently chased by severa...       3/16/2000  44.9444444  -93.093056\n",
      "7200  1955-10-09 18:00:00                                        west covina             ca      us        NaN                           4                           4 sec  Brilliant green meteor heading north west from...       1/22/2004       34.09 -117.889444\n",
      "7408  1959-01-10 18:30:00                                south san francisco             ca      us       disk                         120                       2 minutes  Its was approximately 6:30pm&#44 I was sitting...       4/27/2004  37.6547222 -122.406667\n",
      "7627  1957-11-10 17:00:00                                            teaneck             nj      us   cylinder                         120                       2 minutes  Cylinder UFO followed by disc seen in fall of ...       2/24/2005     40.8975  -74.016389\n",
      "7628  1957-11-10 19:00:00                                     corpus christi             tx      us      light                         600                      10 minutes  UFO over Corpus Christi near naval yard on Nov...      10/31/2003  27.8002778  -97.396111\n",
      "7864  1959-11-11 20:00:00                                             starke             fl      us     sphere                        1800                           30min                              UFO OVER JACKSONVILLE      11/11/2003  29.9438889  -82.110000\n",
      "7865  1960-11-11 02:00:00                           sumner (lake tapps area)             wa      us     sphere                          30                      30 seconds  Sphere with Spikes over Lake Tapps traveling W...       8/28/2003  47.2033333 -122.239167\n",
      "8080  1954-11-01 18:30:00                                             denver             co      us   fireball                          10                      10 seconds  I was approximately 12 years old when I saw th...        8/5/2001  39.7391667 -104.984167\n",
      "8840  1953-11-13 20:00:00                                             cicero             il      us      other                         120                       2 minutes  Triangular formation passing over head just we...       1/21/2008  41.8455556  -87.753889\n",
      "9045  1954-11-14 01:00:00                                  thelma (south of)             tx      us       disk                         300                       5 minutes  11/14/1954   WHILE HUNTING OBJECT CIRCLED&#44 ...        9/2/2005  31.5830556  -96.610833\n",
      "9273  1951-11-15 06:00:00                                       holloman afb             nm     NaN     circle                          10                           10sec  What I saw was reported in the Albuquerque new...       3/21/2003     32.8525 -106.106389\n",
      "9274  1953-11-15 03:00:00                                          keansburg             nj      us     circle                         540                       9 minutes  In November&#44 1953&#44 at 0300&#44 a silvery...       8/12/2001  40.4416667  -74.130278\n",
      "9275  1956-11-15 18:30:00                                           aberdeen             sd      us     circle                         120                            2:00  Traveled south to north at a slow speed&#44(90...        8/5/2001  45.4647222  -98.486111\n",
      "9276  1958-11-15 22:30:00                                         greenville             ri      us       disk                         600                     ax. 10 min.  Five small disk or spherical-shaped objects me...       4/16/2005  41.8711111  -71.552500\n",
      "9277  1959-11-15 01:30:00                                          lafayette             in      us     circle                        1800                          30 min  Observed white object for about 20 minutes in ...       4/16/2005  40.4166667  -86.875278\n",
      "9278  1960-11-15 22:00:00                                        kansas city             ks      us    unknown                         300        5 min. (three occasions)  Two witnesses see ball of light come over hori...       1/17/2004  39.1141667  -94.627222\n",
      "10815 1953-01-01 14:00:00                              oklahoma/texas border             tx     NaN      cigar                         300                       5 minutes     Copper cigar-shaped object in early 1950&#39s.       3/31/2008   33.660135  -97.715556\n",
      "10816 1953-01-02 00:00:00                                   nebraska (rural)             ne     NaN        NaN                         600                          10 min  This is an account told to me by my mother tha...       4/16/2005   41.492537  -99.901813\n",
      "10817 1954-01-01 22:00:00                                         souix city             ia     NaN     circle                          30                      30 seconds  1954 Radar sighting&#44 Air Force base in Iowa...       4/16/2005   42.499994  -96.400307\n",
      "10818 1956-01-01 05:30:00                                            weirton             wv      us       disk                          10                      10 seconds  My Uncle Sam was driving to work very early on...        1/7/2000  40.4188889  -80.589722\n",
      "10819 1957-01-01 21:00:00                                             dallas             tx      us    unknown                          20                      20 seconds  I was flying the first of 4 USAF aircraft on a...       8/24/2004  32.7833333  -96.800000\n",
      "10820 1958-01-01 22:00:00                                                pep             tx      us   fireball                           2                            2sec  Green fire balls&#44 Texas Panhandle&#44 late ...      12/12/2009  33.8161111 -102.557778\n",
      "11718 1953-11-21 22:30:00                      pendleton (2-2 1/2 mi. se of)             in      us       disk                         180                   2 1/2- 3 min.  On a moonless&#44 star-lit night&#44  greenish...       11/8/2003     39.9975  -85.746667\n",
      "11876 1960-11-02 18:00:00                                           westbury             ny      us       disk                          60                        1 minute  Father Mother and son in car stopped in middle...      10/31/2003  40.7555556  -73.588056\n",
      "12856 1953-11-25 04:25:00  lackland air force base near aviation cadet ba...             tx     NaN       disk                         180                       3 minutes  When I was in preflight for pilot training at ...       12/2/2000   31.968599  -99.901813\n",
      "12857 1958-11-25 23:00:00                                          milwaukee             wi      us       disk                          10                      10 seconds  3 disk shaped lights swerving among each other...      12/12/2011  43.0388889  -87.906389\n",
      "14640 1960-01-15 22:00:00                                            bristol             va      us       disk                        1200                      20 minutes                        BURNING disc  sighting 1960       8/28/2003  36.5963889  -82.188611\n",
      "16651 1951-01-20 04:30:00                                       palm springs             ca      us      cigar                           3            one and a half hours  01/20/51     Palm Springs CA     light     hou...       5/15/2006  33.8302778 -116.544444\n",
      "16652 1958-01-20 22:43:00                                birchy bay (canada)             nf      ca       disk                         180                            3min  i couldn&#39t believe what i saw&#44 it was li...       2/24/2005   49.333333  -54.733333\n",
      "17223 1951-12-01 19:00:00                                 crewe (uk/england)            NaN      gb      cigar                          15                       15seconds  This was in the city&#44 I caught a movement o...       3/19/2002        53.1   -2.433333\n",
      "17224 1956-12-01 23:00:00                                           columbus             oh      us  formation                         240                     3-4 minutes  A &quot;V&quot;  shape set of lights either on...        7/3/2013  39.9611111  -82.998889\n",
      "17645 1950-12-12 22:00:00                                      half moon bay             ca      us      other                         600                      10 minutes  3 blips on a military radar screen flew off th...       6/12/2008  37.4636111 -122.427500\n",
      "18200 1954-12-15 23:10:00                                           red bank             nj      us     circle                         300                        3-5 min.  Bright orange light&#44 about the size of a pe...       8/19/2000  40.3469444  -74.064722\n",
      "18459 1954-12-16 16:50:00                                            yucaipa             ca      us       oval                          70                            1:10  Luminous oval over Yucaipa&#44 similar object ...      11/28/2007  34.0336111 -117.042222\n",
      "19046 1950-01-02 00:00:00                                      new york city             ny      us       oval                         900                           15min     good and true info. 500 Lights On Object0: Yes       4/27/2007  40.7141667  -74.006389\n",
      "19220 1959-12-20 18:30:00                                        los angeles             ca      us       disk                         600                      10 minutes  Silent&#44 Extreme Bright White Disc of Light&...       9/12/1999  34.0522222 -118.242778\n",
      "20952 1957-12-28 00:00:00                                            madison             wi      us      cigar                        3600                          1 hour  My mother and i worked as telephone swithcboar...        9/2/2005  43.0730556  -89.401111\n",
      "20953 1957-12-28 00:00:00                                            madison             wi      us      cigar                        3600                          1 hour  My mother and i worked as telephone swithcboar...       6/18/2004  43.0730556  -89.401111\n",
      "21284 1952-12-30 12:00:00                            camp mccoy (enroute to)             wi     NaN   cylinder                        1800                      30 minutes                             1951-2 winter sighting       1/10/2009   44.009855  -90.683212\n",
      "21285 1959-12-30 18:35:00                                          tehachapi             ca      us   fireball                          30                      30 seconds                     White fireball hitting ground.       2/21/2014  35.1322222 -118.448056\n",
      "22826 1952-12-06 19:00:00                                            chicago             il      us      other                          45                         45 sec.  Radar siting near Chicago- Dec. 1952. Object m...       2/18/2001       41.85  -87.650000\n",
      "25500 1952-02-10 21:00:00                                         binghamton             ny      us       disk                         900                   10-15 minutes  1952 UFO  disk outside Binghamton&#44 NY  Girl...       4/16/2005  42.0986111  -75.918333\n",
      "25810 1954-02-01 02:00:00                                          fairbanks             ak      us    unknown                        1140                         19 min.  RADAR INTERCEPT OF UFO BY USAF PILOT IN ALASKA...       1/10/2009  64.8377778 -147.716389\n",
      "25811 1960-02-01 22:15:00                                           st. paul             mn      us      cigar                           3                       3 seconds  A cigar-shaped UFO glided down towards the ear...       3/16/2000  44.9444444  -93.093056\n",
      "25812 1960-02-01 23:00:00                                           hartwell             ga      us      cigar                          45         approx 30 to 45 seconds  My father explained an event of a large cigar-...       4/16/2005  34.3527778  -82.932222\n",
      "26551 1951-02-15 11:00:00                                        los angeles             ca      us       disk                        2700                          45min.  I was only 8yrs old but I remember it clearly....        4/9/2004  34.0522222 -118.242778\n",
      "26552 1954-02-15 19:30:00                                             burney             ca      us       disk                        1800                    15-30 minute  Observance of one large and two smaller UFOs i...       4/18/2014     40.8825 -121.659722\n",
      "26553 1955-02-15 19:00:00                           new york city (brooklyn)             ny      us      light                         300                       5 minutes  TWO BRIGHT STAR SHAPE OBJECTS AT 700PM GOING F...       1/10/2009  40.7141667  -74.006389\n",
      "26554 1955-02-15 21:55:00                    welwyn garden city (uk/england)            NaN      gb   fireball                        1200                         20 mins  2 orange lights like fireball stayed together ...       2/14/2010        51.8   -0.200000\n",
      "26555 1958-02-15 02:30:00                                             howell             mi      us      cigar                          45                  30 to  45 sec.  Large glowing object that seemed to be  landin...       3/19/2002  42.6072222  -83.929444\n",
      "27013 1952-02-17 18:00:00                             nellis afb (las vegas)             nv     NaN       disk                        1800                         30 mins           We are dealing with something very real.      10/27/2004   36.241416 -115.050807\n",
      "27164 1960-02-18 21:00:00                                      winston-salem             nc      us      cigar                          20                      20 seconds  It was on a Full Moonlit night&#44 while snows...       8/10/1999  36.0997222  -80.244444\n",
      "29103 1951-02-03 22:00:00                                      thompsonville             ct      us       disk                          30                      30 seconds  A golden-orange glowing bowl&#44 flat on top&#...       7/25/2004  41.9969444  -72.599444\n",
      "30544 1956-03-01 13:00:00                                           petaluma             ca      us       oval                        1800                      30 minutes  Objects were several thousand feet in altitude...       1/28/1999     38.2325 -122.635556\n",
      "30810 1960-03-12 23:00:00                                            houston             tx      us   triangle                       10800                         3 hours  saw in sky made no noise lots of flashing ligh...       1/28/1999  29.7630556  -95.363056\n",
      "31445 1951-03-15 10:30:00                                  espanola (canada)             on      ca      cigar                          15                      15 seconds  Large silvery cigar shaped craft was seen by a...       2/12/2004       46.25  -81.766667\n",
      "31446 1957-03-15 13:00:00                                        los angeles             ca      us  formation                         900                         15 mins  I was 11 years old and my family and I were at...        9/2/2005  34.0522222 -118.242778\n",
      "31447 1957-03-15 15:00:00                                        los angeles             ca      us       disk                         900                         15 mins  There were about 5-7 saucers&#44 gray color in...       4/16/2005  34.0522222 -118.242778\n",
      "32459 1956-03-20 20:00:00                                              bowie             md      us       disk                         900                         15 min.     Unusual object seen from different viewpoints.       5/13/2003  39.0066667  -76.779444\n",
      "32961 1956-03-22 17:30:00                                            hampton             mn      us     sphere                         120                         minutes  Commuting home from work during an ice storm I...       5/10/2004  44.6102778  -93.001944\n",
      "34742 1957-03-05 19:30:00                                               jena             la      us     sphere                         900                          15min.  Heading S. in my car on two lane highway enter...       1/28/1999  31.6830556  -92.133611\n",
      "35074 1957-03-07 04:00:00                                        fort devans             ma     NaN       oval                         900                         15 min.  I was on duty at base. Saw and heard craft.Abo...       1/28/1999   42.537222  -71.615556\n",
      "35616 1953-04-10 13:00:00                                           chariton             ia      us      other                         600                          10 min      &quot; Flying Wing Before It&#39s Time &quot;        6/4/2004  41.0138889  -93.306389\n",
      "35979 1953-04-01 15:00:00                                          haverhill             ma      us    chevron                           2                         seconds                Historical account&#44 Haverhill MA        9/2/2005  42.7761111  -71.077778\n",
      "35980 1953-04-01 18:00:00                                          cambridge             ma      us     sphere                         180                       3 minutes  Two red-orange lights skirted Boston rooftops ...       7/14/2013      42.375  -71.106111\n",
      "35981 1954-04-01 22:00:00                                    stanford campus             ca     NaN       disk                         600                      10 minutes  Civil Defense plane spotter  reports UFO sight...        7/1/2002   37.427475 -122.169719\n",
      "35982 1959-04-01 01:00:00                                              miami             fl      us     sphere                        2700                   30-45 minutes  1959 childhood encounter with a spherical&#44 ...       2/14/2008  25.7738889  -80.193889\n",
      "35983 1960-04-01 21:00:00                                            houston             tx      us      other                         300                      <5 minutes  Sharp right angle turn in flight direction aft...      12/19/2003  29.7630556  -95.363056\n",
      "36772 1950-04-15 08:00:00  arkansas (eastern; on us hwy 70 abt 75 m w/o m...             ar     NaN       disk                         180                     1-3 minutes  Disk shaped unmoving over highway for 1-3 minu...      12/16/2005    35.20105  -91.831833\n",
      "36773 1950-04-15 14:00:00                                      waynesborough             va     NaN       disk                         300                       5 minutes  Fishburne Military School:  9 students witness...      11/19/2012   38.068469  -78.889468\n",
      "36774 1952-04-15 13:00:00                                            chicago             il      us       disk                        2700              approx: 45 minutes  HBCCUFO CANADIAN REPORT:  1952 metallic&#44 si...       7/23/2003       41.85  -87.650000\n",
      "36775 1952-04-15 16:00:00                                         greenville             tx      us   triangle                         120                     1-2 minutes  -SAW TWO SMALL 3-4 FOOT TRIANGULAR SHAPED DULL...        8/4/2003  33.1383333  -96.110556\n",
      "36776 1953-04-15 12:00:00                                        los angeles             ca      us   fireball                           5                       5 seconds  Green fireball traveling north at a low altitu...      12/14/2004  34.0522222 -118.242778\n",
      "36777 1953-04-15 16:00:00                                       midwest city             ok      us   fireball                         900                          15 min  Ball of yellow light with dancing spikes of li...       4/27/2004  35.4494444  -97.396389\n",
      "36778 1959-04-15 21:00:00                                            mendham             nj      us       disk                         300                    five minutes  A saucer-shaped UFO hovered at eye-level about...       1/31/2004  40.7758333  -74.601111\n",
      "37331 1958-04-17 21:30:00                                           winooski             vt      us       oval                         300               1 &amp; 1/2 hours  more on the 1958 &quot;fireball&quot; in Winoo...       4/16/2005  44.4913889  -73.186111\n",
      "37332 1958-04-17 21:30:00                                           winooski             vt      us       oval                        5400                     1 hr 30 min  object hovered&#44 landed then left headed nor...       2/22/2005  44.4913889  -73.186111\n",
      "38954 1958-04-25 19:00:00               atlantic ocean (troopship/ uss rose)            NaN     NaN    unknown                          60                          1/hour  An object that looked like a star until it moved.        4/2/1999  -14.599413  -28.673147\n",
      "39126 1959-04-26 19:00:00                                              baden             pa      us   cylinder                         900                          15 min  Report from the past - Orangish saucer shaped ...       2/18/2001      40.635  -80.228333\n",
      "39810 1953-04-30 16:00:00                                            jamison             pa      us      cigar                         120                 several minutes  In the spring of 1953 my mother &amp; I saw an...      12/23/2002  40.2547222  -75.089722\n",
      "41490 1955-05-01 15:00:00                                           holbrook             ma      us        egg                          60                        1 minute  I turned around and over the trees was a large...       4/16/2005      42.155  -71.009167\n",
      "41491 1956-05-01 12:00:00                                             canton             oh      us      cigar                         120                       2 minutes  At first the silver disc was stationary. As it...       9/15/2005  40.7988889  -81.378611\n",
      "41492 1957-05-01 12:00:00                                             canton             oh      us      cigar                         180                       3 minutes  Cigar shaped object is motionless for more tha...       4/27/2004  40.7988889  -81.378611\n",
      "41493 1959-05-01 18:30:00                                           columbus             oh      us      light                         180                         2-3 min  Red-orange lights over seen motionless over Lo...       2/22/2002  39.9611111  -82.998889\n",
      "41494 1960-05-01 20:00:00                                             tucson             az      us      light                         300                     4-5 minutes  Lights only&#44 no sound&#44 moving across the...        9/2/2005  32.2216667 -110.925833\n",
      "42288 1952-05-15 20:00:00                                              allyn             wa      us       disk                       10800                          3 hrs.  Close encounter involving physical examination...       8/16/2002  47.3858333 -122.826389\n",
      "42289 1953-05-15 16:00:00                                   toronto (canada)             on      ca       disk                          30                       20-30 sec  3 discs in formation flipping into clouds and ...      12/19/2003   43.666667  -79.416667\n",
      "42290 1954-05-15 12:00:00              corvallis (near; small town of alsea)             or      us    diamond                         120                       1-2 mins.  Disc top&#44 or bottom to our view following&#...       1/28/1999  44.5647222 -123.260833\n",
      "42291 1955-05-15 03:00:00                                         warrington             fl      us   fireball                         300                       5 minutes                        fireball into pensacola bay        2/1/2007  30.3838889  -87.275000\n",
      "42292 1956-05-15 20:00:00                                    pine castle afb             fl     NaN      light                        2700                          45 min  A large white light travelling slow and then a...       4/16/2005   28.189909  -80.600547\n",
      "42293 1957-05-15 02:00:00                        atlantic ocean (off africa)            NaN     NaN    unknown                          30                            0:30  While flying night navigational mission. We pi...       6/18/2004  -14.599413  -28.673147\n",
      "42294 1959-05-15 04:00:00                                           evanston             il      us    unknown                        1200                      20 minutes  Distant craft in the same part of the sky for ...      10/31/2003  42.0411111  -87.690000\n",
      "42295 1960-05-15 18:00:00                                        terre haute             in      us      other                         300                          5 min.                            Light Bar in Clouds UFO       9/19/2002  39.4666667  -87.413889\n",
      "42696 1958-05-17 00:00:00                                         cincinnati             oh      us    diamond                       86400                        24 hours  5/16/1958/ 1500 hours/ just getting dark&#44mo...       5/15/2006  39.1619444  -84.456944\n",
      "42821 1956-05-17 10:22:00                                                ada             ok      us     circle                          20                          20 sec  This was a result of a prayer or telepathic re...       3/31/2008  34.7744444  -96.678056\n",
      "43283 1958-05-21 00:00:00                                    north hollywood             ca      us     sphere                      604800                          1 week  I was four years old. i would visit at my gran...        6/2/1998  34.1722222 -118.378056\n",
      "44213 1957-05-25 13:00:00                                          rhinebeck             ny      us    diamond                          20                      20 seconds  KITE SHAPED OBJECT CHANGED 3 COLORS AND JIGGED...       9/24/2003  41.9266667  -73.913056\n",
      "44371 1954-05-26 04:30:00                                     quincy (rural)             il      us       disk                           7                       7 seconds  Saucer shaped object with lights and a dome se...      12/12/2009  39.9355556  -91.409722\n",
      "44993 1959-05-30 17:00:00                                         cincinnati             oh      us       disk                        3600                      60 minutes  Large saucer shaped craft hanging motionless a...        3/4/2008  39.1619444  -84.456944\n",
      "45609 1958-05-05 20:00:00                                        palmer park             md      us     sphere                        1200                      15-20 min.  I saw a white spherical light zig zaging acros...       4/22/2003  38.9208333  -76.871944\n",
      "45610 1959-05-05 09:00:00                                        el sobrante             ca      us     circle                         120                       2 minutes  Bright&#44 yellow/orange circle&#44 10 ft. in ...       3/21/2003  37.9772222 -122.294167\n",
      "46002 1958-05-07 10:00:00                                    north hollywood             ca      us     circle                      432000                           5days   A visit by a ufo object by a young child in 1958       6/12/2007  34.1722222 -118.378056\n",
      "46436 1950-06-11 00:00:00                                               napa             ca      us       disk                         120                       2 minutes  Saw a circular craft approximately 30 foot in ...      12/12/2013  38.2972222 -122.284444\n",
      "46437 1952-06-10 12:00:00                             chicago (south suburb)             il      us     circle                         600                      10 minutes  My sighting of two objects in Chicago&#44 IL a...       5/15/2006       41.85  -87.650000\n",
      "46438 1954-06-10 20:00:00                                         estes park             co      us      cigar                         300                     3-5 minutes  1953  Estes Park&#44 Colorado  cigar shaped cr...        7/5/2008  40.3772222 -105.521111\n",
      "46439 1958-06-10 12:00:00                                       baldwin park             ca      us      cigar                         300                       5 minutes  In 1958&#44 an eleven year old girl sees a cig...       3/11/2003  34.0852778 -117.960000\n",
      "46440 1959-06-10 13:00:00                                             monroe             mi      us    unknown                        1800                        30  min.  Observed three very high flying  objects fly a...       4/27/2007  41.9163889  -83.397778\n",
      "46441 1960-06-10 18:00:00                                       philadelphia             pa      us     sphere                           4                     3-4 seconds  SPHERE 3 TIMES MOON SIZE&#44 WITH MOVING COLOR...      10/31/2003  39.9522222  -75.164167\n",
      "46695 1953-06-11 11:00:00                                 vancouver (canada)             bc      ca       disk                          30                      30 seconds  Six year old witness was sitting on front lawn...       12/2/2000       49.25 -123.133333\n",
      "46696 1954-06-11 02:00:00                                           glenburn             me     NaN    unknown                           2                      2- seconds  A FLASH OF METALIC LIGHT REFLECTING OF A OBJEC...       1/17/2004   44.916862  -68.845746\n",
      "46697 1960-06-11 02:00:00                                      barstow-baker             ca     NaN       disk                         300                     3-5 minutes  Giant saucer crash in the mountains between Ba...       4/27/2004   35.117919 -116.235460\n",
      "46875 1950-06-01 12:00:00                                  mexicali (mexico)            NaN     NaN       disk                          60                        1 minute  Large disk observed by townspeople in large Me...      12/16/2005   32.624539 -115.452262\n",
      "46876 1950-06-01 16:00:00                                       philadelphia             ms      us       disk                         600             ten minutes or less  Childhood sighting of disk witnessed by mother...       6/12/2008  32.7713889  -89.116667\n",
      "46877 1950-06-01 20:00:00                                         pittsburgh             pa      us       oval                        1500                   20/25 minutes  One larger white object &amp; 2 smaller round ...       2/14/2006  40.4405556  -79.996111\n",
      "46878 1951-06-01 07:00:00                                   brandon (canada)             mb      ca       disk                        1800                      30 minutes  Circular Craft and Man in Black Sighted in Sum...       2/18/2001   49.833333  -99.950000\n",
      "46879 1951-06-01 19:00:00   oklahoma (northeastern part; in-flight sighting)             ok     NaN      cigar                         300                       5 minutes  Observed cigar-shaped object flying next to co...      12/16/2005    35.46756  -97.516428\n",
      "46880 1952-06-01 11:00:00                                            dousman             wi      us        NaN                          10                      10 seconds      Silver monkeys that were about 3-4 feet tall.       3/31/2008  43.0141667  -88.472500\n",
      "46881 1952-06-01 12:00:00           linlithgow (west  lothian) (uk/scotland)            NaN      gb     circle                         120                         2 mins.  It was about my lunch time i looked up to see ...       12/2/2000   55.889082   -3.569419\n",
      "46882 1952-06-01 22:00:00   norfolk/newport news (aboard ferry boat between)             va     NaN   fireball                          10                      10 seconds  Best recall as a SUnday night.  From east side...       2/16/2000   36.884735  -76.299024\n",
      "46883 1953-06-01 21:00:00                                             fresno             ca      us        NaN                         300                       5 minutes  i  seem to  be the only one of  my  siblings  ...       3/31/2008  36.7477778 -119.771389\n",
      "46884 1954-06-01 00:00:00                                            houston             tx      us       disk                         180                     2-3 minutes  I fulfilled my duty by passing on an unusual a...       6/12/2008  29.7630556  -95.363056\n",
      "46885 1954-06-01 06:00:00                                               ovid             ny      us       disk                         600                         10 min.  I saw two silver/gray objects of different sha...       12/5/2001  42.6763889  -76.823333\n",
      "46886 1954-06-01 08:00:00                      springfield (rural area near)             il      us   cylinder                         600                      5-10 mins.  This happened many years ago when I was a chil...       12/2/2000  39.8016667  -89.643611\n",
      "46887 1954-06-01 19:00:00                                         el cerrito             ca      us      light                         300                       5 minutes  It was a Sunday evening and must have been in ...        8/5/2001  37.9158333 -122.310556\n",
      "46888 1954-06-01 19:00:00                                             toledo             oh      us       disk                          60                     one minutue                                          SEE ABOVE        8/5/2001  41.6638889  -83.555278\n",
      "46889 1954-06-01 20:00:00                                        norfolk/nob             va     NaN       disk                          15                  10 -15 seconds  bright white like full moon&#44s slightly tilt...      11/23/1999   38.393797  -78.129907\n",
      "46890 1954-06-01 20:00:00                                       philadelphia             pa      us       disk                           2                         seconds                              They Are Our Brothers       12/2/2000  39.9522222  -75.164167\n",
      "46891 1954-06-01 23:00:00                                        fish canyon             ca     NaN      light                          60                        1 minute                     Helix flight pattern at zenith        6/2/1998   34.157229 -117.923952\n",
      "46892 1954-06-02 00:00:00                 ramey air force base (puerto rico)             pr     NaN     circle                         600                      10 minutes  Coming out of mess hall&#44 I saw A circular&#...       2/16/2000   38.738308  -93.573028\n",
      "46893 1955-06-01 02:00:00                                             bagley             mn      us     circle                        7200                         2 hours  I was 5 years old at the time&#44 family of 4 ...       5/24/1999  47.5216667  -95.398056\n",
      "46894 1955-06-01 15:29:00                                         cincinnati             oh      us       disk                         120               approx. 1-1/2 min  June 1955.  Bronze saucer/cylindrical craft; a...       6/18/2003  39.1619444  -84.456944\n",
      "46895 1955-06-01 17:00:00                               martinez (outskirts)             ca      us     circle                        1800                      30 minutes  We observed a large object aprox.size &quot;fo...       2/16/2000  38.0194444 -122.133056\n",
      "46896 1955-06-01 20:30:00                                            clinton             tn      us        egg                         360                 5 or  6 minutes  Egg shaped craft landed on lonly country road&...       5/14/2002  36.1033333  -84.131944\n",
      "46897 1956-06-01 19:00:00                                             belton             mo      us      other                         600                          10min.  THE EVENT WAS A PERSONAL CONTACT WITH AN ALIEN...       1/28/1999  38.8119444  -94.531667\n",
      "46898 1956-06-01 20:00:00                                            memphis             tn      us   cylinder                         900                     10-15 min.?  Object was glowing dull orange bent cylinder. ...       1/28/1999  35.1494444  -90.048889\n",
      "46899 1957-06-01 10:00:00                                            el paso             tx      us       disk                           7                  5 to 7 seconds  The UFO did not make any sounds.  The craft&#3...       7/26/2002  31.7586111 -106.486389\n",
      "46900 1957-06-01 19:50:00                                london (uk/england)            NaN      gb        NaN                         600                          10 min  On a Friday night in November 1957&#44 during ...       1/22/2000   51.514125   -0.093689\n",
      "46901 1957-06-01 20:00:00                                        glens falls             ny      us       disk                         240                         3or4min  there was no mistakeing what i was looking at ...       12/2/2000  43.3094444  -73.644444\n",
      "46902 1957-06-01 22:00:00                                             irving             tx      us      light                         300                        5minutes                                   tryangle over tx       1/21/2008  32.8138889  -96.948611\n",
      "46903 1957-06-02 00:00:00                             union bower are irving             tx     NaN  formation                        1800                      30 minutes                                   tryangle over tx      11/28/2007   32.814018  -96.948894\n",
      "46904 1958-06-01 02:00:00                                          middlesex             nc      us     circle                        3600                          1 hour                               white glowing lights       3/11/2006       35.79  -78.204167\n",
      "46905 1958-06-01 19:00:00                                      san francisco             ca      us       oval                         120                       2 minutes  A low flying huge silver flying saucer positio...      10/31/2003      37.775 -122.418333\n",
      "46906 1958-06-01 21:00:00                              new york city (bronx)             ny      us       oval                          10                      10 seconds  7 brightly illuminated elliptical discs racing...       4/16/2005  40.7141667  -74.006389\n",
      "46907 1958-06-01 22:00:00                                            timpson             tx      us      light                        5400                    1hour 30 min  Round lights&#44blMulticolored lights moving i...      12/20/2000  31.9036111  -94.395000\n",
      "46908 1958-06-01 22:30:00                                       grand island             ne      us     circle                         180                        2-3 min.              Hovering craft 60-75&#39 over roadway       2/22/2002      40.925  -98.341667\n",
      "46909 1959-06-01 08:00:00                                  wabash river (on)             in     NaN     circle                         900                      15 minutes                           Metallic object up close       2/14/2008   37.824151  -88.032040\n",
      "46910 1959-06-01 12:00:00                                             orange             ct      us   cylinder                        3600                         1 hour?  Sighted craft and transport of object to the g...       3/19/2009  41.2783333  -73.026111\n",
      "46911 1959-06-01 18:30:00                                             sidney             oh      us      light                         300                       5 minutes  Saw a bright light shining down.  Pulled over ...       4/27/2007  40.2841667  -84.155556\n",
      "46912 1959-06-01 22:00:00                                             nelson             ne      us      cigar                         600                     5 to 10 min  this was told to me from the man who seen the ...       2/24/2001  40.2016667  -98.067500\n",
      "46913 1960-06-01 00:00:00                                            seattle             wa      us       oval                           5                       5 seconds  OBJECT WAS OVAL IN SHAPE AND HAD MANY LIGHTS O...      11/30/1999  47.6063889 -122.330833\n",
      "46914 1960-06-01 02:30:00                                             yakima             wa      us      other                         900                          15 min  Shaped like an old fashioned oil derick-about ...       1/28/1999  46.6022222 -120.504722\n",
      "46915 1960-06-01 12:00:00                                           palmdale             ca      us       disk                         300                       5 minutes  Summer 1960 saucer with flashing lights (anten...      11/28/2007  34.5794444 -118.115556\n",
      "46916 1960-06-01 12:00:00                                         sacramento             ca      us      cigar                         300                       5 minutes  Brother sees ship and occupants...maybe more.....      12/12/2013  38.5816667 -121.493333\n",
      "46917 1960-06-01 13:00:00                                    chadd&#39s ford             pa     NaN   cylinder                           5                       5 seconds                   Fast moving&#44 silent cylinder.        8/5/2012   39.865348  -75.568425\n",
      "46918 1960-06-01 13:00:00                              new jersey (southern)             nj     NaN      cigar                         240                       4 minutes  Cigar shaped object dropped pieces of heated m...       7/11/2000   40.058324  -74.405661\n",
      "46919 1960-06-01 16:00:00                                  victoria (canada)             bc      ca       disk                           2                         seconds  I was a teenager&#44 15 or 16 years old&#44 at...       5/15/2013   46.216667  -63.483333\n",
      "46920 1960-06-01 17:00:00                     hermosillo&#44 sonora (mexico)            NaN     NaN     sphere                        7200                           2 hrs  I was in the northwest side of the town of Her...       3/19/2002   29.072967 -110.955919\n",
      "46921 1960-06-01 18:00:00                                         watervliet             mi      us       disk                         300                  4 or 5 minutes  3 Saucers seen hovering in daylight; seen clea...       1/22/2000  42.1866667  -86.260556\n",
      "46922 1960-06-01 20:00:00                                         vassalboro             me      us       oval                        7200                          1-2 hr                    Multi experiences with unknown.       6/12/2007  44.4591667  -69.678056\n",
      "46923 1960-06-01 22:00:00                                        silverfdale             wa     NaN   changing                        1200                      20 minutes  UFO seen by 12 year old girl sleeping out near...      11/28/2007   47.644539 -122.694870\n",
      "46924 1960-06-02 00:00:00                                         great bend             ks      us      other                         120                       2 minutes  MISSOURI INVESTIGATORS GROUP Report:  One nigh...       12/7/2006  38.3644444  -98.764444\n",
      "46925 1960-06-02 00:00:00                                     salt lake city             ut      us       disk                         300                           5 min  I saw the craft in daylight hoovering over me....        3/6/2001  40.7608333 -111.890278\n",
      "47998 1950-06-12 10:30:00                                 budapest (hungary)            NaN     NaN     circle                          60                            1min  The &#39object&#39 made an extremely high spee...       1/31/2004   47.497912   19.040235\n",
      "47999 1960-06-12 14:30:00                                        great falls             mt      us  formation                        1200                      20 minutes          SAC at Malstrom AF Base not Concerned&#33       4/27/2004  47.5002778 -111.300000\n",
      "48185 1952-06-13 07:30:00        fortville (2-3 mi. n. of&#44 state road 13)             in     NaN       disk                          20                      18-20 sec.  3 saucer-shaped objects flying fast (with wobb...       11/8/2003   39.932263  -85.848035\n",
      "48186 1960-06-13 02:00:00                                             quincy             ca      us       disk                         120                 several minutes  A lighted object was silently descending verti...       6/12/2008  39.9369444 -120.946111\n",
      "48360 1957-06-14 10:00:00                                    livermore falls             me      us    diamond                         300                     3-5 minutes                         A recalled childhood event        2/4/2013  44.4752778  -70.188611\n",
      "48574 1950-06-15 13:00:00                                 grosse pointe park             mi      us       oval                         600                      10 minutes  1951-52  Grosse Pointe&#44 MI. Three saucer sh...      11/28/2007  42.3758333  -82.937500\n",
      "48575 1950-06-15 20:00:00                                     bonifay (near)             fl      us       disk                          10                      10 seconds  The objects were discs&#44 white&#44 and I est...       1/12/2012  30.7916667  -85.679722\n",
      "48576 1951-06-15 20:30:00                                         greenville             ms      us       disk                         300                       5 minutes  Sighting of white lights in evening sky west o...       2/14/2006       33.41  -91.061667\n",
      "48577 1952-06-15 21:00:00                                       jacksonville             fl      us   triangle                          30                      30 seconds  extremely fast triangle shape object with one ...       9/13/2002  30.3319444  -81.655833\n",
      "48578 1952-06-15 23:00:00                                            maywood             ca      us     circle                         300                  3 to 5 minutes  7 balls of *orange moon* lights in 2 V formati...        6/9/2009  33.9866667 -118.184444\n",
      "48579 1952-06-16 00:00:00                                 luke airforce base             az     NaN        egg                         900                          15 min  This was in the summer of 1951 or 1952&#44 not...       4/27/2004   33.536096 -112.381903\n",
      "48580 1952-06-16 00:00:00         piedra blanka (los padres national forest)             ca     NaN      cigar                         600                       10minutes  I was camping with my school at Piedra Blanka ...       1/11/2002  -28.450537  -65.791539\n",
      "48581 1952-06-16 00:00:00                                   timmins (canada)             on      ca       disk                         600                           hours                        1952 disks and missing time      10/31/2003   48.466667  -81.333333\n",
      "48582 1953-06-15 12:00:00                                          wenatchee             wa      us       disk                          45                      45 seconds  round&#44 silver-colored&#44 shiny&#44 saucer-...       1/17/2004  47.4236111 -120.309167\n",
      "48583 1953-06-15 18:00:00                                         north bend             wa      us     circle                         120                       2 minutes  My cousin and I who were children at the time&...       9/26/1998  47.4958333 -121.785556\n",
      "48584 1953-06-16 00:00:00                                            roswell             nm      us        NaN                       14400                         4 hours  My oldest sister was born at Walker AFB (Roswe...       2/18/2001  33.3941667 -104.522500\n",
      "48585 1954-06-15 11:45:00                                           claymont             de      us       disk                          10                         10 secs  It was just before noon on a warm sunny  June ...       11/8/2003  39.8005556  -75.460000\n",
      "48586 1954-06-15 16:30:00                                      ellington afb             tx     NaN       disk                         720                         12 min.  Radar site-200mi range @Ellington AFB-Radar op...       2/14/2006     29.6007  -95.176952\n",
      "48587 1955-06-15 04:30:00                          missouri (northwest part)             mo     NaN      light                         300                           5 min  I will never forget this this experience. The ...       3/21/2003   37.964253  -91.831833\n",
      "48588 1955-06-15 08:00:00                                         youngstown             pa      us        NaN                          60                   1 min. (est.)         In Retrospect...I definately saw a UFO&#33       4/16/2005  40.2797222  -79.365833\n",
      "48589 1955-06-15 21:00:00                                      daytona beach             fl      us   fireball                         120                       2 minutes  Three fireballs moved slowly along the beach&#...       4/16/2005  29.2105556  -81.023056\n",
      "48590 1955-06-16 00:00:00                                     south st. paul             mn     NaN       disk                       18000                         5 hours  Peter: you&quot;ll have to call me for the who...        1/5/2011    44.87598  -93.027580\n",
      "48591 1956-06-15 12:15:00                                      san francisco             ca      us      other                         180                         2-3 min  I saw a football shaped&#44 silver metalic obj...       4/15/2000      37.775 -122.418333\n",
      "48592 1956-06-15 18:00:00                                          palo alto             ca      us   fireball                         600                 5 to 10 minutes  Fireball landing&#44 and when inspection attem...       4/18/2012  37.4419444 -122.141944\n",
      "48593 1956-06-15 18:00:00                                  richfield springs             ny      us      cigar                         120                   2 min. aprox.  SIX CIGAR SHAPED UFO&#39S OVER UPSTATE NEW YOR...      10/15/2003  42.8533333  -74.985833\n",
      "48594 1956-06-15 19:15:00                                              vista             ca      us      cigar                        1200                   15-20 minutes  bright orange cigar shaped craft&#44 at least ...       7/16/2003        33.2 -117.241667\n",
      "48595 1956-06-15 20:00:00                                           farragut             tn      us      cigar                         600                         ~10 min  Cigar shaped craft seen in Farragut&#44 TN com...        2/1/2007  35.8844444  -84.153611\n",
      "48596 1956-06-15 20:00:00                                              tulsa             ok      us      flash                         300                    3 to 5 mins.  Mysterous Flash seen over Tulsa and as far as ...       7/26/2002  36.1538889  -95.992500\n",
      "48597 1956-06-15 20:32:00                                              salem             nj      us       disk                          68                            1:08  We walked out side during supper&#44 woke up s...        7/4/2012  39.5716667  -75.467500\n",
      "48598 1956-06-15 21:00:00                             new york city (queens)             ny      us      light                          60                        1 minute  I looked into the darkened sky  and observed a...        9/2/2005  40.7141667  -74.006389\n",
      "48599 1957-06-15 02:30:00                           atlantic ocean (bermuda)            NaN     NaN        NaN                         120                         minutes                                                NaN       3/19/2002  -14.599413  -28.673147\n",
      "48600 1957-06-15 13:00:00                                      hartford city             in      us       disk                         300                       5 minutes            flying sausers are as real as real gets       6/20/2005  40.4511111  -85.370000\n",
      "48601 1957-06-15 23:30:00                                        walled lake             mi      us   cylinder                        1800                      30 minutes  The glowing object was there one second and in...       1/19/2005  42.5377778  -83.481111\n",
      "48602 1958-06-15 15:00:00                                            yonkers             ny      us      light                          14                      14 seconds                             venus&#39 dark side...        9/2/2005  40.9311111  -73.899167\n",
      "48603 1958-06-15 19:15:00                                         menlo park             ca      us      light                         600                    5-10 minutes  Saw noisless&#44 extremely-low clear light slo...       4/18/2012  37.4538889 -122.181111\n",
      "48604 1958-06-15 20:00:00                                            houston             tx      us       disk                        2700                         45 mins  Observed disk while driving. We stopped&#44 go...       1/28/1999  29.7630556  -95.363056\n",
      "48605 1958-06-15 22:00:00                                   oklahoma (rural)             ok     NaN      light                          80                            1:20  In the summer of 1958 I was in far eastern Okl...        9/1/2004    35.46756  -97.516428\n",
      "48606 1958-06-15 23:00:00                                             pawnee             ok      us      light                        1800                         30 min.  I watched two Star like objects in the Eastern...       2/10/2012  36.3377778  -96.803611\n",
      "48607 1958-06-16 00:00:00                                      mountain view             mo      us      other                        7200                       2 hours ?  Mountain View&#44 Mo. 1960&#39s Lights with ta...       11/9/2002  36.9952778  -91.703611\n",
      "48608 1959-06-15 01:00:00                       missoula (event at superior)             mt      us    unknown                          20                20 consec nights  Twenty nights of stalking&#44 apparent abducti...        6/6/2000  46.8722222 -113.993056\n",
      "48609 1959-06-15 08:30:00                                        minneapolis             mn      us      other                          30                       30seconds                                      Silver Bullet      12/16/2005       44.98  -93.263611\n",
      "48610 1959-06-15 10:00:00                                           campbell             ca      us       disk                         720                   10 to 12 min.                      3 glowing disc shaped objects       2/24/2007  37.2872222 -121.948889\n",
      "48611 1959-06-15 11:15:00                    pr&iacute;ncipe (havana) (cuba)            NaN     NaN       disk                          60                less than minute  42 years ago and I don&#39t remember about the...      10/12/2001    1.613938    7.405693\n",
      "48612 1960-06-15 21:00:00                                          baltimore             md      us      other                         300                       5 minutes            Three white lights flying in formation.       8/24/2010  39.2902778  -76.612500\n",
      "48613 1960-06-15 21:45:00                                        kansas city             ks      us       disk                         900                          15 min                                    Short visit&#33       2/24/2001  39.1141667  -94.627222\n",
      "49474 1956-06-16 13:00:00                                         cincinnati             oh      us       disk                        1200                       six hours  glass like&#44you could see threw&#44craft was...       4/13/2010  39.1619444  -84.456944\n",
      "49657 1953-06-17 07:30:00                                          galveston             tx      us      cigar                         180                       3 minutes  It had been my habit before I opened my place ...        8/5/2001  29.3011111  -94.797500\n",
      "49658 1955-06-17 07:00:00                                            rantoul             il      us      light                         600                      10 minutes  We had fallen out to the parking lot awaiting ...        8/5/2001  40.3083333  -88.155833\n",
      "49839 1960-06-18 23:00:00                                            chicago             il      us       oval                           3                      3  seconds  AS I LYE IN THE NIGHT&#44 MY EYES FOCUSED ON H...        3/2/2004       41.85  -87.650000\n",
      "50033 1957-06-19 21:00:00                                        san leandro             ca      us      light                          90               1.5 minutes or so  The night of Sputnik&#44 a drag race in the sk...       4/16/2005      37.725 -122.155000\n",
      "50249 1950-06-20 10:00:00                                         booneville             ms      us       disk                           4                           4 sec         Youngster observes shiny disc-shaped craft       7/23/2000  34.6580556  -88.566667\n",
      "50250 1950-06-20 17:00:00                                          galveston             tx      us     sphere                         600                 5 to 10 minutes  Large orange-red  lowering &quot;Moon&quot; ob...      10/30/2006  29.3011111  -94.797500\n",
      "50571 1952-06-21 22:00:00  lansing (few miles northwest of&#44 in the cou...             mi      us      other                           2                     sew seconds  It was like a star that moved&#44 it was 1952 ...       1/17/2004     42.7325  -84.555556\n",
      "50572 1957-06-21 19:30:00                                            norwalk             ca      us       disk                         480                       8 minutes  It was hovering about 20 feet from the ground ...       7/15/2005  33.9022222 -118.080833\n",
      "50573 1960-06-21 14:00:00                                     east bernstadt             ky      us       disk                          90                      90 seconds  The disc was about 30 feet across and moved si...       3/19/2009  37.1894444  -84.117778\n",
      "50942 1952-06-22 17:45:00                                            chester             pa      us       oval                         300                          5 min.  My parents &amp; I &amp; my brother were walki...       3/17/2004  39.8494444  -75.356111\n",
      "51164 1954-06-23 02:00:00                                             lorton             va      us      other                         120                         minutes       My Mother heard what she believed was a UFO.       11/8/2003  38.7041667  -77.228056\n",
      "51165 1954-06-23 23:00:00                             langley air force base             va     NaN     circle                        1800                      30 minutes  Object appearing larger than a full moon hover...       3/16/2000   37.083507  -76.359224\n",
      "51166 1955-06-23 07:00:00                                   beach haven park             nj      us       disk                          60                        1 minute  3 women hanging clothes saw a UFO come down ov...       1/28/1999     39.5975  -74.213056\n",
      "51167 1959-06-23 22:00:00                                        minneapolis             mn      us  formation                        7200                           2 hrs  Flying while in the Marine Corps in a AD Skura...       1/17/2004       44.98  -93.263611\n",
      "51401 1956-06-24 14:00:00                                             madera             ca      us     sphere                         120                       2 minutes  Half spherical object with portholes on the si...        7/4/2012  36.9613889 -120.059722\n",
      "51614 1954-06-25 03:30:00                                            thrifty             tx      us     circle                          45                      45 seconds  6-25-1954&#44 Red circle of light in Thrifty&#...       3/21/2014  31.8108333  -99.131667\n",
      "52205 1959-06-28 13:00:00                                              globe             az      us  rectangle                         300                       5 minutes  Rectangular shape consisting of what resembled...        9/2/2005  33.3941667 -110.785833\n",
      "52595 1950-06-30 16:00:00                                    lac du flambeau             wi      us       disk                          30                      30 seconds  saucer like disc submerging from waters&#44 di...       3/19/2009  45.9697222  -89.891944\n",
      "52596 1950-06-30 17:30:00                                      florence (??)             co      us       disk                           3                     2-3 seconds  Possible ufo in a western movie.  (NUFORC Note...       1/21/2008  38.3902778 -105.118056\n",
      "52597 1950-06-30 17:30:00                                     florence (??))             co      us      light                         0.5                          .5 sec  The move classic Rio Grand &#44 in the sean be...       1/21/2008  38.3902778 -105.118056\n",
      "52598 1951-06-30 07:00:00                                    jackson heights             ny      us       disk                           5                       5 seconds  While watching a movie &quot;Captain Horatio H...      12/12/2009  40.7555556  -73.885833\n",
      "52599 1951-06-30 19:00:00                                         birmingham             al      us    unknown                           3                       3 seconds  I was suddenly aware of most of the sky being ...      10/30/2006  33.5205556  -86.802500\n",
      "52600 1952-06-30 03:00:00                                              pecos             tx      us       disk                        7200                          1-2hrs                          West Texas to Carlsbad NM       3/19/2009  31.4227778 -103.492778\n",
      "52601 1952-06-30 13:00:00                              new york city (bronx)             ny      us       disk                          60                        1 minute  We were flying kites on the roof when someone ...       1/12/2012  40.7141667  -74.006389\n",
      "52602 1952-06-30 18:30:00                                             auburn             wa      us       oval                          60                        1 minute  Early nighttime sighting of huge oval object f...       2/14/2006     47.3075 -122.227222\n",
      "52603 1952-06-30 21:00:00                                              miami             fl      us       disk                       18000                    1 to 5 hours                          No one is able to believe        8/7/2011  25.7738889  -80.193889\n",
      "52604 1953-06-30 00:00:00                                          cleveland             oh      us   fireball                          35                           35sec  The object came from the north from Canada met...       2/14/2010  41.4994444  -81.695556\n",
      "52605 1953-06-30 15:00:00                          kelso (cowlitz co. hills)             wa      us       oval                         300                          5 min.  Three UFO&#39s witnessed by local people in th...        8/7/2007  46.1469444 -122.907222\n",
      "52606 1954-06-30 12:00:00                                          hawthorne             ca      us      light                         120                 several minutes  Stationary light for several minutes (far away...      10/30/2006  33.9163889 -118.351667\n",
      "52607 1954-06-30 15:00:00                                           pasadena             ca      us     circle                         300                       5 minutes  An incandescent white circular object passed o...       4/14/2009  34.1477778 -118.143611\n",
      "52608 1954-06-30 23:00:00                                         uk/england            NaN     NaN   fireball                         120                 several minutes  B-17 Pilot Report:  Fiery orb tracks USAF bomb...        2/7/2014   52.355518   -1.174320\n",
      "52609 1954-07-01 00:00:00                                            methuen             ma      us        NaN                         900                      15 minutes  A small light in the distance changes directio...      12/12/2011  42.7261111  -71.191389\n",
      "52610 1955-06-30 00:00:00                                        quartz hill             ca      us       disk                           2                         seconds                                      childhood ufo        7/5/2008  34.6452778 -118.217222\n",
      "52611 1955-06-30 13:00:00                                            lubbock             tx      us      cigar                         120                       2 minutes             Cigar shaped cloud and left very fast.      11/28/2007  33.5777778 -101.854722\n",
      "52612 1955-06-30 21:00:00                                              dumas             tx      us      light                         600                      10 minutes  1955 - Air Force jets pursue lights over small...       4/16/2005  35.8655556 -101.972778\n",
      "52613 1955-06-30 21:00:00                                      morehead city             nc      us       disk                         300                       5 minutes  Mid 1950&#39s Saucer in North Carolina&#44 Mul...       4/11/2014  34.7227778  -76.726389\n",
      "52614 1956-06-30 01:00:00                                       willow grove             pa      us      light                        7200                          2 hrs.             Willow Grove Naval Air Station&#44 PA.       4/16/2005  40.1438889  -75.116111\n",
      "52615 1956-06-30 13:00:00                                     cape girardeau             mo      us    diamond                         300                       5 minutew                     Angular UFO sighted as a child      12/12/2011  37.3058333  -89.518056\n",
      "52616 1956-06-30 16:00:00                                      new brunswick             nj      us       disk                         600              approx. 10 minutes  Four Saucers&#44 over the City of New Brunswic...       4/17/2008  40.4861111  -74.452222\n",
      "52617 1956-06-30 18:30:00                                            houston             tx      us   triangle                         900                   10-15 minutes                                                NaN       2/21/2014  29.7630556  -95.363056\n",
      "52618 1957-06-30 03:30:00                                         birmingham             mi      us    unknown                         300                       5 minutes  Grey alien drills into my back when I was a ch...        7/3/2013  42.5466667  -83.211389\n",
      "52619 1957-06-30 12:00:00                                      new york city             ny      us   teardrop                         600                           i0min                        glowing lights lead the way       2/14/2006  40.7141667  -74.006389\n",
      "52620 1957-06-30 13:00:00                                         burlington             ia      us     circle                          90                      90 seconds  Slow travel when observed&#44 followed by an a...        6/2/2013     40.8075  -91.112778\n",
      "52621 1957-06-30 18:00:00                                       russellville             ar      us     sphere                         600                      10 minutes  Huge orange ball floating over Russellville&#4...       4/12/2013  35.2783333  -93.133611\n",
      "52622 1957-06-30 20:00:00                                             barker             ny      us       disk                         180                       3 minutes  1957  Four miles south of Barker NY&#44 6 kids...       5/15/2013       43.33  -78.555000\n",
      "52623 1957-06-30 21:00:00                                             albany             ca      us     circle                          60    around 1 minute&#44 estimate  What looked like a moving star and a stationar...       8/30/2013  37.8869444 -122.296667\n",
      "52624 1957-07-01 00:00:00                                             dallas             tx      us      other                         300                       5 minutes  vee shaped lights 7 to 11 over dallas texas in...       2/14/2008  32.7833333  -96.800000\n",
      "52625 1958-06-30 12:00:00                                         silverdale             wa      us   cylinder                       32400                       8-9 hours  Cylindrical craft hovered above the house with...       1/31/2011  47.6447222 -122.693611\n",
      "52626 1958-06-30 13:00:00                                            conyers             ga      us   teardrop                         300                          5 min.                        Sighting of a UFO ca. 1958.        5/2/2011     33.6675  -84.017778\n",
      "52627 1958-06-30 16:00:00                             camden (penobscot bay)             me      us       disk                           2                        seconds?  Mother and pre-teen son witness a silver disc ...       7/16/2006  44.2097222  -69.065278\n",
      "52628 1958-06-30 21:30:00                                             durham             ks      us      light                           2                 several seconds  1950&#39s  Durham&#44 KS  evening  after dark ...       4/18/2012  38.4861111  -97.227778\n",
      "52629 1958-06-30 23:00:00                                          thibodaux             la      us   fireball                          90                      90 seconds  Historical Sighting  I have related this many ...       1/21/2008  29.7955556  -90.822778\n",
      "52630 1959-06-30 02:30:00                                north atlanticocean            NaN     NaN    unknown                        1800                          30 min     unidentified radar contact over Atlantic Ocean      11/21/2010   35.746512  -39.462891\n",
      "52631 1959-06-30 14:00:00                                      campbellsport             wi      us     circle                        1200                          20 min  I was a radar operator at Fallon NAS&#44 we we...       6/12/2008  43.5977778  -88.278889\n",
      "52632 1959-06-30 20:00:00                              new york city (bronx)             ny      us       oval                        1200                 approx. 1/2 hr.  My husband and I didn&#39t believe in UFO&#39s...       7/19/2010  40.7141667  -74.006389\n",
      "52633 1959-06-30 21:00:00                                            phoenix             az      us       disk                          60                       <1 minute  1959 Saucer shaped object sighting Phoenix Ari...       6/23/2010  33.4483333 -112.073333\n",
      "52634 1960-06-30 12:00:00                                         litchfield             pa      us      other                         600                      10 muntes?  When I was around 10 years old I was going to ...      11/28/2007     41.9675  -76.430556\n",
      "52635 1960-07-01 00:00:00                                london (uk/england)            NaN      gb   triangle                          25                      25 seconds  Three black triangles&#44 glide slowly over my...      10/30/2006   51.514125   -0.093689\n",
      "53270 1951-06-03 13:00:00                                             jasper             nc      us       oval                         300                       5 minutes  MIDDAY OVAL SHAPE&#44 ANITQUE COLOR OBJECT SIT...       6/20/2005  35.2013889  -77.206944\n",
      "53271 1960-06-03 18:00:00                                          santa ana             ca      us       disk                         300                       5 minutes  Saucer shaped craft seen June 1960 over Santa ...        9/2/2005  33.7455556 -117.866944\n",
      "53573 1956-06-06 00:00:00                                             elmore             al      us     sphere                        3600                          1 hour  Me and my cousins where playing near morter cr...       10/7/2003  32.5386111  -86.315000\n",
      "53574 1959-06-05 13:00:00                                             arvada             co      us     circle                        3600                      60 minutes  small round one over Rocky Flats at high altit...        8/5/2009  39.8027778 -105.086944\n",
      "53766 1951-06-06 02:00:00              mount pinos (beyond ski area parking)             ca     NaN       disk                        7200                         2 hours  2 ufos seen over mt pinos&#44  people in sleep...       10/8/2007   34.811645 -119.147330\n",
      "53767 1952-06-06 13:00:00                                          evergreen             co      us       disk                       18000                            5hrs  Childhood abduction and mental and visual enco...        6/4/2004  39.6333333 -105.316667\n",
      "53768 1955-06-06 01:00:00                                          pensacola             fl      us      light                         300                        5minutes                                  orange fireball .      12/12/2009  30.4211111  -87.216944\n",
      "53769 1956-06-06 12:00:00                                        upper glade             wv     NaN        egg                         300                       5 minutes  Close up sighting in rural West Virginia aroun...      12/12/2011   38.334859  -80.776528\n",
      "53770 1956-06-06 22:00:00                                              akron             oh      us      other                          30                  30 seconds + -  Akron Ohio&#44 1956&#44 Bright object similar ...        6/9/2009  41.0813889  -81.519167\n",
      "53771 1957-06-06 22:00:00                           hicksville (long island)             ny      us     circle                          15                          15 sec  My friend and I saw 7 perfectly circular objec...       4/16/2005  40.7683333  -73.525556\n",
      "53772 1958-06-06 09:30:00                                         cincinnati             oh      us    diamond                       86400                   24 hours lost  odd shaped diamond saucer&#44light could pass ...       7/16/2006  39.1619444  -84.456944\n",
      "53773 1958-06-06 18:45:00                         sydney (nsw&#44 australia)            NaN      au        NaN                        2700                          45 min  In the winter months of 1958 on a clear winter...       5/13/2003  -33.861481  151.205475\n",
      "53774 1960-06-06 12:00:00                                     cape canaveral             fl      us   fireball                       14400                         4 hours  It was as if a huge ball of light zoomed down ...       1/11/2002  28.4055556  -80.605000\n",
      "54020 1950-06-07 20:00:00                                         kensington             md      us       oval                         600                      10 minutes  Reflective oval seen hovering over Washington ...      11/28/2007  39.0255556  -77.076667\n",
      "54214 1950-06-08 10:00:00                                        kansas city             mo      us       disk                         900                       15minutes  The ufo came from the East&#44 as I was lookin...      12/16/2005  39.0997222  -94.578333\n",
      "54588 1950-07-10 20:30:00                        east palestine (outside of)             oh      us      light                         300                    approx 5 min  Lights observed moving in and out of a thunder...       4/28/2001  40.8338889  -80.540556\n",
      "54589 1951-07-10 23:30:00                                              provo             ut      us       disk                        1800                      30 minutes  Observed a gray&#44 saucer shaped object for 3...       6/13/2002  40.2338889 -111.657778\n",
      "54590 1957-07-10 20:00:00                                       phillipsburg             nj      us      cigar                         420                       7 minutes  cigar shaped&#44 after nightfall&#44 Phillipsb...       4/16/2005  40.6936111  -75.190556\n",
      "54591 1957-07-10 22:00:00                                          baltimore             md      us      other                          60                        1 minute  ON THE ABOVE DATE&#44MYSELF AND THREE OTHER BO...        9/6/2002  39.2902778  -76.612500\n",
      "54592 1958-07-10 09:00:00                                        cheektowaga             ny      us   teardrop                          20                     10 -20 secs  White teardrop shaped object observed during t...       3/21/2003  42.9033333  -78.755000\n",
      "55112 1951-07-01 03:00:00                                      otis orchards             wa      us       disk                         120                      ~2 minutes  Cigar shaped Disc darting back and forth (East...      12/23/2013  47.7005556 -117.105278\n",
      "55113 1951-07-01 14:00:00                                            atlanta             ga      us        NaN                         120                         minutes  As I stepped from my car I spied a really wier...       12/2/2000  33.7488889  -84.388056\n",
      "55114 1952-07-01 15:00:00                                             sebeka             mn      us      other                        1800                          30 min  Silver donut shape object sighted over rural M...      12/12/2011       46.63  -95.088611\n",
      "55115 1952-07-01 22:00:00                                            detroit             mi      us     sphere                         300                       5 minutes  object sits stationary for 5 minutes and then ...      10/31/2003  42.3313889  -83.045833\n",
      "55116 1953-07-01 05:30:00                      colorado springs (mtsn nw of)             co      us       disk                          10                      10 seconds  Absolutely huge UFO hovered 40 feet above hous...       7/25/2004  38.8338889 -104.820833\n",
      "55117 1954-07-01 22:00:00                                        los angeles             ca      us     circle                          15                      15 seconds  In 1954&#44 I saw a red glowing disc traveling...        2/4/2013  34.0522222 -118.242778\n",
      "55118 1955-07-01 14:00:00         carnation (on tolt river&#44 cascade mts.)             wa      us       disk                         480                     5-8 minutes  1955 daytime sighting of a saucer craft by a f...       4/15/2000  47.6480556 -121.912778\n",
      "55119 1955-07-01 22:00:00                                             dierks             ar      us      cigar                          10                      10 seconds  Cigar-shaped craft&#44 8 feet long with flashi...       4/16/2005  34.1191667  -94.016389\n",
      "55120 1956-07-01 16:00:00                             beatrice (14 mi sw of)             ne      us      other                         120                       2 minutes  Large pale silver dome seen over a hill and al...       7/13/2005  40.2680556  -96.746667\n",
      "55121 1957-07-01 13:00:00                                  mullens/pineville             wv     NaN       oval                         180                       3 minutes  USAF JETS BELIEVED TO HAVE SHOT AT OR DESTROYE...       1/11/2002    37.58218  -81.381465\n",
      "55122 1957-07-01 13:00:00                                            talcott             wv      us     sphere                          15                    10 - 15 sec.  A sphere that looked like a white light came a...        7/5/2008  37.6513889  -80.754444\n",
      "55123 1957-07-01 20:00:00                                            del rio             tx      us      cigar                          15                       half hour        Owners New Car Has Paint Purned Off By UFO.      12/23/2002     29.3625 -100.896389\n",
      "55124 1958-07-01 21:00:00                                             muncie             in      us    unknown                         300                       5 minutes  A star sized object circled the sky and then s...       4/27/2004  40.1933333  -85.386389\n",
      "55125 1959-07-01 01:00:00                                         strathmore             ca      us       disk                         240                       4 minutes  the gathering of static electricity from atmos...        2/1/2007  36.1455556 -119.059722\n",
      "55126 1959-07-01 20:00:00                                        castle rock             wa      us      cigar                          30                      30 seconds  Large&#44 cigar-shaped aircraft with evenly sp...       4/27/2007  46.2752778 -122.906389\n",
      "55127 1960-07-01 12:00:00                                            unknown             nv     NaN       disk                        1800                      30 minutes                 Real Evidence of UFOin the 60&#39s       8/12/2008    38.80261 -116.419389\n",
      "55128 1960-07-01 19:00:00                                   windsor (canada)             on      ca      other                         900                   12-15 minutes  Humming object with domed upper portion&#44 fl...       8/11/2004   45.583333  -72.000000\n",
      "55129 1960-07-01 20:00:00                                           portland             or      us    unknown                        1800                       15-30 min     Stationary Lights Over Portland OR Around 1960       5/15/2006  45.5236111 -122.675000\n",
      "55130 1960-07-01 22:00:00                                   midland (canada)             on      ca       disk                        1020                      17 minutes        4 disc shapped crafts over Gerogen Bay ont.      11/19/2012       44.75  -79.900000\n",
      "55648 1954-07-12 17:30:00                         morroco (4 miles south of)             in     NaN   changing                         900                        10-15min  I WAS 12&#44 RIDING WITH AN UNCLE AUNT AND GRA...       3/21/2003   40.946146  -87.453363\n",
      "55649 1956-07-12 19:00:00                                            wichita             ks      us    unknown                          90                         9o sec.  Small&#44 Silent&#44 Metalic&#44 And Very &#44...       7/16/2003  37.6922222  -97.337222\n",
      "55650 1956-07-12 21:10:00                                 edmondton (canada)             ab     NaN     circle                        1200                      20 minutes  Object approached Edmondton&#44 Alberta Airpor...       12/7/2006   53.544389 -113.490927\n",
      "55898 1952-07-13 21:00:00                                          arlington             va      us       oval                        1200                          20 min  1952 green disc-shaped object circling over Wa...       1/17/2004  38.8902778  -77.084444\n",
      "55899 1953-07-13 21:00:00                                washington&#44 d.c.             dc     NaN      light                         300                        3-5 min.  Four of us saw a ball of light come out of the...       3/11/2006   38.907231  -77.036464\n",
      "55900 1957-07-13 09:00:00                                         chesapeake             oh      us       disk                         600                      10 minutes                A silent&#44spinning daylight disc.        7/4/2012  38.4277778  -82.457222\n",
      "56183 1956-07-14 19:30:00                                         sacramento             ca      us       disk                         420                       7 minutes  Circular object&#44 slow moving&#44 disappeare...      11/21/2010  38.5816667 -121.493333\n",
      "56448 1950-07-15 21:30:00                                             newark             nj      us     sphere                         300                           5 min  As a student of astronomy&#44 this writer witn...       5/24/1999  40.7355556  -74.172778\n",
      "56449 1950-07-15 23:00:00                         los padres national forest             ca     NaN  formation                          20                      20 seconds  Is&#39nt it fun how the Gov. tries to block th...      12/23/2002   34.597241 -119.510771\n",
      "56450 1951-07-15 14:00:00                     spokane valley (otis orchards)             wa      us     sphere                       10800                       2-3 hours                   UFO over the Spokane Valley 1951        7/4/2012  47.6733333 -117.238333\n",
      "56451 1952-07-15 12:00:00                                         wilmington             ca      us       disk                         120                     1-2 minutes  Three flying saucers suddenly appeared  in the...       4/16/2005       33.78 -118.261667\n",
      "56452 1952-07-15 12:30:00                                            unknown             ca     NaN       disk                           2                         seconds  This movie was filmed in 1952&#44 a huge year ...        7/5/2013   33.460706 -117.606351\n",
      "56453 1952-07-15 13:00:00                                         litchfield             pa      us      other                         300                       5 minutes  We now cannot believe there was jets where we ...       2/14/2006     41.9675  -76.430556\n",
      "56454 1952-07-15 14:00:00                                         south gate             ca      us     circle                          60                        1 minute  I was about 11 years old at the time&#44 and a...       1/28/1999  33.9547222 -118.211111\n",
      "56455 1952-07-15 18:30:00                                         north bend             wa      us      other                         180                     2-3 minutes  old sighting (1952 0r &#3953) of daylight obje...       2/22/2005  47.4958333 -121.785556\n",
      "56456 1952-07-15 19:00:00                              new york city (bronx)             ny      us      other                         120                       2 minutes  My friends and I were sitting on the roof of a...       4/16/2005  40.7141667  -74.006389\n",
      "56457 1953-07-15 13:00:00                                          nashville             tn      us   cylinder                         300                  4 to 5 minutes     cylindrical object &quot;examining&quot; trees        9/2/2005  36.1658333  -86.784444\n",
      "56458 1954-07-15 11:00:00                                       philadelphia             pa      us       disk                        3600                          1 hour  I saw 2 alabaster white perfectly round object...       4/16/2005  39.9522222  -75.164167\n",
      "56459 1954-07-15 14:00:00            greenfield (rural area&#44 6 miles so.)             in      us      cigar                         300                           5 min  This all occured when I was still a child and ...       8/16/2002      39.785  -85.769444\n",
      "56460 1954-07-15 21:00:00                                        kansas city             ks      us    chevron                         180                       3 minutes  MISSOURI INVESTIGATORS GROUP Report:  Two brot...       6/12/2008  39.1141667  -94.627222\n",
      "56461 1954-07-15 21:00:00                                            oakdale             ny      us       disk                          45                      45 seconds  Three highly luminesce objects in a &quot;V&qu...       8/28/2002  40.7438889  -73.139167\n",
      "56462 1954-07-15 22:00:00                                     bridge hampton             ny     NaN      light                           1              less then 1 second  High speed object zig-zagging down at a 170 De...       5/27/2003   40.937878  -72.300916\n",
      "56463 1954-07-15 22:00:00                               new toronto (canada)             on      ca     circle                         600                      10 minutes  it was a white round object which was the same...       6/12/2002        43.6  -79.500000\n",
      "56464 1955-07-15 14:00:00                                      woodland park             co      us       oval                          15                      10-15 sec.                           Orange disk in night sky      10/31/2003  38.9938889 -105.056389\n",
      "56465 1956-07-15 00:00:00             yellowstone park (near south entrance)             wy     NaN       disk                          60                          60 sec  Three year old boy witnesses from back the sea...       1/28/1999   44.427963 -110.588455\n",
      "56466 1956-07-15 05:00:00                                         sugarcreek             oh      us       disk                          30                      30 seconds  I drove right underneath it with my truck.  Th...       4/13/2010  40.5030556  -81.641111\n",
      "56467 1956-07-16 00:00:00                                       east hampton             ct      us       disk                         120                       2 minutes  Saucers over Lake Pocotopaug&#44 Ct. _ Summer ...      10/30/2006  41.5758333  -72.503056\n",
      "56468 1957-07-15 12:00:00                                        temple city             ca      us      light                         900                          15 min  Lights over Mt Baldy California 1957 as seen b...       8/16/2002  34.1072222 -118.056944\n",
      "56469 1957-07-15 13:00:00                                            houston             tx      us    diamond                         120                           2 min     broad daylight  incident in Houston about 1957       6/18/2004  29.7630556  -95.363056\n",
      "56470 1957-07-15 14:00:00                                       williamsport             pa      us      cigar                         120                       2 minutes  A small&#44 cigar-shaped object entered my fie...       4/15/2000  41.2411111  -77.001389\n",
      "56471 1957-07-15 15:00:00                                         long beach             ca      us       disk                         120                       2 minutes  Three disks stationary in a triangle formation...        7/4/2012  33.7669444 -118.188333\n",
      "56472 1957-07-15 22:00:00                                             denver             co      us      light                         900                      15 minutes  A supposed star&#44 at a time before there wer...       8/14/2007  39.7391667 -104.984167\n",
      "56473 1957-07-15 22:00:00                                        kresgeville             pa      us        NaN                        1200                      20 minutes  As a child&#44 I watched a &quot;star&quot; mo...       12/9/2000  40.8969444  -75.503333\n",
      "56474 1957-07-15 22:00:00                                    salt  lake city             ut      us       disk                         900                          15 min  5 Silver Saucers flying from over the Salt Lak...       4/30/2004  40.7608333 -111.890278\n",
      "56475 1957-07-15 23:30:00                                        kansas city             mo      us      light                       10800                        3hrs +/-  car ingulfed in red light&#44 missing time&#44...       8/10/1999  39.0997222  -94.578333\n",
      "56476 1958-07-15 17:30:00                                             novato             ca      us       disk                          90                       1min30sec  saw saucer in large grass field it took off st...       1/28/1999     38.1075 -122.568611\n",
      "56477 1959-07-15 12:00:00                     nort sutton (resort area near)             nh     NaN    unknown                          15                      15 seconds  North Sutton&#44 New hampshire July 15&#44 195...       3/19/2009   43.363889  -71.939444\n",
      "56478 1959-07-15 23:00:00                                         new albany             in      us      cigar                         300                       5 minutes             Cigar shaped object hovered in the sky       6/23/2004  38.2855556  -85.824167\n",
      "56479 1960-07-15 01:00:00                                           la verne             ca      us     circle                        1800                          30 min  July 1960&#44 Pomona Ca&#44  two yellowish ora...      12/12/2011  34.1008333 -117.766944\n",
      "56480 1960-07-15 10:00:00                              pacific coast highway             ca     NaN    unknown                           7                         ~7 sec.  A bright dot high over the U.S. Pacific coast ...       10/8/2007   34.320096 -119.381794\n",
      "56481 1960-07-15 16:00:00                                          goldsboro             nc      us     sphere                         120                       2 minutes  craft seen near Seymore-Johnson AFB&#44 N.C.&#...      10/12/2001  35.3847222  -77.993056\n",
      "56482 1960-07-15 21:00:00                                           amarillo             tx      us    diamond                        3600                        1 hour +                           Texas Panhandle UFO&#39s      11/20/2001  35.2219444 -101.830833\n",
      "57268 1959-07-16 18:00:00                                          worcester             ma      us      other                         180                       3 minutes  strange object sighted over worcester&#44ma ju...        6/4/2004     42.2625  -71.802778\n",
      "57482 1953-07-17 22:00:00                                             dublin             in      us       cone                        1800                      30 minutes  My brothers farmed after dark&#44 they told my...        7/4/2012  39.8122222  -85.208889\n",
      "57483 1960-07-17 22:00:00                                   bedford (canada)             on      ca       disk                          30                   20-30 seconds  Iridescent blue light passes over farmer at tr...       6/12/2008   45.116667  -72.983333\n",
      "57973 1959-07-19 01:00:00                                              salem             oh      us       disk                         180                            hour  1959 Saucers-huge- pattern of four shifting hi...       4/16/2005  40.9008333  -80.856944\n",
      "58164 1950-07-20 21:30:00                                          smithport             pa      us       disk                         120                         two min  This huge craft came over the hill from Crosbe...      12/12/2011  40.8358333  -78.876667\n",
      "58165 1958-07-20 21:30:00                                       rock springs             wy      us       disk                          60                           1 min  Friend &amp; I retuned home from movie. We liv...        4/2/1999     41.5875 -109.202222\n",
      "58724 1950-07-02 13:00:00                                   coeur d&#39alene             id      us      cigar                          10                      10 seconds  Bright Orange&#44 Cigar-Shapped Object Travell...       8/12/2008  47.6777778 -116.779444\n",
      "58725 1950-07-02 21:00:00                                      bay st. louis             ms     NaN      light                      181800                     5 1/2 hours  It was the July 4th weekend&#44 Bay St Louis M...        3/2/2004   30.308808  -89.330046\n",
      "58930 1952-07-22 09:30:00                                            okolona             ms      us       oval                         300                          5 min.  Oval UFO paces occupants in automobile for 5 m...       7/23/2000  34.0016667  -88.755278\n",
      "58931 1959-07-22 14:30:00                                          allendale             ky      us      light                         300                       5 minutes  07/22/1958    Allendale     Ky         Light i...      10/11/2005  37.3711111  -85.583056\n",
      "59561 1952-07-25 16:00:00                                             tacoma             wa      us     sphere                          30                      30 seconds  Six spheres flying in formation close to an Ai...        3/2/2004  47.2530556 -122.443056\n",
      "60517 1960-07-29 19:30:00                              melbourne (australia)            NaN      au   triangle                         180                           3 min  1960 @ 30DEG ABOVE HORIZON 3 TRIANGULAR OBJECT...      12/12/2011  -37.813938  144.963425\n",
      "60724 1952-07-30 15:00:00                                           manville             ri      us     sphere                          10                      10 seconds  Group of lights moving across sky during dayli...       6/12/2008  41.9697222  -71.474167\n",
      "60725 1958-07-30 22:00:00                                       randallstown             md      us   triangle                         240                      4  minutes  Two triangular slow&#44silent lowflying object...       4/16/2005  39.3672222  -76.795556\n",
      "61196 1951-07-03 12:00:00                                        green river             wy      us     sphere                         420                      5 to 7 min  Glowing white spherical large craft (50 to 100...      10/15/2002  41.5286111 -109.465556\n",
      "61553 1953-07-04 14:00:00                                            unknown             mt     NaN       disk                         600                      10 minutes  Video of Blue Angles airshow from 1953 shows t...       7/23/2003   44.762609 -109.028474\n",
      "61554 1953-07-04 21:00:00                                           ogallala             ne      us      other                        2700                   30-45 minutes  Bright white light with no sound&#44 hovering&...      12/12/2009  41.1280556 -101.719167\n",
      "61555 1959-07-04 20:00:00            gardner lake (extreme northeastern  us)             me     NaN       oval                         900                         15 min.  Craft desending &#44from high rate of speed to...       9/12/1999   44.775237  -67.361025\n",
      "61556 1960-07-04 21:30:00                                         new berlin             wi      us     circle                         300                       5 minutes  Large&#44 slow moving craft&#44 above the clou...       4/27/2004  42.9763889  -88.108333\n",
      "62762 1952-07-05 16:00:00                                             tacoma             wa      us     sphere                         120                       2 minutes  6 spheres flying in formation over military ba...        3/2/2004  47.2530556 -122.443056\n",
      "63341 1952-07-07 10:00:00                                          evergreen             co      us     circle                       14400                         4 hours     abducted&#44 and a lifetime of ufo experiences        3/2/2004  39.6333333 -105.316667\n",
      "63342 1952-07-07 13:00:00                                          arlington             tx      us       disk                         900                      15 minutes                        Daylight sighting of a Disk      11/26/2003  32.7355556  -97.107778\n",
      "63343 1954-07-07 20:00:00                                       walnut creek             ca      us    unknown                         300                       5 minutes  I have not reported this before. I feel it sho...       9/29/2004  37.9063889 -122.063889\n",
      "63344 1954-07-07 22:00:00                                      west columbia             sc      us  formation                         600                    abt. 10 min.  3circles together&#44 very bright lighting aro...        3/4/2003  34.0005556  -81.035000\n",
      "63345 1955-07-07 14:00:00                                 uk/england (rural)            NaN     NaN       disk                         600                      10 minutes  1955+/-&#44 multiple identical circular saucer...        2/1/2007   52.355518   -1.174320\n",
      "63346 1959-07-07 23:00:00                                         long beach             ca      us      light                          45                      45 seconds  As a young man&#44 I would lay out in the yard...       4/26/2000  33.7669444 -118.188333\n",
      "63347 1960-07-07 22:00:00                            springdale/fayetteville             ar     NaN  formation                         600                      10 minutes  Concerning a formation of lights over Springda...       4/26/2000   36.138221  -94.139650\n",
      "64108 1951-08-10 01:00:00                                  sunland / tujunga             ca     NaN     circle                           4                       4 seconds  Vehicle was observed in frontial&#44 overhead ...        9/2/2005   34.259648 -118.308275\n",
      "64109 1958-08-10 21:30:00                                           bellevue             wa      us      light                        1200                      20 minutes  At dusk&#44 a light appeared out of the  SE sk...      11/19/2012  47.6105556 -122.199444\n",
      "64110 1959-08-10 01:30:00                                             reseda             ca      us       disk                         600                      10 minutes  The saucer was roof high and I observed it ver...       4/18/2012  34.2011111 -118.535556\n",
      "64111 1960-08-10 01:00:00                                            belmont             ny      us     circle                        1200                   15-20 minutes  a bright light followed a slow zigzag path fro...        6/9/2009  42.2230556  -78.034722\n",
      "64112 1960-08-10 18:00:00                                           watchung             nj      us      cigar                          20                      20 seconds  Cigar shaped object&#44 reddish brown that hum...       9/15/2005  40.6377778  -74.451389\n",
      "64740 1950-08-01 04:00:00                                         louisville             ky      us      other                          60                        1 minute  In 1953&#44 at the age of 3 years old I was Co...      10/19/2011  38.2541667  -85.759444\n",
      "64741 1952-08-01 21:30:00                                              tampa             fl      us       oval                        9000                  2 hrs. 30 min.  Triangulation radar fix (USAF&#44 civil&#44 Na...       12/2/2000  27.9472222  -82.458611\n",
      "64742 1953-08-01 12:00:00                                           berkeley             mo      us   fireball                         300                       5 minutes    Early 50&#39s sighting in Berkeley&#44 Missouri       1/22/2004  38.7544444  -90.331111\n",
      "64743 1954-08-01 12:00:00                                        farmingdale             ny      us       oval                        1800                         30+min.  Sphere  -30 min. - Stationary&#44 bright objec...       9/24/2003     40.7325  -73.445833\n",
      "64744 1954-08-01 17:00:00                                               dyer             in      us   triangle                          15                   15 seconds+++  I saw a silent exhaustless golden glowing slow...        6/4/2004  41.4941667  -87.521667\n",
      "64745 1954-08-01 21:00:00                                             canton             pa      us       disk                          30                      30 seconds  Large&#44 silver-blue disc shaped oject which ...       4/16/2005  41.6563889  -76.853611\n",
      "64746 1954-08-01 22:00:00                                    north hollywood             ca      us      light                        1800                          30 min  Star like point of light slowly travelling acr...        2/3/2012  34.1722222 -118.378056\n",
      "64747 1956-08-01 00:00:00                                           bradford             al      us     sphere                          20                      20 seconds  moving sparkling white/ yellowish/orange/flat ...      10/10/2011  32.9947222  -86.085000\n",
      "64748 1956-08-01 20:00:00                                            harvard             ma      us    unknown                           3                     2-3 seconds                                         Lost time.        9/9/2013        42.5  -71.583333\n",
      "64749 1957-08-01 12:00:00                                               arco             id      us       disk                         180                      three min.  A surveying crew of five disturbed a landed cr...       4/13/2010  43.6366667 -113.299444\n",
      "64750 1958-08-01 19:00:00                                  derby (new haven)             ct      us       disk                         900                    10 - 15 min.  Occurred during early evening hours.  LARGE UF...       9/12/1999  41.3205556  -73.089444\n",
      "64751 1959-08-01 18:00:00                                             golden             tx      us       disk                           3                       3 seconds  children see flying saucer in small East Texas...       5/15/2006  32.7294444  -95.562778\n",
      "64752 1960-08-01 12:00:00                                          allentown             pa      us   cylinder                        3600                          1 hour  Historical color video of major USA event show...       7/23/2003  40.6083333  -75.490556\n",
      "64753 1960-08-01 15:00:00                                          taftville             ct      us       disk                          60                           1 min  Saw a white saucer-shaped object hovering over...        4/9/2004  41.5697222  -72.047778\n",
      "64754 1960-08-01 18:00:00                                             boston             ma      us       disk                        1800                      30 minutes            Observed strange large disk like craft.       5/15/2006  42.3583333  -71.060278\n",
      "64755 1960-08-01 18:00:00                                           carteret             nj      us      cigar                         600                      10 minutes  Cigar shapped object made no sounds&#44 moved ...      10/30/2006  40.5772222  -74.228611\n",
      "65599 1959-08-13 21:00:00                                               troy             ny      us    unknown                         900                      15 minutes  Single star like light zigging and zagging in ...       3/10/2011     42.7283  -73.692222\n",
      "65600 1959-08-13 22:30:00                                             jewett             ny      us      light                        1200                      20 minutes  Tumbling zig zag pattern of a shooting &quot;s...      12/12/2011     42.2703  -74.303333\n",
      "65870 1957-08-14 16:00:00                                        ticonderoga             ny      us       disk                          15                      15 seconds                                    UFO buzzed B-47      10/19/1999     43.8486  -73.423889\n",
      "65871 1957-08-14 21:00:00            california (above&#44 northern part of)             ca     NaN   fireball                           5                       5 seconds                        Red Fireball Over Califonia       1/17/2004     36.7783 -119.417932\n",
      "66139 1950-08-15 14:00:00                                          stanfield             or      us       disk                         180                   2 - 3 minutes  In 1950&#44 Eastern Oregon&#44 I saw one silve...      10/31/2008     45.7806 -119.216111\n",
      "66140 1951-08-15 13:00:00                                            altoona             pa      us       disk                        1200                       20 min. ?  This a was metalic disk object that wobbled. T...        9/2/2005     40.5186  -78.395000\n",
      "66141 1952-08-15 17:00:00                               smithson&#39s valley             tx     NaN      cigar                        1800                   20-30 minutes  2&#44500 long cigar shaped object hovered over...      10/31/2003     29.7755  -98.373667\n",
      "66142 1952-08-15 17:30:00                                      prairie grove             ar      us       disk                          20                            0:20  Two observers saw silverish 30 foot disk maneu...       6/21/2000     35.9758  -94.317500\n",
      "66143 1952-08-15 22:15:00                                           hamilton             oh      us      light                         480                          8 min.               Silent bright light passes overhead.       1/17/2004     39.3994  -84.561389\n",
      "66144 1953-08-15 11:00:00                                         louisville             ky      us     circle                          10                     6 to 10 sec                                   I heard Them&#33       4/16/2005     38.2542  -85.759444\n",
      "66145 1953-08-15 21:00:00                                   bowleys quarters             md      us     sphere                         240                         3-4 min  The speed of these speres were unbelievable th...       2/22/2005     39.3353  -76.390556\n",
      "66146 1954-08-15 21:00:00                                           puyallup             wa      us       oval                           2                   a few seconds  The object was hovering above the treetops ove...       4/16/2005     47.1856 -122.291667\n",
      "66147 1955-08-15 00:01:00                                         eagle pass             tx      us      cigar                         600                      10 minutes  Mr. Martin in 1955 has encounter with cigar sh...       12/2/2000     28.7089 -100.499167\n",
      "66148 1957-08-15 01:00:00                                           longview             wa      us   triangle                           3                       3 seconds  My uncle and I were standing outside on a warm...       6/18/2004     46.1383 -122.936944\n",
      "66149 1957-08-15 01:00:00                                             ludlow             ma      us      cigar                         300                   5 minutes max  Black silhouetted object against glow of dista...        4/2/1999       42.16  -72.476389\n",
      "66150 1957-08-15 21:00:00                                             exeter             nh      us       disk                         180                       3 minutes              UFO Incident Exeter Newhampshire 1957      10/28/2002     42.9814  -70.948333\n",
      "66151 1958-08-15 14:00:00                                             monroe             ga      us       oval                         120                       2 minutes   OVAL SHAPE SEEN IN OR AROUN 08/1958 IN MONROE GA        8/5/2012     33.7947  -83.713333\n",
      "66152 1959-08-15 15:00:00                                            roswell             nm      us    unknown                        2700                         45 min.  The experience left everyone in a quandry&#44 ...       12/7/2006     33.3942 -104.522500\n",
      "66153 1959-08-15 21:00:00                                             mohave             ca     NaN      light                         120                       2 minutes      Lites over head cut car lights and motor off.       5/11/2005     35.0525 -118.173965\n",
      "66154 1960-08-15 15:00:00                                             saugus             ma      us     circle                         300                           5 min  at ten years of age we looked at each other an...       2/18/2001     42.4647  -71.010556\n",
      "66155 1960-08-15 16:00:00                                         framingham             ma      us       oval                        1200                          20 min                The UFO over WKOX Framingham &#44MA      12/14/2006     42.2792  -71.416667\n",
      "66877 1957-08-16 21:30:00                                   smith&#39s ferry             id     NaN       disk                         600                      10 minutes  When a disk UFO passes within a few feet of th...        6/3/2010     44.3065 -116.081001\n",
      "67108 1955-08-17 21:00:00                                             covina             ca      us       disk                         600                      10 minutes  It was about 1500 ft up. It just stayed there ...       9/29/2004       34.09 -117.889444\n",
      "67109 1957-08-17 23:00:00                                         huntington             in      us   triangle                        3600                          1 hour  Directly over head at tree level a Massive&#44...       3/19/2009     40.8831  -85.497500\n",
      "67110 1960-08-17 21:10:00                       long beach (terminal island)             ca      us      other                           5                     4-5 seconds  9/17/1960 -21:10 hours-Terminal Island&#44 Cal...       3/31/2008     33.7669 -118.188333\n",
      "67871 1960-08-20 21:30:00                                         pittsburgh             pa      us     sphere                         300                     about 5min.  A white sphere 5-7 ft. in diameter was viewed ...        5/9/2003     40.4406  -79.996111\n",
      "69177 1954-08-24 05:00:00                                    parent (canada)             qc      ca      other                         240                     3-4 minutes  Capsule shaped copper coloured object hung mot...      11/21/2010     47.9167  -74.616667\n",
      "69704 1954-08-26 16:00:00                    ferndown-bournemouth (uk/wales)            NaN     NaN       disk                         300                       5 minutes  U F O Hovering over Ferndown in Bournemouth 19...       9/24/2012     50.8201   -1.878766\n",
      "70126 1960-08-28 21:00:00                                          dickinson             nd      us     circle                         120                           2 min  There was no sound no air movement and it move...       3/21/2003     46.8792 -102.789167\n",
      "71050 1957-08-03 20:00:00                                           vandalia             oh      us       disk                         300                          5-min.  Disk with light spining through it&#39s center...       1/17/2004     39.8906  -84.198889\n",
      "71288 1957-08-04 02:00:00                           bainbridge/ port deposit             md     NaN   fireball                          22                           22sec  Midwatch spots Fireball headed directly toward...       10/8/2007      39.629  -76.078383\n",
      "71767 1955-08-06 19:00:00                                     newtown square             pa      us     circle                           4                       4 seconds  A round object going from bottom to top of moo...      12/12/2011     39.9867  -75.401389\n",
      "71768 1959-08-06 20:30:00                               mexico city (mexico)            NaN     NaN  formation                          60                           1 min  Direction: West to East Seven lights type foo ...       1/21/2008     19.4326  -99.133208\n",
      "72004 1953-08-07 21:00:00                                            vallejo             ca      us      light                        3600                          60 min       At first we thought they were shooting stars        4/1/2001     38.1042 -122.255556\n",
      "72005 1957-08-07 01:00:00                                       indianapolis             in      us      light                        3600                          1 hour                        Flashing light over Indiana      11/21/2010     39.7683  -86.158056\n",
      "72267 1955-08-08 01:00:00                                       independence             mo      us   fireball                         300                    several hrs.  Flaming ball of light making right angle turns...       5/15/2006     39.0911  -94.415278\n",
      "72268 1958-08-08 15:00:00                                        scarborough             me      us       disk                         600                      10 minutes  I was a young girl around 1958 when I saw a sa...       4/16/2005     43.5781  -70.322222\n",
      "72548 1957-08-09 00:30:00                    san diego (north of&#44 at sea)             ca      us       disk                         900                      15 minutes  At least a hundred miles out to sea&#44 a long...       8/11/2004     32.7153 -117.156389\n",
      "72743 1957-09-10 19:15:00                                           st. paul             mn      us       disk                         300                    five minutes  3 UFO&#39s saucer-shaped with flashing lights ...       4/16/2005     44.9444  -93.093056\n",
      "72744 1960-09-10 10:00:00                                            wichita             ks      us       oval                        1200                         20 min.  MADE  ONY  A  HUMMING SOUND EVEN WHEN  IT TOOK...       7/25/2004     37.6922  -97.337222\n",
      "73293 1954-09-01 13:00:00                                             geneva             ny      us       disk                         120               couple of minutes  While marching on a bivouac maneuver in (?) Se...      10/15/2003     42.8689  -76.978056\n",
      "73294 1957-09-01 16:00:00                                             graham             tx      us     sphere                          30                          30 sec              Three shiny spheres over Graham Texas       1/10/2009     33.1069  -98.589167\n",
      "73295 1957-09-01 23:00:00                                        brecksville             oh      us     circle                         180                       3 minutes  20 ft in diameter glowing ufo landed a few fee...        2/1/2007     41.3197  -81.626944\n",
      "73296 1958-09-01 20:00:00                                              fargo             nd      us       disk                         900                          15 min   Flying Saucer seen while driving home from work.       5/27/2003     46.8772  -96.789444\n",
      "74266 1958-09-14 19:30:00                                            ashland             ky      us     circle                          45                      45 seconds  Near observations of a slow moving silent obje...       2/14/2008     38.4783  -82.638056\n",
      "74517 1952-09-15 14:00:00                                       norridgewock             me      us       disk                         300                     4-5 minutes  SUNNY DAY&#44 WITHIN 450 FEET&#44 LOW...REPORT...       12/2/2000     44.7131  -69.791111\n",
      "74518 1954-09-15 09:30:00                                    palmer township             pa     NaN      other                         600                    9-10 minutes  Saturn-shaped object appearing over the Pennsy...      11/28/2007     40.7168  -75.249344\n",
      "74519 1956-09-15 20:00:00                                       middle river             md      us     circle                          60                           1 min  three round blue-white disks in V formation mo...      12/16/2005     39.3342  -76.439722\n",
      "74520 1957-09-15 04:00:00                                            el paso             tx      us       disk                         600                          10 min                             Undified Flying Object       2/14/2008     31.7586 -106.486389\n",
      "74521 1957-09-15 21:30:00                                       lake jackson             tx      us   fireball                          13                          13 sec                    fireball seen on country  road.       1/10/2009     29.0336  -95.434167\n",
      "74522 1957-09-15 23:00:00                                             tacoma             wa      us       disk                          20                      20 seconds  a large disk spacecraft the size of a Boeing 7...        3/2/2004     47.2531 -122.443056\n",
      "74523 1959-09-15 01:00:00                                          goldfield             nv      us      light                          60                        1 minute  The object hovered over the pick-up&#44 and ra...       4/16/2005     37.7086 -117.234722\n",
      "74524 1959-09-15 11:30:00                                             dayton             oh      us       disk                         900                         15 mini  formation of 6 saucers moving from Wright Pate...        2/8/2005     39.7589  -84.191667\n",
      "74525 1959-09-16 00:00:00                                             fallon             nv      us       oval                        7200                         2 hours  I was an Air Force radar operator at Fallon Na...      10/28/2002     39.4736 -118.776389\n",
      "74526 1960-09-15 19:00:00                                          kingsport             tn      us     circle                         300                       5 minutes  An orange&#44 circular craft drifted over the ...       1/28/1999     36.5483  -82.561944\n",
      "74527 1960-09-15 20:30:00                                            seattle             wa      us       disk                         120    2 min. for me&#44 longer for  Triple disc sighting prior to dusk with a ligh...       4/27/2004     47.6064 -122.330833\n",
      "74528 1960-09-15 21:00:00                                         susanville             ca      us        NaN                         360                     5-6 minutes  Three craft in formation&#44 high altitude&#44...       4/27/2004     40.4164 -120.651944\n",
      "74529 1960-09-15 21:30:00                                  barrhead (canada)             ab      ca      other                        1200                      20 minutes  HBCCUFO CANADIAN REPORT:  Daddy&#44 there is a...       8/28/2003     54.1167 -114.400000\n",
      "75992 1956-09-20 16:00:00                                               hope             ar      us     circle                        1200                      20 minutes  Sitting on a pond bank on sunny afternoon when...       4/16/2005     33.6669  -93.591389\n",
      "75993 1957-09-20 00:00:00                                       hopkinsville             ky      us      cigar                         600                      10 minutes  4 matalic silver cigar shaped objects; no soun...       8/28/2003     36.8656  -87.488611\n",
      "75994 1958-09-20 22:20:00  davis jct. (on highway72 east to highway 51 no...             il     NaN   fireball                         300                            5min  red light with A GLOW AROUND IT DRIVING TO WOR...        4/2/1999     42.1017  -89.093157\n",
      "76277 1956-09-22 00:00:00                                          greenwich             ct      us      light                        1290                           21:30                 Strange movements amoung the stars       8/12/2008     41.0264  -73.628889\n",
      "79261 1957-09-05 17:30:00                                los gatos (west of)             ca      us       disk                          60              one minute or less  3 craft seen in day light&#44 very low altitud...      10/30/2006     37.2267 -121.973611\n",
      "79262 1960-09-05 21:00:00                                            buffalo             ny      us       oval                         180                       3 minutes  Precise movements of a &quot;craft&quot; appar...       9/15/2005     42.8864  -78.878611\n",
      "79668 1958-09-07 19:00:00                                             arthur             nd      us    unknown                         900                       5-15 min.  Two lights of alternating color traveling and ...      10/31/2003     47.1042  -97.217778\n",
      "80101 1952-09-09 20:00:00                                       philadelphia             pa      us     circle                         180                       3 minutes                   saucers in a line over Phila Pa.      12/12/2009     39.9522  -75.164167\n",
      "80102 1954-09-09 12:30:00                                           beaumont             tx      us       disk                         300                       5 minutes  Aprox. 30 Disk shaped UFOs fell out of clouds ...       1/17/2004     30.0858  -94.101667\n",
      "80103 1956-09-09 05:55:00                                            norfolk             va      us      cigar                          90                     1.5 minutes  Unidentified Object Hovering over Interstate 2...       2/24/2007     36.8467  -76.285556\n"
     ]
    }
   ],
   "source": [
    "#Q131.      Write a pandas program to get all sighting days of the unidentified flying object \n",
    "#           (ufo) between 1950-10-10 and 1960-10- 10.\n",
    "\n",
    "print(\"\\nSighting days of the unidentified flying object (ufo) between 1949-10-10 and 1960-10-10:\")\n",
    "selected_period = df[(df['Date_time'] >= '1950-01-01 00:00:00') & (df['Date_time'] <= '1960-12-31 23:59:59')]\n",
    "print(selected_period)\n"
   ]
  },
  {
   "cell_type": "code",
   "execution_count": 150,
   "metadata": {},
   "outputs": [
    {
     "name": "stdout",
     "output_type": "stream",
     "text": [
      "Manipulated Data :\n",
      "       year month day hour minute  seconds weekday\n",
      "0      1949    10  10   20     30        0  Monday\n",
      "1      1949    10  10   21     00        0  Monday\n",
      "2      1955    10  10   17     00        0  Monday\n",
      "3      1956    10  10   21     00        0  Wedday\n",
      "4      1960    10  10   20     00        0  Monday\n",
      "...     ...   ...  ..  ...    ...      ...     ...\n",
      "80327  2013     9   9   21     15        0  Monday\n",
      "80328  2013     9   9   22     00        0  Monday\n",
      "80329  2013     9   9   22     00        0  Monday\n",
      "80330  2013     9   9   22     20        0  Monday\n",
      "80331  2013     9   9   23     00        0  Monday\n",
      "\n",
      "[80332 rows x 7 columns]\n"
     ]
    }
   ],
   "source": [
    "#Q132.      Write a Pandas program to extract the year, month, day, hour, minute, second, and weekday \n",
    "#           from unidentified flying object (UFO) reporting date.\n",
    "\n",
    "def get_week_day(n):\n",
    "    if n==0:\n",
    "        return 'Monday'\n",
    "    elif n==1:\n",
    "        return 'Tuesday'\n",
    "    elif n==2:\n",
    "        return 'Wedday'\n",
    "    elif n==3:\n",
    "        return 'Thursday'\n",
    "    elif n==4:\n",
    "        return 'Friday'\n",
    "    elif n==5:\n",
    "        return 'Satday'\n",
    "    else :\n",
    "        return 'Sunday'\n",
    "    \n",
    "df = pd.read_csv('ufo_data.csv')\n",
    "print(\"Manipulated Data :\")\n",
    "df[['Date','Time']] = df['Date_time'].str.split(expand=True)\n",
    "df[['month','day','year']] = df['Date'].str.split('/',expand=True)\n",
    "df[['hour','minute']] = df['Time'].str.split(':',expand=True)\n",
    "df['weekday'] = pd.to_datetime(df['Date'], format='%m/%d/%Y')\n",
    "df['weekday'] = df['weekday'].dt.dayofweek \n",
    "df['weekday'] = pd.Series(map(get_week_day,df['weekday']))\n",
    "df['seconds'] = 0\n",
    "print(df[['year','month','day','hour','minute','seconds','weekday']])\n"
   ]
  },
  {
   "cell_type": "code",
   "execution_count": 151,
   "metadata": {},
   "outputs": [
    {
     "name": "stdout",
     "output_type": "stream",
     "text": [
      "\n",
      "Country-year wise frequency of reporting dates of UFO:\n",
      "year  country\n",
      "1910  us            2\n",
      "1920  us            1\n",
      "1925  us            1\n",
      "1929  us            1\n",
      "1931  us            2\n",
      "1934  us            1\n",
      "1936  ca            1\n",
      "      us            1\n",
      "1937  us            2\n",
      "1939  us            3\n",
      "1941  us            1\n",
      "1942  us            2\n",
      "1943  gb            1\n",
      "      us            1\n",
      "1944  us            3\n",
      "1945  us            7\n",
      "1946  ca            1\n",
      "      us            8\n",
      "1947  us           33\n",
      "1948  us            7\n",
      "1949  us           15\n",
      "1950  us           21\n",
      "1951  ca            2\n",
      "      gb            1\n",
      "      us           13\n",
      "1952  ca            2\n",
      "      gb            1\n",
      "      us           37\n",
      "1953  ca            2\n",
      "      us           26\n",
      "1954  ca            2\n",
      "      us           38\n",
      "1955  ca            1\n",
      "      gb            2\n",
      "      us           25\n",
      "1956  us           39\n",
      "1957  gb            1\n",
      "      us           62\n",
      "1958  au            1\n",
      "      ca            1\n",
      "      us           42\n",
      "1959  us           43\n",
      "1960  au            1\n",
      "      ca            5\n",
      "      gb            1\n",
      "      us           51\n",
      "1961  ca            2\n",
      "      us           41\n",
      "1962  ca            2\n",
      "      de            1\n",
      "      gb            1\n",
      "      us           56\n",
      "1963  ca            3\n",
      "      gb            1\n",
      "      us           68\n",
      "1964  ca            1\n",
      "      us           78\n",
      "1965  ca            2\n",
      "      gb            2\n",
      "      us          164\n",
      "1966  ca            7\n",
      "      gb            2\n",
      "      us          160\n",
      "1967  au            1\n",
      "      ca            2\n",
      "      gb            4\n",
      "      us          147\n",
      "1968  au            1\n",
      "      ca            4\n",
      "      de            2\n",
      "      gb            1\n",
      "      us          175\n",
      "1969  ca            9\n",
      "      de            2\n",
      "      gb            1\n",
      "      us          120\n",
      "1970  ca            9\n",
      "      de            1\n",
      "      gb            5\n",
      "      us          109\n",
      "1971  ca            5\n",
      "      de            1\n",
      "      gb            2\n",
      "      us           97\n",
      "1972  au            3\n",
      "      ca            8\n",
      "      gb            6\n",
      "      us          119\n",
      "1973  ca            8\n",
      "      de            1\n",
      "      us          188\n",
      "1974  au            2\n",
      "      ca            7\n",
      "      de            1\n",
      "      gb            5\n",
      "      us          219\n",
      "1975  au            4\n",
      "      ca           10\n",
      "      de            1\n",
      "      gb            4\n",
      "      us          247\n",
      "1976  au            3\n",
      "      ca            4\n",
      "      gb            9\n",
      "      us          222\n",
      "1977  au            1\n",
      "      ca           12\n",
      "      gb            4\n",
      "      us          206\n",
      "1978  au            2\n",
      "      ca           11\n",
      "      gb            7\n",
      "      us          258\n",
      "1979  au            1\n",
      "      ca            6\n",
      "      de            1\n",
      "      gb            7\n",
      "      us          191\n",
      "1980  au            2\n",
      "      ca            6\n",
      "      gb           10\n",
      "      us          194\n",
      "1981  au            1\n",
      "      ca            4\n",
      "      de            1\n",
      "      gb            2\n",
      "      us          133\n",
      "1982  au            2\n",
      "      ca            6\n",
      "      gb            3\n",
      "      us          134\n",
      "1983  au            3\n",
      "      ca            4\n",
      "      gb            4\n",
      "      us          122\n",
      "1984  au            1\n",
      "      ca            8\n",
      "      gb            4\n",
      "      us          144\n",
      "1985  ca            9\n",
      "      gb            2\n",
      "      us          171\n",
      "1986  au            3\n",
      "      ca            3\n",
      "      gb            6\n",
      "      us          153\n",
      "1987  au            3\n",
      "      ca           11\n",
      "      de            2\n",
      "      gb            7\n",
      "      us          176\n",
      "1988  au            4\n",
      "      ca            9\n",
      "      gb            3\n",
      "      us          188\n",
      "1989  ca            6\n",
      "      gb            4\n",
      "      us          200\n",
      "1990  au            3\n",
      "      ca           14\n",
      "      de            2\n",
      "      gb            4\n",
      "      us          191\n",
      "1991  au            2\n",
      "      ca            8\n",
      "      de            1\n",
      "      gb            1\n",
      "      us          180\n",
      "1992  au            5\n",
      "      ca           10\n",
      "      de            1\n",
      "      gb            6\n",
      "      us          183\n",
      "1993  au            2\n",
      "      ca           11\n",
      "      gb           15\n",
      "      us          228\n",
      "1994  au            1\n",
      "      ca           17\n",
      "      de            1\n",
      "      gb            4\n",
      "      us          324\n",
      "1995  au            3\n",
      "      ca           18\n",
      "      de            1\n",
      "      gb           14\n",
      "      us          915\n",
      "1996  au            8\n",
      "      ca           29\n",
      "      de            2\n",
      "      gb           24\n",
      "      us          646\n",
      "1997  au            9\n",
      "      ca           40\n",
      "      de            1\n",
      "      gb           32\n",
      "      us         1009\n",
      "1998  au           12\n",
      "      ca           61\n",
      "      de            1\n",
      "      gb           30\n",
      "      us         1404\n",
      "1999  au           19\n",
      "      ca           96\n",
      "      de            1\n",
      "      gb           34\n",
      "      us         2253\n",
      "2000  au           22\n",
      "      ca          102\n",
      "      de            3\n",
      "      gb           78\n",
      "      us         2184\n",
      "2001  au           36\n",
      "      ca          136\n",
      "      de            3\n",
      "      gb          117\n",
      "      us         2445\n",
      "2002  au           47\n",
      "      ca          166\n",
      "      de            3\n",
      "      gb          130\n",
      "      us         2439\n",
      "2003  au           50\n",
      "      ca          294\n",
      "      de            7\n",
      "      gb          130\n",
      "      us         2958\n",
      "2004  au           43\n",
      "      ca          265\n",
      "      de            5\n",
      "      gb          110\n",
      "      us         3244\n",
      "2005  au           48\n",
      "      ca          183\n",
      "      de            3\n",
      "      gb          116\n",
      "      us         3228\n",
      "2006  au           37\n",
      "      ca          143\n",
      "      de            4\n",
      "      gb          163\n",
      "      us         2884\n",
      "2007  au           27\n",
      "      ca          160\n",
      "      de            9\n",
      "      gb          125\n",
      "      us         3470\n",
      "2008  au           17\n",
      "      ca          119\n",
      "      de           15\n",
      "      gb          140\n",
      "      us         4017\n",
      "2009  au           14\n",
      "      ca          134\n",
      "      de            6\n",
      "      gb          202\n",
      "      us         3677\n",
      "2010  au           16\n",
      "      ca          137\n",
      "      de            4\n",
      "      gb          115\n",
      "      us         3548\n",
      "2011  au           13\n",
      "      ca          127\n",
      "      de            3\n",
      "      gb           51\n",
      "      us         4379\n",
      "2012  au           19\n",
      "      ca          242\n",
      "      de            6\n",
      "      gb           82\n",
      "      us         6320\n",
      "2013  au           32\n",
      "      ca          248\n",
      "      de            6\n",
      "      gb           48\n",
      "      us         6056\n",
      "2014  au           14\n",
      "      ca           45\n",
      "      de            3\n",
      "      gb           21\n",
      "      us         1964\n",
      "dtype: int64\n"
     ]
    }
   ],
   "source": [
    "#Q133.      Write a pandas program to count year-country wise frequency of reporting dates of the\n",
    "#           unidentified flying object(UFO).\n",
    "\n",
    "result = df.groupby(['year', 'country']).size()\n",
    "print(\"\\nCountry-year wise frequency of reporting dates of UFO:\")\n",
    "print(result)\n"
   ]
  },
  {
   "cell_type": "code",
   "execution_count": 152,
   "metadata": {},
   "outputs": [
    {
     "name": "stdout",
     "output_type": "stream",
     "text": [
      "\n",
      "Difference (in days) between documented date and reporting date of UFO: \n",
      "\n",
      "\n",
      "              Date_time                  city country  Difference\n",
      "0      10/10/1949 20:30            san marcos      us       19923\n",
      "1      10/10/1949 21:00          lackland afb     NaN       20521\n",
      "2      10/10/1955 17:00  chester (uk/england)      gb       19096\n",
      "3      10/10/1956 21:00                  edna      us       17265\n",
      "4      10/10/1960 20:00               kaneohe      us       15809\n",
      "...                 ...                   ...     ...         ...\n",
      "80327    9/9/2013 21:15             nashville      us          21\n",
      "80328    9/9/2013 22:00                 boise      us          21\n",
      "80329    9/9/2013 22:00                  napa      us          21\n",
      "80330    9/9/2013 22:20                vienna      us          21\n",
      "80331    9/9/2013 23:00                edmond      us          21\n",
      "\n",
      "[80332 rows x 4 columns]\n"
     ]
    }
   ],
   "source": [
    "#Q134.      Write a pandas program to get the difference (in days) between documented date and \n",
    "#           reporting date of unidentified flying object (UFO).\n",
    "\n",
    "print(\"\\nDifference (in days) between documented date and reporting date of UFO: \\n\\n\")\n",
    "df['date_documented'] = df['date_documented'].astype('datetime64[ns]')\n",
    "df['Date'] = df['Date'].astype('datetime64[ns]')\n",
    "df['Difference'] = (df['date_documented'] - df['Date']).dt.days\n",
    "print(df[['Date_time','city','country','Difference']])\n"
   ]
  },
  {
   "cell_type": "code",
   "execution_count": 153,
   "metadata": {},
   "outputs": [
    {
     "name": "stdout",
     "output_type": "stream",
     "text": [
      "Hourly frequency:\n",
      "DatetimeIndex(['2018-01-01 00:00:00', '2018-01-01 01:00:00', '2018-01-01 02:00:00', '2018-01-01 03:00:00', '2018-01-01 04:00:00', '2018-01-01 05:00:00', '2018-01-01 06:00:00', '2018-01-01 07:00:00', '2018-01-01 08:00:00', '2018-01-01 09:00:00', '2018-01-01 10:00:00', '2018-01-01 11:00:00'], dtype='datetime64[ns]', freq='H')\n",
      "\n",
      "Minutely frequency:\n",
      "DatetimeIndex(['2018-01-01 00:00:00', '2018-01-01 00:01:00', '2018-01-01 00:02:00', '2018-01-01 00:03:00', '2018-01-01 00:04:00', '2018-01-01 00:05:00', '2018-01-01 00:06:00', '2018-01-01 00:07:00', '2018-01-01 00:08:00', '2018-01-01 00:09:00', '2018-01-01 00:10:00', '2018-01-01 00:11:00'], dtype='datetime64[ns]', freq='T')\n",
      "\n",
      "Secondly frequency:\n",
      "DatetimeIndex(['2018-01-01 00:00:00', '2018-01-01 00:00:01', '2018-01-01 00:00:02', '2018-01-01 00:00:03', '2018-01-01 00:00:04', '2018-01-01 00:00:05', '2018-01-01 00:00:06', '2018-01-01 00:00:07', '2018-01-01 00:00:08', '2018-01-01 00:00:09', '2018-01-01 00:00:10', '2018-01-01 00:00:11'], dtype='datetime64[ns]', freq='S')\n",
      "nMultiple Hourly frequency:\n",
      "DatetimeIndex(['2018-01-01 00:00:00', '2018-01-01 02:00:00', '2018-01-01 04:00:00', '2018-01-01 06:00:00', '2018-01-01 08:00:00', '2018-01-01 10:00:00', '2018-01-01 12:00:00', '2018-01-01 14:00:00', '2018-01-01 16:00:00', '2018-01-01 18:00:00', '2018-01-01 20:00:00', '2018-01-01 22:00:00'], dtype='datetime64[ns]', freq='2H')\n",
      "\n",
      "Multiple Minutely frequency:\n",
      "DatetimeIndex(['2018-01-01 00:00:00', '2018-01-01 00:05:00', '2018-01-01 00:10:00', '2018-01-01 00:15:00', '2018-01-01 00:20:00', '2018-01-01 00:25:00', '2018-01-01 00:30:00', '2018-01-01 00:35:00', '2018-01-01 00:40:00', '2018-01-01 00:45:00', '2018-01-01 00:50:00', '2018-01-01 00:55:00'], dtype='datetime64[ns]', freq='5T')\n",
      "\n",
      "Multiple Secondly frequency:\n",
      "DatetimeIndex(['2018-03-30', '2018-06-29', '2018-09-28', '2018-12-31', '2019-03-29', '2019-06-28', '2019-09-30', '2019-12-31', '2020-03-31', '2020-06-30', '2020-09-30', '2020-12-31'], dtype='datetime64[ns]', freq='BQ-DEC')\n",
      "\n",
      "Weekly frequency:\n",
      "DatetimeIndex(['2018-01-07', '2018-01-14', '2018-01-21', '2018-01-28', '2018-02-04', '2018-02-11', '2018-02-18', '2018-02-25', '2018-03-04', '2018-03-11', '2018-03-18', '2018-03-25'], dtype='datetime64[ns]', freq='W-SUN')\n",
      "\n",
      "Combine together day and intraday offsets-1:\n",
      "DatetimeIndex(['2018-01-01 00:00:00', '2018-01-01 02:20:00', '2018-01-01 04:40:00', '2018-01-01 07:00:00', '2018-01-01 09:20:00', '2018-01-01 11:40:00', '2018-01-01 14:00:00', '2018-01-01 16:20:00', '2018-01-01 18:40:00', '2018-01-01 21:00:00', '2018-01-01 23:20:00', '2018-01-02 01:40:00'], dtype='datetime64[ns]', freq='140T')\n",
      "\n",
      "Combine together day and intraday offsets-2:\n",
      "DatetimeIndex(['2018-01-01 00:00:00', '2018-01-02 00:00:00.000010', '2018-01-03 00:00:00.000020', '2018-01-04 00:00:00.000030', '2018-01-05 00:00:00.000040', '2018-01-06 00:00:00.000050', '2018-01-07 00:00:00.000060', '2018-01-08 00:00:00.000070', '2018-01-09 00:00:00.000080', '2018-01-10 00:00:00.000090', '2018-01-11 00:00:00.000100', '2018-01-12 00:00:00.000110'], dtype='datetime64[ns]', freq='86400000010U')\n"
     ]
    }
   ],
   "source": [
    "#Q135.      Write a pandas program to generate sequences of fixed- frequency dates and time spans.\n",
    "\n",
    "dtr = pd.date_range('2018-01-01', periods=12, freq='H')\n",
    "print(\"Hourly frequency:\")\n",
    "print(dtr)\n",
    "dtr = pd.date_range('2018-01-01', periods=12, freq='min')\n",
    "print(\"\\nMinutely frequency:\")\n",
    "print(dtr)\n",
    "dtr = pd.date_range('2018-01-01', periods=12, freq='S')\n",
    "print(\"\\nSecondly frequency:\")\n",
    "print(dtr)\n",
    "dtr = pd.date_range('2018-01-01', periods=12, freq='2H')\n",
    "print(\"nMultiple Hourly frequency:\")\n",
    "print(dtr)\n",
    "dtr = pd.date_range('2018-01-01', periods=12, freq='5min')\n",
    "print(\"\\nMultiple Minutely frequency:\")\n",
    "print(dtr)\n",
    "dtr = pd.date_range('2018-01-01', periods=12, freq='BQ')\n",
    "print(\"\\nMultiple Secondly frequency:\")\n",
    "print(dtr)\n",
    "dtr = pd.date_range('2018-01-01', periods=12, freq='w')\n",
    "print(\"\\nWeekly frequency:\")\n",
    "print(dtr)\n",
    "dtr = pd.date_range('2018-01-01', periods=12, freq='2h20min')\n",
    "print(\"\\nCombine together day and intraday offsets-1:\")\n",
    "print(dtr)\n",
    "dtr = pd.date_range('2018-01-01', periods=12, freq='1D10U')\n",
    "print(\"\\nCombine together day and intraday offsets-2:\")\n",
    "print(dtr)\n"
   ]
  },
  {
   "cell_type": "code",
   "execution_count": 154,
   "metadata": {},
   "outputs": [
    {
     "name": "stdout",
     "output_type": "stream",
     "text": [
      "DatetimeIndex(['2018-01-01 00:00:00+00:00', '2018-01-01 01:00:00+00:00', '2018-01-01 02:00:00+00:00'], dtype='datetime64[ns, UTC]', freq='H')\n",
      "\n",
      "From UTC to America/Los_Angeles:\n",
      "DatetimeIndex(['2017-12-31 16:00:00-08:00', '2017-12-31 17:00:00-08:00', '2017-12-31 18:00:00-08:00'], dtype='datetime64[ns, America/Los_Angeles]', freq='H')\n"
     ]
    }
   ],
   "source": [
    "#Q136.      Write a pandas program to manipulate and convert date times with timezone information.\n",
    "\n",
    "dtt = pd.date_range('2018-01-01', periods=3, freq='H')\n",
    "dtt = dtt.tz_localize('UTC')\n",
    "print(dtt)\n",
    "print(\"\\nFrom UTC to America/Los_Angeles:\")\n",
    "dtt = dtt.tz_convert('America/Los_Angeles')\n",
    "print(dtt)\n"
   ]
  },
  {
   "cell_type": "code",
   "execution_count": 155,
   "metadata": {},
   "outputs": [
    {
     "name": "stderr",
     "output_type": "stream",
     "text": [
      "C:\\Users\\Dell\\.conda\\envs\\ml_python\\lib\\site-packages\\ipykernel_launcher.py:8: FutureWarning: The 'get_values' method is deprecated and will be removed in a future version. Use '.to_numpy()' or '.array' instead.\n",
      "  \n"
     ]
    },
    {
     "data": {
      "image/png": "[encoded data removed]",
      "text/plain": [
       "<Figure size 1080x576 with 1 Axes>"
      ]
     },
     "metadata": {
      "needs_background": "light"
     },
     "output_type": "display_data"
    }
   ],
   "source": [
    "#Q137.      Write a pandas program to create the graphical analysis of UFO (unidentified flying object) Sightings year.\n",
    "\n",
    "import matplotlib.pyplot as plt\n",
    "import seaborn as sns\n",
    "df[\"ufo_yr\"] = df.Date.dt.year\n",
    "years_data = df.ufo_yr.value_counts()\n",
    "years_index = years_data.index  # x ticks\n",
    "years_values = years_data.get_values()\n",
    "plt.figure(figsize=(15,8))\n",
    "plt.xticks(rotation = 60)\n",
    "plt.title('UFO Sightings by Year')\n",
    "plt.xlabel(\"Year\")\n",
    "plt.ylabel(\"Number of reports\")\n",
    "years_plot = sns.barplot(x=years_index[:60],y=years_values[:60], palette = \"Reds\")\n"
   ]
  },
  {
   "cell_type": "code",
   "execution_count": 156,
   "metadata": {},
   "outputs": [
    {
     "data": {
      "text/html": [
       "<div>\n",
       "<style scoped>\n",
       "    .dataframe tbody tr th:only-of-type {\n",
       "        vertical-align: middle;\n",
       "    }\n",
       "\n",
       "    .dataframe tbody tr th {\n",
       "        vertical-align: top;\n",
       "    }\n",
       "\n",
       "    .dataframe thead th {\n",
       "        text-align: right;\n",
       "    }\n",
       "</style>\n",
       "<table border=\"1\" class=\"dataframe\">\n",
       "  <thead>\n",
       "    <tr style=\"text-align: right;\">\n",
       "      <th>Date</th>\n",
       "      <th>1</th>\n",
       "      <th>2</th>\n",
       "      <th>3</th>\n",
       "      <th>4</th>\n",
       "      <th>5</th>\n",
       "      <th>6</th>\n",
       "      <th>7</th>\n",
       "      <th>8</th>\n",
       "      <th>9</th>\n",
       "      <th>10</th>\n",
       "      <th>11</th>\n",
       "      <th>12</th>\n",
       "    </tr>\n",
       "    <tr>\n",
       "      <th>Date</th>\n",
       "      <th></th>\n",
       "      <th></th>\n",
       "      <th></th>\n",
       "      <th></th>\n",
       "      <th></th>\n",
       "      <th></th>\n",
       "      <th></th>\n",
       "      <th></th>\n",
       "      <th></th>\n",
       "      <th></th>\n",
       "      <th></th>\n",
       "      <th></th>\n",
       "    </tr>\n",
       "  </thead>\n",
       "  <tbody>\n",
       "    <tr>\n",
       "      <th>2003.0</th>\n",
       "      <td>287</td>\n",
       "      <td>230</td>\n",
       "      <td>169</td>\n",
       "      <td>204</td>\n",
       "      <td>220</td>\n",
       "      <td>271</td>\n",
       "      <td>410</td>\n",
       "      <td>499</td>\n",
       "      <td>467</td>\n",
       "      <td>424</td>\n",
       "      <td>437</td>\n",
       "      <td>344</td>\n",
       "    </tr>\n",
       "    <tr>\n",
       "      <th>2004.0</th>\n",
       "      <td>266</td>\n",
       "      <td>265</td>\n",
       "      <td>372</td>\n",
       "      <td>355</td>\n",
       "      <td>353</td>\n",
       "      <td>376</td>\n",
       "      <td>401</td>\n",
       "      <td>498</td>\n",
       "      <td>379</td>\n",
       "      <td>417</td>\n",
       "      <td>294</td>\n",
       "      <td>281</td>\n",
       "    </tr>\n",
       "    <tr>\n",
       "      <th>2005.0</th>\n",
       "      <td>228</td>\n",
       "      <td>255</td>\n",
       "      <td>327</td>\n",
       "      <td>294</td>\n",
       "      <td>271</td>\n",
       "      <td>370</td>\n",
       "      <td>419</td>\n",
       "      <td>321</td>\n",
       "      <td>480</td>\n",
       "      <td>444</td>\n",
       "      <td>420</td>\n",
       "      <td>254</td>\n",
       "    </tr>\n",
       "    <tr>\n",
       "      <th>2007.0</th>\n",
       "      <td>398</td>\n",
       "      <td>243</td>\n",
       "      <td>331</td>\n",
       "      <td>290</td>\n",
       "      <td>278</td>\n",
       "      <td>384</td>\n",
       "      <td>432</td>\n",
       "      <td>430</td>\n",
       "      <td>416</td>\n",
       "      <td>398</td>\n",
       "      <td>341</td>\n",
       "      <td>328</td>\n",
       "    </tr>\n",
       "    <tr>\n",
       "      <th>2008.0</th>\n",
       "      <td>436</td>\n",
       "      <td>345</td>\n",
       "      <td>304</td>\n",
       "      <td>404</td>\n",
       "      <td>313</td>\n",
       "      <td>443</td>\n",
       "      <td>530</td>\n",
       "      <td>468</td>\n",
       "      <td>356</td>\n",
       "      <td>485</td>\n",
       "      <td>419</td>\n",
       "      <td>317</td>\n",
       "    </tr>\n",
       "    <tr>\n",
       "      <th>2009.0</th>\n",
       "      <td>454</td>\n",
       "      <td>367</td>\n",
       "      <td>313</td>\n",
       "      <td>294</td>\n",
       "      <td>339</td>\n",
       "      <td>357</td>\n",
       "      <td>543</td>\n",
       "      <td>464</td>\n",
       "      <td>569</td>\n",
       "      <td>286</td>\n",
       "      <td>293</td>\n",
       "      <td>262</td>\n",
       "    </tr>\n",
       "    <tr>\n",
       "      <th>2010.0</th>\n",
       "      <td>258</td>\n",
       "      <td>171</td>\n",
       "      <td>236</td>\n",
       "      <td>269</td>\n",
       "      <td>306</td>\n",
       "      <td>341</td>\n",
       "      <td>793</td>\n",
       "      <td>480</td>\n",
       "      <td>414</td>\n",
       "      <td>422</td>\n",
       "      <td>316</td>\n",
       "      <td>277</td>\n",
       "    </tr>\n",
       "    <tr>\n",
       "      <th>2011.0</th>\n",
       "      <td>298</td>\n",
       "      <td>255</td>\n",
       "      <td>309</td>\n",
       "      <td>294</td>\n",
       "      <td>283</td>\n",
       "      <td>374</td>\n",
       "      <td>715</td>\n",
       "      <td>599</td>\n",
       "      <td>503</td>\n",
       "      <td>590</td>\n",
       "      <td>403</td>\n",
       "      <td>484</td>\n",
       "    </tr>\n",
       "    <tr>\n",
       "      <th>2012.0</th>\n",
       "      <td>528</td>\n",
       "      <td>357</td>\n",
       "      <td>489</td>\n",
       "      <td>462</td>\n",
       "      <td>472</td>\n",
       "      <td>695</td>\n",
       "      <td>880</td>\n",
       "      <td>827</td>\n",
       "      <td>695</td>\n",
       "      <td>620</td>\n",
       "      <td>719</td>\n",
       "      <td>613</td>\n",
       "    </tr>\n",
       "    <tr>\n",
       "      <th>2013.0</th>\n",
       "      <td>356</td>\n",
       "      <td>264</td>\n",
       "      <td>372</td>\n",
       "      <td>387</td>\n",
       "      <td>487</td>\n",
       "      <td>581</td>\n",
       "      <td>902</td>\n",
       "      <td>842</td>\n",
       "      <td>717</td>\n",
       "      <td>720</td>\n",
       "      <td>719</td>\n",
       "      <td>690</td>\n",
       "    </tr>\n",
       "  </tbody>\n",
       "</table>\n",
       "</div>"
      ],
      "text/plain": [
       "Date     1    2    3    4    5    6    7    8    9    10   11   12\n",
       "Date                                                              \n",
       "2003.0  287  230  169  204  220  271  410  499  467  424  437  344\n",
       "2004.0  266  265  372  355  353  376  401  498  379  417  294  281\n",
       "2005.0  228  255  327  294  271  370  419  321  480  444  420  254\n",
       "2007.0  398  243  331  290  278  384  432  430  416  398  341  328\n",
       "2008.0  436  345  304  404  313  443  530  468  356  485  419  317\n",
       "2009.0  454  367  313  294  339  357  543  464  569  286  293  262\n",
       "2010.0  258  171  236  269  306  341  793  480  414  422  316  277\n",
       "2011.0  298  255  309  294  283  374  715  599  503  590  403  484\n",
       "2012.0  528  357  489  462  472  695  880  827  695  620  719  613\n",
       "2013.0  356  264  372  387  487  581  902  842  717  720  719  690"
      ]
     },
     "execution_count": 156,
     "metadata": {},
     "output_type": "execute_result"
    }
   ],
   "source": [
    "#Q138.      Write a pandas program to create a comparison of the top 10 years in which the (UFO) was sighted VS each Month.\n",
    "\n",
    "most_sightings_years = df['Date'].dt.year.value_counts().head(10)\n",
    "def is_top_years(year):\n",
    "    if year in most_sightings_years.index:\n",
    "        return year\n",
    "month_vs_year = df.pivot_table(columns=df['Date'].dt.month,index=df['Date'].dt.year.apply(is_top_years),aggfunc='count',values='city')\n",
    "month_vs_year.columns = month_vs_year.columns.astype(int)\n",
    "month_vs_year"
   ]
  },
  {
   "cell_type": "code",
   "execution_count": 157,
   "metadata": {},
   "outputs": [
    {
     "name": "stdout",
     "output_type": "stream",
     "text": [
      "\n",
      "Heatmap for comparison of the top 10 years in which the UFO was sighted vs each month:\n"
     ]
    },
    {
     "data": {
      "image/png": "[encoded data removed]",
      "text/plain": [
       "<Figure size 720x576 with 2 Axes>"
      ]
     },
     "metadata": {
      "needs_background": "light"
     },
     "output_type": "display_data"
    }
   ],
   "source": [
    "#Q139.      Write a pandas program to create a heatmap (rectangular data as a colour-encoded matrix) for comparison of top 10 years in which (UFO ) was sighted VS each Month.\n",
    "\n",
    "print(\"\\nHeatmap for comparison of the top 10 years in which the UFO was sighted vs each month:\")\n",
    "plt.figure(figsize=(10,8))\n",
    "ax = sns.heatmap(month_vs_year, vmin=0, vmax=1000)\n",
    "ax.set_xlabel('Month').set_size(20)\n",
    "ax.set_ylabel('Year').set_size(20)\n"
   ]
  },
  {
   "cell_type": "code",
   "execution_count": 158,
   "metadata": {},
   "outputs": [
    {
     "name": "stdout",
     "output_type": "stream",
     "text": [
      "\n",
      "Comparison of the top 10 years in which the UFO was sighted vs each month:\n"
     ]
    },
    {
     "data": {
      "image/png": "[encoded data removed]",
      "text/plain": [
       "<Figure size 576x576 with 1 Axes>"
      ]
     },
     "metadata": {},
     "output_type": "display_data"
    }
   ],
   "source": [
    "#Q140.      Write a pandas program to create a Timewheel of Hour VS Year comparison of the top 10 years\n",
    "#           in which the (UFO) was sighted.\n",
    "\n",
    "import matplotlib as mpl\n",
    "import matplotlib.cm as cm\n",
    "print(\"\\nComparison of the top 10 years in which the UFO was sighted vs each month:\")\n",
    "def pie_heatmap(table, cmap='coolwarm_r', vmin=None, vmax=None,inner_r=0.25, pie_args={}):\n",
    "   n, m = table.shape\n",
    "   vmin= table.min().min() if vmin is None else vmin\n",
    "   vmax= table.max().max() if vmax is None else vmax\n",
    "\n",
    "   centre_circle = plt.Circle((0,0),inner_r,edgecolor='black',facecolor='white',fill=True,linewidth=0.25)\n",
    "   plt.gcf().gca().add_artist(centre_circle)\n",
    "   norm = mpl.colors.Normalize(vmin=vmin, vmax=vmax)\n",
    "   cmapper = cm.ScalarMappable(norm=norm, cmap=cmap)\n",
    "\n",
    "   for i, (row_name, row) in enumerate(table.iterrows()):\n",
    "       labels = None if i > 0 else table.columns\n",
    "       wedges = plt.pie([1] * m,radius=inner_r+float(n-i)/n, colors=[cmapper.to_rgba(x) for x in row.values],\n",
    "           labels=labels, startangle=90, counterclock=False, wedgeprops={'linewidth':-1}, **pie_args)\n",
    "       plt.setp(wedges[0], edgecolor='grey',linewidth=1.5)\n",
    "       wedges = plt.pie([1], radius=inner_r+float(n-i-1)/n, colors=['w'], labels=[row_name], startangle=-90, wedgeprops={'linewidth':0})\n",
    "       plt.setp(wedges[0], edgecolor='grey',linewidth=1.5)\n",
    "plt.figure(figsize=(8,8))\n",
    "plt.title(\"Timewheel of Hour Vs Year\",y=1.08,fontsize=30)\n",
    "pie_heatmap(month_vs_year, vmin=-200,vmax=1000,inner_r=0.2)\n"
   ]
  },
  {
   "cell_type": "code",
   "execution_count": 159,
   "metadata": {},
   "outputs": [
    {
     "name": "stdout",
     "output_type": "stream",
     "text": [
      "Values of X:\n",
      "[1, 2, 5]\n",
      "Values of Y (thrice of X):\n",
      "[4, 5, 3]\n"
     ]
    },
    {
     "data": {
      "image/png": "[encoded data removed]",
      "text/plain": [
       "<Figure size 432x288 with 1 Axes>"
      ]
     },
     "metadata": {
      "needs_background": "light"
     },
     "output_type": "display_data"
    }
   ],
   "source": [
    "#Q141.      Write a python program to draw the line using given axis values with the suitable label \n",
    "#           in the x-axis, y-axis, and a title.\n",
    "\n",
    "Y=[4,5,3]\n",
    "X=[1,2,5]\n",
    "print(\"Values of X:\")\n",
    "print(X) \n",
    "print(\"Values of Y (thrice of X):\")\n",
    "print(Y)\n",
    "plt.plot(X, Y)\n",
    "plt.xlabel('x - axis')\n",
    "plt.ylabel('y - axis')\n",
    "plt.title('Draw a line.')\n",
    "plt.show()\n"
   ]
  },
  {
   "cell_type": "code",
   "execution_count": 160,
   "metadata": {},
   "outputs": [
    {
     "data": {
      "image/png": "[encoded data removed]",
      "text/plain": [
       "<Figure size 432x288 with 1 Axes>"
      ]
     },
     "metadata": {
      "needs_background": "light"
     },
     "output_type": "display_data"
    }
   ],
   "source": [
    "#Q142.      Write a python program to draw the line charts of the financial data of the Alphabet Inc., between October.\n",
    "\n",
    "df = pd.read_csv('fdata.csv', sep=',', parse_dates=True, index_col=0)\n",
    "df.plot()\n",
    "plt.show()\n"
   ]
  },
  {
   "cell_type": "code",
   "execution_count": 161,
   "metadata": {},
   "outputs": [
    {
     "data": {
      "image/png": "[encoded data removed]",
      "text/plain": [
       "<Figure size 432x288 with 1 Axes>"
      ]
     },
     "metadata": {
      "needs_background": "light"
     },
     "output_type": "display_data"
    }
   ],
   "source": [
    "#Q143.      Write a Python program to plot two or more lines on same plot with the suitable legends \n",
    "#           of each line. The code snippet gives the output shown in the screenshot:\n",
    "\n",
    "\n",
    "x1 = [10,20,30]\n",
    "y1 = [20,40,10]\n",
    "plt.plot(x1, y1, label = \"line 1\")\n",
    "x2 = [10,20,30]\n",
    "y2 = [40,60,80]\n",
    "plt.plot(x2, y2, label = \"line 2\")\n",
    "x3 = [10,20,30]\n",
    "y3 = [10,70,70]\n",
    "plt.plot(x3, y3, label = \"line 3\")\n",
    "plt.xlabel('x - axis')\n",
    "plt.ylabel('y - axis')\n",
    "plt.title('Three lines on same plot with suitable legends ')\n",
    "plt.legend()\n",
    "plt.show()"
   ]
  },
  {
   "cell_type": "code",
   "execution_count": 162,
   "metadata": {},
   "outputs": [
    {
     "data": {
      "image/png": "[encoded data removed]",
      "text/plain": [
       "<Figure size 432x288 with 1 Axes>"
      ]
     },
     "metadata": {
      "needs_background": "light"
     },
     "output_type": "display_data"
    }
   ],
   "source": [
    "#Q144.      Write a python programming to display a bar chart of the popularity of programming languages.\n",
    "\n",
    "x = ['Java', 'C++', 'Python', 'PHP', 'JavaScript', 'C#']\n",
    "popularity = [22.2, 17.6, 8.8, 8, 7.7, 6.7]\n",
    "x_pos = [i for i, _ in enumerate(x)]\n",
    "plt.bar(x_pos, popularity, color=(0.4, 0.6, 0.8, 1.0))\n",
    "plt.xlabel(\"Languages\")\n",
    "plt.ylabel(\"Popularity\")\n",
    "plt.title(\"PopularitY of Programming Language\\n\" + \"Worldwide, Oct 2017 compared to a year ago\")\n",
    "plt.xticks(x_pos, x, rotation=90)\n",
    "plt.subplots_adjust(bottom=0.4, top=.8)\n",
    "plt.minorticks_on()\n",
    "plt.grid(which='major', linestyle='-', linewidth='0.5', color='red')\n",
    "plt.grid(which='minor', linestyle=':', linewidth='0.5', color='black')\n",
    "plt.show()"
   ]
  },
  {
   "cell_type": "code",
   "execution_count": 163,
   "metadata": {},
   "outputs": [
    {
     "data": {
      "image/png": "[encoded data removed]",
      "text/plain": [
       "<Figure size 432x288 with 1 Axes>"
      ]
     },
     "metadata": {
      "needs_background": "light"
     },
     "output_type": "display_data"
    }
   ],
   "source": [
    "#Q145.      Write a python programming to display a horizontal bar chart of the popularity of programming languages.\n",
    "\n",
    "plt.barh(x_pos, popularity, color='green')\n",
    "plt.yticks(x_pos, x)\n",
    "# Turn on the grid\n",
    "plt.minorticks_on()\n",
    "plt.title(\"PopularitY of Programming Language\\n\" + \"Worldwide, Oct 2017 compared to a year ago\")\n",
    "plt.grid(which='major', linestyle='-', linewidth='0.5', color='red')\n",
    "# Customize the minor grid\n",
    "plt.grid(which='minor', linestyle=':', linewidth='0.5', color='black')\n",
    "plt.show()"
   ]
  },
  {
   "cell_type": "code",
   "execution_count": 164,
   "metadata": {},
   "outputs": [
    {
     "data": {
      "image/png": "[encoded data removed]",
      "text/plain": [
       "<Figure size 432x288 with 1 Axes>"
      ]
     },
     "metadata": {
      "needs_background": "light"
     },
     "output_type": "display_data"
    }
   ],
   "source": [
    "#Q146.      Write a python programming to display a bar chart of the Popularity of programming languages. Increase bottom margin.\n",
    "\n",
    "plt.bar(x_pos, popularity, color=(0.4, 0.6, 0.8, 1.0))\n",
    "plt.xticks(x_pos, x, rotation=90)\n",
    "plt.subplots_adjust(bottom=0.4, top=.8)\n",
    "plt.title(\"PopularitY of Programming Language\\n\" + \"Worldwide, Oct 2017 compared to a year ago\")\n",
    "plt.minorticks_on()\n",
    "plt.grid(which='major', linestyle='-', linewidth='0.5', color='red')\n",
    "plt.grid(which='minor', linestyle=':', linewidth='0.5', color='black')\n",
    "plt.show()\n"
   ]
  },
  {
   "cell_type": "code",
   "execution_count": 165,
   "metadata": {},
   "outputs": [
    {
     "data": {
      "image/png": "[encoded data removed]",
      "text/plain": [
       "<Figure size 432x288 with 1 Axes>"
      ]
     },
     "metadata": {
      "needs_background": "light"
     },
     "output_type": "display_data"
    }
   ],
   "source": [
    "#Q147.      Write a python program to create the bar plot from a DataFrame.\n",
    "\n",
    "a=np.array([[4,8,5,7,6],[2,3,4,2,6],[4,7,4,7,8],[2,6,4,8,6],[2,4,3,3,2]])\n",
    "df=pd.DataFrame(a, columns=['a','b','c','d','e'], index=[2,4,6,8,10])\n",
    "df.plot(kind='bar')\n",
    "plt.minorticks_on()\n",
    "plt.grid(which='major', linestyle='-', linewidth='0.5', color='green')\n",
    "plt.grid(which='minor', linestyle=':', linewidth='0.5', color='black')\n",
    "plt.show()\n"
   ]
  },
  {
   "cell_type": "code",
   "execution_count": 166,
   "metadata": {},
   "outputs": [
    {
     "data": {
      "image/png": "[encoded data removed]",
      "text/plain": [
       "<Figure size 432x288 with 1 Axes>"
      ]
     },
     "metadata": {
      "needs_background": "light"
     },
     "output_type": "display_data"
    }
   ],
   "source": [
    "#Q148.      Write a python program to draw the scatter plot comparing two subject marks of Mathematics \n",
    "#           and Science. Use marks of 10 students.\n",
    "\n",
    "math_marks = [88, 92, 80, 89, 100, 80, 60, 100, 80, 34]\n",
    "science_marks = [35, 79, 79, 48, 100, 88, 32, 45, 20, 30]\n",
    "marks_range = [10, 20, 30, 40, 50, 60, 70, 80, 90, 100]\n",
    "plt.scatter(marks_range, math_marks, label='Math marks', color='r')\n",
    "plt.scatter(marks_range, science_marks, label='Science marks', color='g')\n",
    "plt.title('Scatter Plot')\n",
    "plt.xlabel('Marks Range')\n",
    "plt.ylabel('Marks Scored')\n",
    "plt.legend()\n",
    "plt.show()\n"
   ]
  },
  {
   "cell_type": "code",
   "execution_count": 167,
   "metadata": {},
   "outputs": [
    {
     "data": {
      "image/png": "[encoded data removed]",
      "text/plain": [
       "<Figure size 432x288 with 1 Axes>"
      ]
     },
     "metadata": {
      "needs_background": "light"
     },
     "output_type": "display_data"
    }
   ],
   "source": [
    "#Q149.      Write a python program to draw the scatter plot for three different groups comparing weights and heights.\n",
    "\n",
    "weight1=[67,57.2,59.6,59.64,55.8,61.2,60.45,61,56.23,56]\n",
    "height1=[101.7,197.6,98.3,125.1,113.7,157.7,136,148.9,125.3,114.9] \n",
    "weight2=[61.9,64,62.1,64.2,62.3,65.4,62.4,61.4,62.5,63.6]\n",
    "height2=[152.8,155.3,135.1,125.2,151.3,135,182.2,195.9,165.1,125.1] \n",
    "weight3=[68.2,67.2,68.4,68.7,71,71.3,70.8,70,71.1,71.7]\n",
    "height3=[165.8,170.9,192.8,135.4,161.4,136.1,167.1,235.1,181.1,177.3]\n",
    "plt.scatter(weight1,height1, label='Group1', color='r')\n",
    "plt.scatter(weight2,height2, label='Group2', color='g')\n",
    "plt.scatter(weight3,height3, label='Group3', color='b')\n",
    "plt.xlabel('weight', fontsize=16)\n",
    "plt.ylabel('height', fontsize=16)\n",
    "plt.title('Group wise Weight vs Height scatter plot',fontsize=20)\n",
    "plt.show()\n"
   ]
  },
  {
   "cell_type": "code",
   "execution_count": 168,
   "metadata": {},
   "outputs": [
    {
     "data": {
      "image/png": "[encoded data removed]",
      "text/plain": [
       "<Figure size 432x288 with 1 Axes>"
      ]
     },
     "metadata": {
      "needs_background": "light"
     },
     "output_type": "display_data"
    }
   ],
   "source": [
    "#Q150.      Write a python program to draw a scatter plot to find sea-level rise in past 100 years.\n",
    "\n",
    "# Link for data set      \"https://github.com/datasets/sea-level-rise\"\n",
    "\n",
    "data = pd.read_csv('data.csv')\n",
    "year = data['Year']\n",
    "sea_levels = data['CSIRO - Adjusted sea level (inches)']\n",
    "plt.scatter(year, sea_levels, edgecolors='g')\n",
    "plt.xlabel('Year')\n",
    "plt.ylabel('Sea Level (inches)')\n",
    "plt.title('Rise in Sealevel')\n",
    "plt.show()\n"
   ]
  }
 ],
 "metadata": {
  "kernelspec": {
   "display_name": "Python 3",
   "language": "python",
   "name": "python3"
  },
  "language_info": {
   "codemirror_mode": {
    "name": "ipython",
    "version": 3
   },
   "file_extension": ".py",
   "mimetype": "text/x-python",
   "name": "python",
   "nbconvert_exporter": "python",
   "pygments_lexer": "ipython3",
   "version": "3.7.6"
  }
 },
 "nbformat": 4,
 "nbformat_minor": 2
}
