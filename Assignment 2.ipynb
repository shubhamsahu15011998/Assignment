{
 "cells": [
  {
   "cell_type": "markdown",
   "metadata": {},
   "source": [
    "TASK 1"
   ]
  },
  {
   "cell_type": "code",
   "execution_count": 1,
   "metadata": {},
   "outputs": [
    {
     "name": "stdout",
     "output_type": "stream",
     "text": [
      "34\n"
     ]
    }
   ],
   "source": [
    "# 1.1       Write a Python Program to implement your own myreduce() function which works exactly like\n",
    "#           Python's built-in function reduce()\n",
    "\n",
    "def myreduce(fun,data):\n",
    "    result=data[0]\n",
    "    for i in range(1,len(data)):\n",
    "        result=fun(result,data[i])\n",
    "    return result\n",
    "        \n",
    "find_max = lambda a,b: a if a>b else b\n",
    "my_list = [2,3,4,1,6,2,2,12,34,22,1]\n",
    "print(myreduce(find_max,my_list))"
   ]
  },
  {
   "cell_type": "code",
   "execution_count": 2,
   "metadata": {},
   "outputs": [
    {
     "name": "stdout",
     "output_type": "stream",
     "text": [
      "[2, 4, 6, 2, 2, 12, 34, 22]\n"
     ]
    }
   ],
   "source": [
    "# 1.2   Write a Python program to implement your own myfilter() function which works exactly like\n",
    "#       Python's built-in function filter()\n",
    "\n",
    "def myfilter(fun,data):\n",
    "    data = type(data)([i for i in data if fun(i)])\n",
    "    return data\n",
    "        \n",
    "find_even = lambda a : a%2==0\n",
    "my_list = [2,3,4,1,6,2,2,12,34,22,1]\n",
    "print(myfilter(find_even,my_list))"
   ]
  },
  {
   "cell_type": "code",
   "execution_count": 3,
   "metadata": {},
   "outputs": [
    {
     "name": "stdout",
     "output_type": "stream",
     "text": [
      "['A', 'C', 'A', 'D', 'G', 'I', 'L', 'D']\n",
      "['x', 'xx', 'xxx', 'xxxx', 'y', 'yy', 'yyy', 'yyyy', 'z', 'zz', 'zzz', 'zzzz']\n",
      "['x', 'y', 'z', 'xx', 'yy', 'zz', 'xxxx', 'yyyy', 'zzzz']\n",
      "[[2], [3], [4], [3], [4], [5], [4], [5], [6]]\n",
      "[[2, 3, 4, 5], [3, 4, 5, 6], [4, 5, 6, 7], [5, 6, 7, 8]]\n",
      "[(1, 1), (2, 1), (3, 1), (1, 2), (2, 2), (3, 2), (1, 3), (2, 3), (3, 3)]\n"
     ]
    }
   ],
   "source": [
    "# 2.                    Implement List comprehensions to produce the following lists.\n",
    "#                       Write List comprehensions to produce the following Lists\n",
    "\n",
    "#                       ['A', 'C', 'A', 'D', 'G', 'I', ’L’, ‘ D’]\n",
    "string = 'ACADGILD'\n",
    "list_1 = [i for i in string]\n",
    "print(list_1)\n",
    "\n",
    "#                       ['x', 'xx', 'xxx', 'xxxx', 'y', 'yy', 'yyy', 'yyyy', 'z', 'zz', 'zzz', 'zzzz']\n",
    "list_2 = [ chr(ord('x')+i)*j for i in range(0,3) for j in range(1,5) ]\n",
    "print(list_2)\n",
    "\n",
    "#                       ['x', 'y', 'z', 'xx', 'yy', 'zz', 'xx', 'yy', 'zz', 'xxxx', 'yyyy', 'zzzz']\n",
    "list_3 = [ chr(ord('x')+j)*pow(2,i) for i in range(0,3) for j in range(0,3) ]\n",
    "print(list_3)\n",
    "\n",
    "#                       [[2], [3], [4], [3], [4], [5], [4], [5], [6]]\n",
    "list_4 = [ [i+j] for i in range(2,5) for j in range(0,3) ]\n",
    "print(list_4)\n",
    "\n",
    "#                       [[2, 3, 4, 5], [3, 4, 5, 6], [4, 5, 6, 7], [5, 6, 7, 8]]\n",
    "list_5 = [ [i+j for j in range(0,4)] for i in range(2,6)  ]\n",
    "print(list_5)\n",
    "\n",
    "#                       [(1, 1), (2, 1), (3, 1), (1, 2), (2, 2), (3, 2), (1, 3), (2, 3), (3, 3)]\n",
    "list_6 = [ (j,i) for i in range(1,4) for j in range(1,4) ]\n",
    "print(list_6)\n"
   ]
  },
  {
   "cell_type": "code",
   "execution_count": 4,
   "metadata": {},
   "outputs": [
    {
     "name": "stdout",
     "output_type": "stream",
     "text": [
      "Competitive\n"
     ]
    }
   ],
   "source": [
    "# 3.    Implement a function longestWord() that takes a list of words and returns the longest one.\n",
    "\n",
    "def longestWord(list_1):\n",
    "    max_length=len(list_1[0])\n",
    "    max_i=0\n",
    "    for i in range(1,len(list_1)):\n",
    "        if(len(list_1[i])>max_length):\n",
    "            max_length=len(list_1[i])\n",
    "            max_i=i\n",
    "    return list_1[max_i]\n",
    "    \n",
    "list_1 = ['Shubham','Kumar','Sahu','Likes','Competitive','Coding']    \n",
    "          \n",
    "print(longestWord(list_1))\n",
    "\n"
   ]
  },
  {
   "cell_type": "raw",
   "metadata": {},
   "source": []
  },
  {
   "cell_type": "markdown",
   "metadata": {},
   "source": [
    "TASK 2"
   ]
  },
  {
   "cell_type": "code",
   "execution_count": 5,
   "metadata": {},
   "outputs": [
    {
     "name": "stdout",
     "output_type": "stream",
     "text": [
      "Enter the 3 sides of triangle : 3 4 5\n",
      "Area of triangle is  6.0\n"
     ]
    }
   ],
   "source": [
    "#1.1    Write a Python Program(with class concepts) to find the area of the triangle using the below formula.\n",
    "#       area = (s*(s-a)*(s-b)*(s-c)) ** 0.5\n",
    "#       Function to take the length of the sides of triangle from user should be defined in the parent\n",
    "#       class and function to calculate the area should be defined in subclass.\n",
    "\n",
    "class triangle:\n",
    "    def __init__(self):\n",
    "        self.a,self.b,self.c=map(int,input(\"Enter the 3 sides of triangle : \").split())\n",
    "        \n",
    "class area(triangle):\n",
    "    def find_area(self):\n",
    "        #super(triangle, self).__init()\n",
    "        s = (self.a + self.b + self.c)/2\n",
    "        return  (s*(s-self.a)*(s-self.b)*(s-self.c)) ** 0.5\n",
    "    \n",
    "d = area()\n",
    "print(\"Area of triangle is \",d.find_area());\n",
    "    "
   ]
  },
  {
   "cell_type": "code",
   "execution_count": 6,
   "metadata": {},
   "outputs": [
    {
     "name": "stdout",
     "output_type": "stream",
     "text": [
      "['Shubham', 'Competitive', 'Coding']\n"
     ]
    }
   ],
   "source": [
    "#1.2    Write a function filter_long_words() that takes a list of words and an integer n and returns the list\n",
    "#       of words that are longer than n.\n",
    "\n",
    "def filter_long_words(list_1,n):\n",
    "    new_list=[]\n",
    "    for i in list_1:\n",
    "        if(len(i)>n):\n",
    "            new_list.append(i)\n",
    "    return new_list\n",
    "\n",
    "list_1 = ['Shubham','Kumar','Sahu','Likes','Competitive','Coding']    \n",
    "          \n",
    "print(filter_long_words(list_1,5))\n"
   ]
  },
  {
   "cell_type": "code",
   "execution_count": 7,
   "metadata": {},
   "outputs": [
    {
     "name": "stdout",
     "output_type": "stream",
     "text": [
      "[7, 5, 4, 5, 11, 6]\n"
     ]
    }
   ],
   "source": [
    "#2.1    Write a Python program using function concept that maps list of words into a list of integers\n",
    "#       representing the lengths of the corresponding words .\n",
    "#       Hint: If a list [ ab,cde,erty] is passed on to the python function output should come as [2,3,4]\n",
    "#       Here 2,3 and 4 are the lengths of the words in the list.\n",
    "\n",
    "fun = [lambda i:len(i)]\n",
    "\n",
    "list_1 = ['Shubham','Kumar','Sahu','Likes','Competitive','Coding']    \n",
    "\n",
    "length_of_string = list(map(lambda i:len(i),list_1))\n",
    "\n",
    "print(length_of_string)"
   ]
  },
  {
   "cell_type": "code",
   "execution_count": 8,
   "metadata": {},
   "outputs": [
    {
     "name": "stdout",
     "output_type": "stream",
     "text": [
      "False\n",
      "True\n",
      "False\n"
     ]
    }
   ],
   "source": [
    "#2.2    Write a Python function which takes a character (i.e. a string of length 1) and returns True if it is\n",
    "#       a vowel, False otherwise.\n",
    "\n",
    "def isvowel(char):\n",
    "    if(char=='a' or char=='e' or char=='i' or char=='o' or char=='u'):\n",
    "        return True\n",
    "    else  :\n",
    "        return False\n",
    "        \n",
    "print(isvowel('y'))\n",
    "print(isvowel('u'))\n",
    "print(isvowel('w'))\n"
   ]
  },
  {
   "cell_type": "code",
   "execution_count": null,
   "metadata": {},
   "outputs": [],
   "source": []
  },
  {
   "cell_type": "code",
   "execution_count": null,
   "metadata": {},
   "outputs": [],
   "source": []
  }
 ],
 "metadata": {
  "kernelspec": {
   "display_name": "Python 3",
   "language": "python",
   "name": "python3"
  },
  "language_info": {
   "codemirror_mode": {
    "name": "ipython",
    "version": 3
   },
   "file_extension": ".py",
   "mimetype": "text/x-python",
   "name": "python",
   "nbconvert_exporter": "python",
   "pygments_lexer": "ipython3",
   "version": "3.7.6"
  }
 },
 "nbformat": 4,
 "nbformat_minor": 2
}
