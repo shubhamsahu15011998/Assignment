{
 "cells": [
  {
   "cell_type": "markdown",
   "metadata": {},
   "source": [
    "# TASK 1"
   ]
  },
  {
   "cell_type": "code",
   "execution_count": 1,
   "metadata": {},
   "outputs": [
    {
     "name": "stdout",
     "output_type": "stream",
     "text": [
      "Enter the divident and divisor 5 0\n",
      "Exception division by zero occured\n",
      "Enter the divident and divisor 8 2\n",
      "The quotient is  4.0\n"
     ]
    }
   ],
   "source": [
    "# 1           Write a function to compute 5/0 and use try/except to catch the exceptions\n",
    " \n",
    "def enter_input():\n",
    "    divident, divisor = map(int,input(\"Enter the divident and divisor \").split())\n",
    "    find_quotient(divident, divisor)\n",
    "    \n",
    "def find_quotient(divident, divisor):\n",
    "    try:\n",
    "        print(\"The quotient is \",divident/divisor) \n",
    "    except Exception as e:\n",
    "        print(\"Exception\",e,\"occured\")\n",
    "        enter_input()\n",
    "        \n",
    "enter_input()"
   ]
  },
  {
   "cell_type": "code",
   "execution_count": 2,
   "metadata": {},
   "outputs": [
    {
     "name": "stdout",
     "output_type": "stream",
     "text": [
      "Americans play baseball\n",
      "Americans play cricket\n",
      "Americans watch baseball\n",
      "Americans watch cricket\n",
      "Indians play baseball\n",
      "Indians play cricket\n",
      "Indians watch baseball\n",
      "Indians watch cricket\n"
     ]
    }
   ],
   "source": [
    "# 2             Implement a Python program to generate all sentences where subject is in [\"Americans\",\n",
    "#               \"Indians\"] and verb is in [\"Play\", \"watch\"] and the object is in [\"Baseball\",\"cricket\"].\n",
    "\n",
    "subject = [\"Americans\",\"Indians\"]\n",
    "verb = [\"play\", \"watch\"]\n",
    "obj = [\"baseball\",\"cricket\"]\n",
    "        \n",
    "for i in subject:\n",
    "    for j in verb:\n",
    "        for k in obj:\n",
    "            print(i,j,k)"
   ]
  },
  {
   "cell_type": "raw",
   "metadata": {},
   "source": []
  },
  {
   "cell_type": "markdown",
   "metadata": {},
   "source": [
    "# TASK 2"
   ]
  },
  {
   "cell_type": "code",
   "execution_count": 3,
   "metadata": {},
   "outputs": [
    {
     "name": "stdout",
     "output_type": "stream",
     "text": [
      "Enter the number of rows you want in output matrix : 7\n",
      "Enter the space separated vector of number : 8 2 6 3 7 4 5\n",
      "[[1, 8, 64, 512, 4096, 32768, 262144], [1, 2, 4, 8, 16, 32, 64], [1, 6, 36, 216, 1296, 7776, 46656], [1, 3, 9, 27, 81, 243, 729], [1, 7, 49, 343, 2401, 16807, 117649], [1, 4, 16, 64, 256, 1024, 4096], [1, 5, 25, 125, 625, 3125, 15625]]\n"
     ]
    }
   ],
   "source": [
    "#1.                 Write a function so that the columns of the output matrix are powers of the input vector.\n",
    "#                   The order of the powers is determined by the increasing boolean argument. Specifically, when\n",
    "#                   increasing is False, the i-th output column is the input vector raised element-wise to the power\n",
    "#                   of N - i - 1.\n",
    "\n",
    "N = int(input(\"Enter the number of rows you want in output matrix : \"))\n",
    "input_vector = list(map(int,(input(\"Enter the space separated vector of number : \")).split()))\n",
    "\n",
    "output = [[ i**j for j in range(N) ] for i in input_vector]\n",
    "        \n",
    "print(output)    "
   ]
  }
 ],
 "metadata": {
  "kernelspec": {
   "display_name": "Python 3",
   "language": "python",
   "name": "python3"
  },
  "language_info": {
   "codemirror_mode": {
    "name": "ipython",
    "version": 3
   },
   "file_extension": ".py",
   "mimetype": "text/x-python",
   "name": "python",
   "nbconvert_exporter": "python",
   "pygments_lexer": "ipython3",
   "version": "3.7.6"
  }
 },
 "nbformat": 4,
 "nbformat_minor": 2
}
