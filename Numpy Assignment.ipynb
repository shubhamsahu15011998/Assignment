{
 "cells": [
  {
   "cell_type": "markdown",
   "metadata": {},
   "source": [
    "# NUMPY ASSIGNMENT"
   ]
  },
  {
   "cell_type": "code",
   "execution_count": 1,
   "metadata": {},
   "outputs": [
    {
     "name": "stdout",
     "output_type": "stream",
     "text": [
      "Enter the number of rows you want in output matrix : 5\n",
      "Enter the space separated vector of number : 4 6 3 8 10\n"
     ]
    },
    {
     "data": {
      "text/plain": [
       "matrix([[    1,     4,    16,    64,   256],\n",
       "        [    1,     6,    36,   216,  1296],\n",
       "        [    1,     3,     9,    27,    81],\n",
       "        [    1,     8,    64,   512,  4096],\n",
       "        [    1,    10,   100,  1000, 10000]])"
      ]
     },
     "execution_count": 1,
     "metadata": {},
     "output_type": "execute_result"
    }
   ],
   "source": [
    "#       Write a function so that the columns of the output matrix are powers of the input\n",
    "#       vector.\n",
    "#       The order of the powers is determined by the increasing boolean argument. Specifically, when\n",
    "#       increasing is False, the i-th output column is the input vector raised element-wise to the power\n",
    "#       of N - i - 1.\n",
    "#       HINT: Such a matrix with a geometric progression in each row is named for Alexandre-\n",
    "#       Theophile Vandermonde.\n",
    "\n",
    "import numpy as np\n",
    "\n",
    "N = int(input(\"Enter the number of rows you want in output matrix : \"))\n",
    "input_vector = list(map(int,(input(\"Enter the space separated vector of number : \")).split()))\n",
    "\n",
    "output = np.mat([np.array([ i**j for j in range(N) ]) for i in input_vector])\n",
    "        \n",
    "output"
   ]
  },
  {
   "cell_type": "code",
   "execution_count": null,
   "metadata": {},
   "outputs": [],
   "source": []
  },
  {
   "cell_type": "code",
   "execution_count": 2,
   "metadata": {},
   "outputs": [
    {
     "name": "stdout",
     "output_type": "stream",
     "text": [
      "<class 'pandas.core.series.Series'>\n",
      "0       5.000000\n",
      "1       4.666667\n",
      "2       5.666667\n",
      "3       6.666667\n",
      "4       9.666667\n",
      "5      28.666667\n",
      "6      49.333333\n",
      "7      72.666667\n",
      "8      84.000000\n",
      "9      93.333333\n",
      "10    116.333333\n",
      "dtype: float64\n"
     ]
    }
   ],
   "source": [
    "#           Given a sequence of n values x1, x2, ..., xn and a window size k>0, the k-th moving average of\n",
    "#           the given sequence is defined as follows:\n",
    "#           The moving average sequence has n-k+1 elements as shown below.\n",
    "#           The moving averages with k=4 of a ten-value sequence (n=10) is shown below\n",
    "#                     i  1  2  3  4  5  6  7  8  9  10\n",
    "#                   ==== == == == == == == == == == ==\n",
    "#           Input 10 20 30 40 50 60 70 80 90 100\n",
    "#                   y1 25 = (10+20+30+40)/4\n",
    "#                   y2 35 = (20+30+40+50)/4\n",
    "#                   y3 45 = (30+40+50+60)/4\n",
    "#                   y4 55 = (40+50+60+70)/4\n",
    "#                   y5 65 = (50+60+70+80)/4\n",
    "#                   y6 75 = (60+70+80+90)/4\n",
    "#                   y7 85 = (70+80+90+100)/4\n",
    "#           Thus, the moving average sequence has n-k+1=10-4+1=7 values.\n",
    "#           Question: Write a function to find moving average in an array over a window:\n",
    "#           Test it over [3, 5, 7, 2, 8, 10, 11, 65, 72, 81, 99, 100, 150] and window of 3.\n",
    "\n",
    "import pandas as pd\n",
    "\n",
    "def return_average(window_size,series):\n",
    "    cummulative_sum = series.cumsum()\n",
    "    print(type(cummulative_sum))\n",
    "    cummulative_sum = pd.concat([pd.Series([0]),cummulative_sum])\n",
    "    cummulative_sum.index = [i for i in range(0,cummulative_sum.size)]\n",
    "    ret = pd.Series()\n",
    "    for i in range(window_size,cummulative_sum.size):\n",
    "        ret = ret.append(pd.Series((cummulative_sum[i]-cummulative_sum[i-window_size])/window_size))\n",
    "    ret.index = [i for i in range(0,ret.size)]\n",
    "    return ret\n",
    "        \n",
    "input_series =  pd.Series([3, 5, 7, 2, 8, 10, 11, 65, 72, 81, 99, 100, 150])\n",
    "window_size = 3\n",
    "\n",
    "print(return_average(window_size,input_series))\n"
   ]
  }
 ],
 "metadata": {
  "kernelspec": {
   "display_name": "Python 3",
   "language": "python",
   "name": "python3"
  },
  "language_info": {
   "codemirror_mode": {
    "name": "ipython",
    "version": 3
   },
   "file_extension": ".py",
   "mimetype": "text/x-python",
   "name": "python",
   "nbconvert_exporter": "python",
   "pygments_lexer": "ipython3",
   "version": "3.7.6"
  }
 },
 "nbformat": 4,
 "nbformat_minor": 2
}
